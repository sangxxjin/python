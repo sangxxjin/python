{
  "nbformat": 4,
  "nbformat_minor": 0,
  "metadata": {
    "colab": {
      "provenance": [],
      "authorship_tag": "ABX9TyMkBL7s6Ppb1uquoIjOP77J",
      "include_colab_link": true
    },
    "kernelspec": {
      "name": "python3",
      "display_name": "Python 3"
    },
    "language_info": {
      "name": "python"
    }
  },
  "cells": [
    {
      "cell_type": "markdown",
      "metadata": {
        "id": "view-in-github",
        "colab_type": "text"
      },
      "source": [
        "<a href=\"https://colab.research.google.com/github/sangxxjin/python/blob/main/python_06.ipynb\" target=\"_parent\"><img src=\"https://colab.research.google.com/assets/colab-badge.svg\" alt=\"Open In Colab\"/></a>"
      ]
    },
    {
      "cell_type": "code",
      "execution_count": null,
      "metadata": {
        "id": "cFRPiOUn40Fa"
      },
      "outputs": [],
      "source": [
        "print(list(range(1,6,2)))"
      ]
    },
    {
      "cell_type": "code",
      "source": [
        "list_1 = ['apple','banana']\n",
        "print(list_1)\n",
        "print(list(range(1,10,2)))\n",
        "print(list(enumerate(range(1,10,2))))  #enumerate는 기본적으로 0부터 시작\n",
        "# print(enumerate(range(1,10,2)))\n",
        "print(list(enumerate(range(1,10,2),start = 1)))\n",
        "print(list(enumerate(range(1,10,2),start = 10)))"
      ],
      "metadata": {
        "id": "M_8mI31K6en7"
      },
      "execution_count": null,
      "outputs": []
    },
    {
      "cell_type": "code",
      "source": [
        "# 축약\n",
        "sum = 0\n",
        "sum = sum + 1\n",
        "print(sum)\n",
        "sum += 1\n",
        "print(sum)"
      ],
      "metadata": {
        "id": "ezM9LX0c6g9A"
      },
      "execution_count": null,
      "outputs": []
    },
    {
      "cell_type": "code",
      "source": [
        "#list = [1, 4, 9, 16]\n",
        "\n",
        "# 기본\n",
        "list_2 = []\n",
        "for x in range(1,5):\n",
        "  list_2.append(x*x)  #** = 제곱\n",
        "print(list_2)\n",
        "\n",
        "list_3 = [x*x for x in range(1,5)]\n",
        "print(list_3)"
      ],
      "metadata": {
        "colab": {
          "base_uri": "https://localhost:8080/"
        },
        "id": "bja5bZwS6jAs",
        "outputId": "d1b8f738-3c93-4e14-e750-a7eca625b981"
      },
      "execution_count": 1,
      "outputs": [
        {
          "output_type": "stream",
          "name": "stdout",
          "text": [
            "[1, 4, 9, 16]\n",
            "[1, 4, 9, 16]\n"
          ]
        }
      ]
    },
    {
      "cell_type": "code",
      "source": [
        "# 기본\n",
        "even_list = []\n",
        "for i in range(1,11):\n",
        "  if i%2 == 0:\n",
        "    even_list.append(i)\n",
        "print(even_list)\n",
        "\n",
        "# 축약\n",
        "even_list_2 = [i for i in range(1,11) if i%2==0]\n",
        "print(even_list)"
      ],
      "metadata": {
        "colab": {
          "base_uri": "https://localhost:8080/"
        },
        "id": "WPzT1ekj6kWc",
        "outputId": "40807fdc-dab6-48fc-eb54-e9772861037d"
      },
      "execution_count": 2,
      "outputs": [
        {
          "output_type": "stream",
          "name": "stdout",
          "text": [
            "[2, 4, 6, 8, 10]\n",
            "[2, 4, 6, 8, 10]\n"
          ]
        }
      ]
    },
    {
      "cell_type": "code",
      "source": [
        "# dict_1 = {'apple':1, 'banana':2}\n",
        "# word2id = {'관상용':0, '심지':1, '길가':2, '빈터':3, '자라':4, '야생종':5}\n",
        "\n",
        "word2id = {}\n",
        "text = \"관상용 심지 길가 빈터 자라 야생종\"\n",
        "text_list = text.split()\n",
        "print(text_list)\n",
        "for id, word in enumerate(text_list):\n",
        "  print(id ,'=>', word)\n",
        "  word2id[word] = id\n",
        "print(word2id)\n",
        "\n",
        "id2word = {}\n",
        "for word, id in enumerate(text_list):\n",
        "  print(word ,'=>', id)\n",
        "  word2id[word] = id\n",
        "  id2word[id] = word\n",
        "print(id2word)"
      ],
      "metadata": {
        "id": "YlChySkZ7idd"
      },
      "execution_count": null,
      "outputs": []
    },
    {
      "cell_type": "code",
      "source": [
        "for i in range(1,11):\n",
        "  print(i, end = ' ')\n",
        "print()\n",
        "for i in range(1,11):\n",
        "  if i < 6:\n",
        "    print('--')\n",
        "print('-------------')\n",
        "for i in range(1,11):\n",
        "  print(i, end = ' ')\n",
        "  if i > 6:\n",
        "    print(\"--\")\n",
        "print(\"+++++++++++++\")\n",
        "for i in range(1,11):\n",
        "  print(i, end = ' ')\n",
        "  if i > 4:\n",
        "    print(\"--\")\n",
        "    break"
      ],
      "metadata": {
        "id": "RjrJxfzk7kV_"
      },
      "execution_count": null,
      "outputs": []
    },
    {
      "cell_type": "code",
      "source": [
        "# while문\n",
        "while True:   #while 조건식:\n",
        "  #실행문\n",
        "  break\n",
        "\n",
        "while False:\n",
        "  #실행문"
      ],
      "metadata": {
        "id": "Deb1OOxf7lnP"
      },
      "execution_count": null,
      "outputs": []
    },
    {
      "cell_type": "code",
      "source": [
        "for i in range(10):\n",
        "  print(i, end = ' ')\n",
        "  if i > 5:\n",
        "    break\n",
        "print()\n",
        "\n",
        "k = 0\n",
        "while k < 7:\n",
        "  print(k, end = ' ')\n",
        "  k += 1"
      ],
      "metadata": {
        "id": "XuhQMW5n7m4h"
      },
      "execution_count": null,
      "outputs": []
    }
  ]
}