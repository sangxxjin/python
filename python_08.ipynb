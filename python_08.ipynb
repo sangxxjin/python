{
  "nbformat": 4,
  "nbformat_minor": 0,
  "metadata": {
    "colab": {
      "provenance": [],
      "authorship_tag": "ABX9TyNdKK3axVvjmMCpMU6tI/fk",
      "include_colab_link": true
    },
    "kernelspec": {
      "name": "python3",
      "display_name": "Python 3"
    },
    "language_info": {
      "name": "python"
    }
  },
  "cells": [
    {
      "cell_type": "markdown",
      "metadata": {
        "id": "view-in-github",
        "colab_type": "text"
      },
      "source": [
        "<a href=\"https://colab.research.google.com/github/sangxxjin/python/blob/main/python_08.ipynb\" target=\"_parent\"><img src=\"https://colab.research.google.com/assets/colab-badge.svg\" alt=\"Open In Colab\"/></a>"
      ]
    },
    {
      "cell_type": "code",
      "execution_count": null,
      "metadata": {
        "colab": {
          "base_uri": "https://localhost:8080/"
        },
        "id": "ci6v9pX90Ivq",
        "outputId": "e688a316-ef3c-4398-b2f0-924816c5bb6c"
      },
      "outputs": [
        {
          "output_type": "stream",
          "name": "stdout",
          "text": [
            "1\n"
          ]
        }
      ],
      "source": [
        "sum=0\n",
        "sum=sum+1\n",
        "print(sum)"
      ]
    },
    {
      "cell_type": "code",
      "source": [
        "score=50\n",
        "if score>=60:\n",
        "  result='pass'\n",
        "else:\n",
        "  result='fail'\n",
        "print(result)"
      ],
      "metadata": {
        "colab": {
          "base_uri": "https://localhost:8080/"
        },
        "id": "YMC_jALz04zn",
        "outputId": "2673f1d1-44f0-47f3-ecca-be30701f64a7"
      },
      "execution_count": null,
      "outputs": [
        {
          "output_type": "stream",
          "name": "stdout",
          "text": [
            "fail\n"
          ]
        }
      ]
    },
    {
      "cell_type": "code",
      "source": [
        "result_1='pass' if score >= 60 else 'fail'\n",
        "print(result_1)"
      ],
      "metadata": {
        "colab": {
          "base_uri": "https://localhost:8080/"
        },
        "id": "uhdd4LjX122n",
        "outputId": "61a95248-f0d4-4992-b52b-4d505fb088a6"
      },
      "execution_count": null,
      "outputs": [
        {
          "output_type": "stream",
          "name": "stdout",
          "text": [
            "fail\n"
          ]
        }
      ]
    },
    {
      "cell_type": "code",
      "source": [
        "list_1=[]\n",
        "for i in range(1,6):\n",
        "  list_1.append(i*i)\n",
        "print(list_1)"
      ],
      "metadata": {
        "colab": {
          "base_uri": "https://localhost:8080/"
        },
        "id": "XIDKGlab2bFv",
        "outputId": "1d9e19d9-61d8-4775-996a-36efd66b2037"
      },
      "execution_count": null,
      "outputs": [
        {
          "output_type": "stream",
          "name": "stdout",
          "text": [
            "[1, 4, 9, 16, 25]\n"
          ]
        }
      ]
    },
    {
      "cell_type": "code",
      "source": [
        "list_2=[i*i for i in range(1,6)]\n",
        "print(list_2)"
      ],
      "metadata": {
        "colab": {
          "base_uri": "https://localhost:8080/"
        },
        "id": "9XLApMXS2652",
        "outputId": "701adab0-c610-4d1f-981c-670ac32fe449"
      },
      "execution_count": null,
      "outputs": [
        {
          "output_type": "stream",
          "name": "stdout",
          "text": [
            "[1, 4, 9, 16, 25]\n"
          ]
        }
      ]
    },
    {
      "cell_type": "code",
      "source": [
        "def my_squre(x):\n",
        "  return x*x\n",
        "print(my_squre(3))\n",
        "\n",
        "my_f = lambda x: x*x\n",
        "print(my_f(3))"
      ],
      "metadata": {
        "colab": {
          "base_uri": "https://localhost:8080/"
        },
        "id": "-0QqIgAl3MD3",
        "outputId": "05f8d141-448d-4a81-d423-a43b9ab302a3"
      },
      "execution_count": null,
      "outputs": [
        {
          "output_type": "stream",
          "name": "stdout",
          "text": [
            "9\n",
            "9\n"
          ]
        }
      ]
    },
    {
      "cell_type": "markdown",
      "source": [
        "sorted() 함수는 파이썬 내장 함수 중 하나로, iterable(반복 가능한) 객체의 요소들을 오름차순으로 정렬해주는 함수입니다. sort() 메서드와 달리, sorted() 함수는 정렬된 새로운 리스트를 반환합니다.\n",
        "\n",
        "sorted() 함수는 아래와 같은 형태로 사용할 수 있습니다."
      ],
      "metadata": {
        "id": "UED8b5B2_pa-"
      }
    },
    {
      "cell_type": "code",
      "source": [
        "sorted(iterable, key=None, reverse=False)"
      ],
      "metadata": {
        "id": "FNIUNA7B_q_e"
      },
      "execution_count": null,
      "outputs": []
    },
    {
      "cell_type": "markdown",
      "source": [
        "iterable: 정렬할 iterable 객체입니다. 리스트, 튜플, 셋, 딕셔너리 등이 사용될 수 있습니다.\n",
        "key (옵션): 정렬에 사용할 키 함수입니다. 기본값은 None입니다.\n",
        "reverse (옵션): 정렬 순서를 반대로 정렬할 지를 결정합니다. True면 내림차순으로 정렬하고, False면 오름차순으로 정렬합니다. 기본값은 False입니다.\n",
        "예를 들어, 아래와 같이 리스트를 정렬할 수 있습니다."
      ],
      "metadata": {
        "id": "dCIlmHpV_ukB"
      }
    },
    {
      "cell_type": "code",
      "source": [
        "my_list = [3, 1, 4, 1, 5, 9, 2, 6, 5, 3, 5]\n",
        "new_list = sorted(my_list)  # 리스트를 오름차순으로 정렬한 새로운 리스트를 반환\n",
        "print(new_list)  # 출력 결과: [1, 1, 2, 3, 3, 4, 5, 5, 5, 6, 9]\n"
      ],
      "metadata": {
        "id": "CfsIHACB_woq"
      },
      "execution_count": null,
      "outputs": []
    },
    {
      "cell_type": "markdown",
      "source": [
        "reverse 옵션을 사용하여 내림차순으로 정렬할 수도 있습니다."
      ],
      "metadata": {
        "id": "Y5QNDdVb_x9G"
      }
    },
    {
      "cell_type": "code",
      "source": [
        "my_list = [3, 1, 4, 1, 5, 9, 2, 6, 5, 3, 5]\n",
        "new_list = sorted(my_list, reverse=True)  # 리스트를 내림차순으로 정렬한 새로운 리스트를 반환\n",
        "print(new_list)  # 출력 결과: [9, 6, 5, 5, 5, 4, 3, 3, 2, 1, 1]\n"
      ],
      "metadata": {
        "id": "9R0LcnYx_3UX"
      },
      "execution_count": null,
      "outputs": []
    },
    {
      "cell_type": "markdown",
      "source": [
        "key 옵션을 사용하여 정렬 기준을 지정할 수도 있습니다. 예를 들어, 아래와 같이 문자열의 길이를 기준으로 정렬할 수 있습니다."
      ],
      "metadata": {
        "id": "vrWMHHe5_4PT"
      }
    },
    {
      "cell_type": "code",
      "source": [
        "my_list = ['apple', 'banana', 'kiwi', 'orange']\n",
        "new_list = sorted(my_list, key=len)  # 문자열의 길이를 기준으로 정렬한 새로운 리스트를 반환\n",
        "print(new_list)  # 출력 결과: ['kiwi', 'apple', 'banana', 'orange']\n"
      ],
      "metadata": {
        "id": "sUyIRZ2M_6YM"
      },
      "execution_count": null,
      "outputs": []
    },
    {
      "cell_type": "code",
      "source": [
        "list_3=[2,4,1,5]\n",
        "print(list_3)\n",
        "# total = sum(list_3)\n",
        "# print(total)\n",
        "list_sorted=sorted(list_3)\n",
        "print(list_sorted)\n",
        "list_sorted_r=sorted(list_3,reverse=True)\n",
        "print(list_sorted_r)"
      ],
      "metadata": {
        "colab": {
          "base_uri": "https://localhost:8080/"
        },
        "id": "UtabdK2c6GwV",
        "outputId": "c1de25fb-7177-487c-ae65-436d7da7e745"
      },
      "execution_count": null,
      "outputs": [
        {
          "output_type": "stream",
          "name": "stdout",
          "text": [
            "[2, 4, 1, 5]\n",
            "[1, 2, 4, 5]\n",
            "[5, 4, 2, 1]\n"
          ]
        }
      ]
    },
    {
      "cell_type": "code",
      "source": [
        "dict_1={'banana':500, 'apple':400}\n",
        "print(dict_1)\n",
        "dict_sort_key = sorted(dict_1)\n",
        "print(dict_1)\n",
        "print(dict_sort_key)\n",
        "# dict_sort_key=sorted(dict_1, key = lambda x: )"
      ],
      "metadata": {
        "colab": {
          "base_uri": "https://localhost:8080/"
        },
        "id": "G1ChsZMF8DR4",
        "outputId": "ce22a221-a790-4ae8-b6ac-8038ccca5d47"
      },
      "execution_count": null,
      "outputs": [
        {
          "output_type": "stream",
          "name": "stdout",
          "text": [
            "{'banana': 500, 'apple': 400}\n",
            "{'banana': 500, 'apple': 400}\n",
            "['apple', 'banana']\n"
          ]
        }
      ]
    },
    {
      "cell_type": "code",
      "source": [
        "my_dict = {'apple':3, 'orange':2, 'pear':4, 'banana':1}\n",
        "print(my_dict)\n",
        "print(my_dict.items())\n",
        "sorted_dict_key = dict(sorted(my_dict.items(), key = lambda x: x[0]))\n",
        "print(sorted_dict_key)\n",
        "sorted_dict_value = dict(sorted(my_dict.items(), key = lambda x: x[1]))\n",
        "print(sorted_dict_value)"
      ],
      "metadata": {
        "colab": {
          "base_uri": "https://localhost:8080/"
        },
        "id": "nBPcgGcJ-bv6",
        "outputId": "585691e2-792d-42dd-ede1-5b46f2e4b31b"
      },
      "execution_count": null,
      "outputs": [
        {
          "output_type": "stream",
          "name": "stdout",
          "text": [
            "{'apple': 3, 'orange': 2, 'pear': 4, 'banana': 1}\n",
            "dict_items([('apple', 3), ('orange', 2), ('pear', 4), ('banana', 1)])\n",
            "{'apple': 3, 'banana': 1, 'orange': 2, 'pear': 4}\n",
            "{'banana': 1, 'orange': 2, 'apple': 3, 'pear': 4}\n"
          ]
        }
      ]
    },
    {
      "cell_type": "code",
      "source": [],
      "metadata": {
        "id": "42dM8te3-uoW"
      },
      "execution_count": null,
      "outputs": []
    },
    {
      "cell_type": "markdown",
      "source": [
        "sum() 함수는 파이썬 내장 함수 중 하나로, iterable(반복 가능한) 객체의 모든 요소들의 합을 구해주는 함수입니다.\n",
        "\n",
        "sum() 함수는 아래와 같은 형태로 사용할 수 있습니다."
      ],
      "metadata": {
        "id": "odMtv3N99mV6"
      }
    },
    {
      "cell_type": "code",
      "source": [
        "sum(iterable, start=0)\n"
      ],
      "metadata": {
        "id": "ZQFucBx49oQn"
      },
      "execution_count": null,
      "outputs": []
    },
    {
      "cell_type": "markdown",
      "source": [
        "iterable: 합을 구할 iterable 객체입니다. 리스트, 튜플, 셋, 딕셔너리 등이 사용될 수 있습니다.\n",
        "start (옵션): 처음 합산 값으로 사용할 값입니다. 기본값은 0입니다.\n",
        "예를 들어, 아래와 같이 리스트의 합을 구할 수 있습니다."
      ],
      "metadata": {
        "id": "S337yUwf9pWI"
      }
    },
    {
      "cell_type": "code",
      "source": [
        "my_list = [1, 2, 3, 4, 5]\n",
        "total = sum(my_list)  # 1 + 2 + 3 + 4 + 5 = 15\n",
        "print(total)  # 출력 결과: 15\n"
      ],
      "metadata": {
        "id": "Zzd5mj6e9qps"
      },
      "execution_count": null,
      "outputs": []
    },
    {
      "cell_type": "markdown",
      "source": [
        "또한, start 인자를 지정하여 합산을 시작할 값을 변경할 수도 있습니다."
      ],
      "metadata": {
        "id": "Z04QF1E99r44"
      }
    },
    {
      "cell_type": "code",
      "source": [
        "my_list = [1, 2, 3, 4, 5]\n",
        "total = sum(my_list, start=10)  # 10 + 1 + 2 + 3 + 4 + 5 = 25\n",
        "print(total)  # 출력 결과: 25\n"
      ],
      "metadata": {
        "id": "nVJSu1Jp9u_E"
      },
      "execution_count": null,
      "outputs": []
    },
    {
      "cell_type": "code",
      "source": [
        "for i in range(1,10):\n",
        "  for j in range(2,10):\n",
        "    print(\"%2d x %2d = %2d\"%(j,i,j*i), end=\"     \")\n",
        "  print()"
      ],
      "metadata": {
        "colab": {
          "base_uri": "https://localhost:8080/"
        },
        "id": "2hXh0aRm-umH",
        "outputId": "5d113f5a-47d5-4d30-d79c-000cf697ae3c"
      },
      "execution_count": 34,
      "outputs": [
        {
          "output_type": "stream",
          "name": "stdout",
          "text": [
            " 2 x  1 =  2      3 x  1 =  3      4 x  1 =  4      5 x  1 =  5      6 x  1 =  6      7 x  1 =  7      8 x  1 =  8      9 x  1 =  9     \n",
            " 2 x  2 =  4      3 x  2 =  6      4 x  2 =  8      5 x  2 = 10      6 x  2 = 12      7 x  2 = 14      8 x  2 = 16      9 x  2 = 18     \n",
            " 2 x  3 =  6      3 x  3 =  9      4 x  3 = 12      5 x  3 = 15      6 x  3 = 18      7 x  3 = 21      8 x  3 = 24      9 x  3 = 27     \n",
            " 2 x  4 =  8      3 x  4 = 12      4 x  4 = 16      5 x  4 = 20      6 x  4 = 24      7 x  4 = 28      8 x  4 = 32      9 x  4 = 36     \n",
            " 2 x  5 = 10      3 x  5 = 15      4 x  5 = 20      5 x  5 = 25      6 x  5 = 30      7 x  5 = 35      8 x  5 = 40      9 x  5 = 45     \n",
            " 2 x  6 = 12      3 x  6 = 18      4 x  6 = 24      5 x  6 = 30      6 x  6 = 36      7 x  6 = 42      8 x  6 = 48      9 x  6 = 54     \n",
            " 2 x  7 = 14      3 x  7 = 21      4 x  7 = 28      5 x  7 = 35      6 x  7 = 42      7 x  7 = 49      8 x  7 = 56      9 x  7 = 63     \n",
            " 2 x  8 = 16      3 x  8 = 24      4 x  8 = 32      5 x  8 = 40      6 x  8 = 48      7 x  8 = 56      8 x  8 = 64      9 x  8 = 72     \n",
            " 2 x  9 = 18      3 x  9 = 27      4 x  9 = 36      5 x  9 = 45      6 x  9 = 54      7 x  9 = 63      8 x  9 = 72      9 x  9 = 81     \n"
          ]
        }
      ]
    },
    {
      "cell_type": "code",
      "source": [
        "a = 4\n",
        "b = 3\n",
        "print(a,b)\n",
        "\n",
        "temp =a\n",
        "a=b\n",
        "b=temp\n",
        "print(a,b)"
      ],
      "metadata": {
        "colab": {
          "base_uri": "https://localhost:8080/"
        },
        "id": "koxOywszH2nz",
        "outputId": "118027fd-de23-4710-99bf-6dec2b2324e0"
      },
      "execution_count": 35,
      "outputs": [
        {
          "output_type": "stream",
          "name": "stdout",
          "text": [
            "4 3\n",
            "3 4\n"
          ]
        }
      ]
    },
    {
      "cell_type": "code",
      "source": [
        "def swap(a,b):\n",
        "  return b,a;\n",
        "print(swap(3,4))\n",
        "l_1=[4,3]\n",
        "print(l_1)\n",
        "temp=l_1[0]\n",
        "l_1[0]=l_1[1]\n",
        "l_1[1]=temp\n",
        "print(l_1)"
      ],
      "metadata": {
        "colab": {
          "base_uri": "https://localhost:8080/"
        },
        "id": "PPFU4_dxH-GC",
        "outputId": "7fcd9ba7-a240-4a0a-a616-1d20a4d5f15d"
      },
      "execution_count": 40,
      "outputs": [
        {
          "output_type": "stream",
          "name": "stdout",
          "text": [
            "(4, 3)\n",
            "[4, 3]\n",
            "[3, 4]\n"
          ]
        }
      ]
    },
    {
      "cell_type": "code",
      "source": [
        "l_2=[7,5,2,8]\n",
        "print(l_2)\n",
        "\n",
        "idx = 0\n",
        "if l_2[idx]>l_2[1]:\n",
        "  idx = 1\n",
        "  print(l_2[idx])\n",
        "else:\n",
        "  idx = idx\n",
        "print(idx)\n",
        "print('--------------------------------')\n",
        "if l_2[idx] > l_2[2]:\n",
        "  idx = 2\n",
        "  print(l_2[idx])\n",
        "else:\n",
        "   idx=idx\n",
        "print(idx)\n",
        "print('--------------------------------')\n",
        "if l_2[idx] > l_2[3]:\n",
        "  idx = 3\n",
        "  print(l_2[idx])\n",
        "else:\n",
        "   idx=idx\n",
        "print(idx)\n",
        "\n",
        "print(l_2[idx])"
      ],
      "metadata": {
        "colab": {
          "base_uri": "https://localhost:8080/"
        },
        "id": "3jdg2aKUJUqo",
        "outputId": "18068d23-dd69-4955-a216-c9c4effd2ee2"
      },
      "execution_count": 47,
      "outputs": [
        {
          "output_type": "stream",
          "name": "stdout",
          "text": [
            "[7, 5, 2, 8]\n",
            "5\n",
            "1\n",
            "--------------------------------\n",
            "2\n",
            "2\n",
            "--------------------------------\n",
            "2\n",
            "2\n"
          ]
        }
      ]
    },
    {
      "cell_type": "code",
      "source": [
        "l_3=[7,5,2,8]\n",
        "print(l_3)\n",
        "print(len(l_3))\n",
        "\n",
        "idx=0\n",
        "for i in range(1,len(l_3)):\n",
        "  if l_3[idx]>l_3[i]:\n",
        "    idx = i\n",
        "  print(l_3[idx])\n",
        "print(idx)\n",
        "print(l_3[idx])\n",
        "\n",
        "temp=l_3[0]\n",
        "l_3[0]=l_3[idx]\n",
        "l_3[idx]=temp\n",
        "print(l_3)\n",
        "min_list=l_3[0]\n",
        "print(min_list)"
      ],
      "metadata": {
        "colab": {
          "base_uri": "https://localhost:8080/"
        },
        "id": "FnufF2nrNicP",
        "outputId": "0add54c7-ee62-41b0-9f32-406eedee1a9b"
      },
      "execution_count": 56,
      "outputs": [
        {
          "output_type": "stream",
          "name": "stdout",
          "text": [
            "[7, 5, 2, 8]\n",
            "4\n",
            "5\n",
            "2\n",
            "2\n",
            "2\n",
            "2\n",
            "[2, 5, 7, 8]\n",
            "2\n"
          ]
        }
      ]
    },
    {
      "cell_type": "code",
      "source": [
        "def my_f(list_v):\n",
        "  idx=0\n",
        "  for i in range(1,len(list_v)):\n",
        "    if list_v[idx]>list_v[i]:\n",
        "      idx = i\n",
        "  temp=list_v[0]\n",
        "  list_v[0]=list_v[idx]\n",
        "  list_v[idx]=temp\n",
        "  return list_v[0]\n",
        "min_list=my_f([8,5,3,7])\n",
        "print(min_list)"
      ],
      "metadata": {
        "colab": {
          "base_uri": "https://localhost:8080/"
        },
        "id": "lFLsYUPrRwDo",
        "outputId": "e79764c0-42a9-4c0c-f016-4c246517d25b"
      },
      "execution_count": 57,
      "outputs": [
        {
          "output_type": "stream",
          "name": "stdout",
          "text": [
            "3\n"
          ]
        }
      ]
    }
  ]
}