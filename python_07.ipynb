{
  "nbformat": 4,
  "nbformat_minor": 0,
  "metadata": {
    "colab": {
      "provenance": [],
      "authorship_tag": "ABX9TyPBTCurAuJMC+GEBjxDHZpS",
      "include_colab_link": true
    },
    "kernelspec": {
      "name": "python3",
      "display_name": "Python 3"
    },
    "language_info": {
      "name": "python"
    }
  },
  "cells": [
    {
      "cell_type": "markdown",
      "metadata": {
        "id": "view-in-github",
        "colab_type": "text"
      },
      "source": [
        "<a href=\"https://colab.research.google.com/github/sangxxjin/python/blob/main/python_07.ipynb\" target=\"_parent\"><img src=\"https://colab.research.google.com/assets/colab-badge.svg\" alt=\"Open In Colab\"/></a>"
      ]
    },
    {
      "cell_type": "markdown",
      "source": [
        "파이썬에서 함수는 재사용 가능한 코드 블록으로, 특정 작업을 수행하는 코드의 모음입니다. 함수를 정의하면 코드를 모듈화하고 코드의 가독성을 높일 수 있습니다.\n",
        "\n",
        "함수는 def 키워드를 사용하여 정의하며, 다음과 같은 구문으로 작성합니다:"
      ],
      "metadata": {
        "id": "qbyPkw0Wzxtm"
      }
    },
    {
      "cell_type": "code",
      "source": [
        "def function_name(parameters):\n",
        "    \"\"\"docstring\"\"\"\n",
        "    # 함수의 코드 블록\n",
        "    return value\n"
      ],
      "metadata": {
        "id": "xGGX9o-4zzLn"
      },
      "execution_count": null,
      "outputs": []
    },
    {
      "cell_type": "markdown",
      "source": [
        "위의 구문에서 function_name은 함수의 이름이며, parameters는 함수에 전달되는 인수입니다. 함수의 코드 블록은 콜론(:) 다음에 옵니다. 함수는 return 키워드를 사용하여 결과를 반환할 수 있습니다.\n",
        "\n",
        "함수의 docstring은 함수의 설명을 포함하는 문자열입니다. 이는 함수의 도움말 문서를 생성하는 데 사용됩니다.\n",
        "\n",
        "예를 들어, 다음은 두 개의 숫자를 더하는 간단한 함수의 예입니다:"
      ],
      "metadata": {
        "id": "b661sKxgz0St"
      }
    },
    {
      "cell_type": "code",
      "source": [
        "def add_numbers(x, y):\n",
        "    \"\"\"두 개의 숫자를 더합니다.\"\"\"\n",
        "    result = x + y\n",
        "    return result\n"
      ],
      "metadata": {
        "id": "cA_3cE9rz1vM"
      },
      "execution_count": null,
      "outputs": []
    },
    {
      "cell_type": "markdown",
      "source": [
        "이제 위 함수를 호출하여 결과를 확인할 수 있습니다:"
      ],
      "metadata": {
        "id": "Fu2us6-Yz315"
      }
    },
    {
      "cell_type": "code",
      "source": [
        ">>> add_numbers(1, 2)\n",
        "3\n"
      ],
      "metadata": {
        "id": "V6Bcrq1Mz5Sz"
      },
      "execution_count": null,
      "outputs": []
    },
    {
      "cell_type": "markdown",
      "source": [
        "함수는 모듈 내에서 어디서든 호출할 수 있으며, 필요할 때마다 재사용할 수 있습니다. 함수는 파이썬에서 매우 중요하며, 다양한 라이브러리 및 프로그램에서 자주 사용됩니다."
      ],
      "metadata": {
        "id": "oIRT95R7z5te"
      }
    },
    {
      "cell_type": "code",
      "source": [
        "even_list=[]\n",
        "for i in range(1,11):\n",
        "  if i%2==0:\n",
        "    even_list.append(i)\n",
        "print(even_list)"
      ],
      "metadata": {
        "colab": {
          "base_uri": "https://localhost:8080/"
        },
        "id": "kqyyrPBzz_AJ",
        "outputId": "75e84050-4483-4b52-fac6-c45561ba5df2"
      },
      "execution_count": null,
      "outputs": [
        {
          "output_type": "stream",
          "name": "stdout",
          "text": [
            "[2, 4, 6, 8, 10]\n"
          ]
        }
      ]
    },
    {
      "cell_type": "code",
      "source": [
        "even_list_1=[]\n",
        "for i in range(50,71):\n",
        "  if i%2==0:\n",
        "    even_list_1.append(i)\n",
        "print(even_list_1)"
      ],
      "metadata": {
        "colab": {
          "base_uri": "https://localhost:8080/"
        },
        "id": "q-I2jdRF1S9L",
        "outputId": "c41190fd-d8bb-4251-e9f1-830f8707dcea"
      },
      "execution_count": null,
      "outputs": [
        {
          "output_type": "stream",
          "name": "stdout",
          "text": [
            "[50, 52, 54, 56, 58, 60, 62, 64, 66, 68, 70]\n"
          ]
        }
      ]
    },
    {
      "cell_type": "code",
      "source": [
        "def even_list_gen(f_num, s_num):\n",
        "  e_list=[]\n",
        "  for i in range(f_num, s_num+1):\n",
        "    if i%2==0:\n",
        "      e_list.append(i)\n",
        "  return e_list,77,99\n",
        "\n",
        "\n",
        "aaa = even_list_gen(50,70)\n",
        "print(aaa)\n",
        "print('--------')\n",
        "bbb, a, b =even_list_gen(50,70)\n",
        "print(bbb)\n",
        "print(a)\n",
        "print(b)\n"
      ],
      "metadata": {
        "colab": {
          "base_uri": "https://localhost:8080/"
        },
        "id": "URxXx8-G19pd",
        "outputId": "61e8011b-a0ce-4e85-f028-94f635095178"
      },
      "execution_count": null,
      "outputs": [
        {
          "output_type": "stream",
          "name": "stdout",
          "text": [
            "([50, 52, 54, 56, 58, 60, 62, 64, 66, 68, 70], 77, 99)\n",
            "--------\n",
            "[50, 52, 54, 56, 58, 60, 62, 64, 66, 68, 70]\n",
            "77\n",
            "99\n"
          ]
        }
      ]
    },
    {
      "cell_type": "code",
      "source": [
        "def even_list_gen(f_num, s_num):\n",
        "  e_list=[]\n",
        "  for i in range(f_num, s_num+1):\n",
        "    if i%2==0:\n",
        "      e_list.append(i)\n",
        "  return f_num, s_num, e_list\n",
        "\n",
        "print('string')\n",
        "aaa = even_list_gen(1,10)\n",
        "print(aaa)\n",
        "print('--------')\n",
        "first_input, second_input, even_list = even_list_gen(50,70)\n",
        "print(\"첫번째 입력값 %d\"%first_input)\n",
        "print(\"두번째 입력값 %d\"%second_input)\n",
        "print(\"원하는 리스트는 \",even_list)"
      ],
      "metadata": {
        "colab": {
          "base_uri": "https://localhost:8080/"
        },
        "id": "LwBD8dhA8RXy",
        "outputId": "094720e4-3efe-4a84-d23c-59633583e5ad"
      },
      "execution_count": null,
      "outputs": [
        {
          "output_type": "stream",
          "name": "stdout",
          "text": [
            "string\n",
            "(1, 10, [2, 4, 6, 8, 10])\n",
            "--------\n",
            "첫번째 입력값 50\n",
            "두번째 입력값 70\n",
            "원하는 리스트는  [50, 52, 54, 56, 58, 60, 62, 64, 66, 68, 70]\n"
          ]
        }
      ]
    },
    {
      "cell_type": "code",
      "source": [
        "def ff(x):\n",
        "  pass\n",
        "\n",
        "def f(x):\n",
        "  y=2*x\n",
        "  return y\n",
        "\n",
        "def f1(x):\n",
        "  y=2*x*x+3\n",
        "  return y\n",
        "\n",
        "def add(a,b):\n",
        "  y=a+b\n",
        "  return y"
      ],
      "metadata": {
        "id": "T9UoQkWp32BB"
      },
      "execution_count": null,
      "outputs": []
    },
    {
      "cell_type": "code",
      "source": [
        "def ex(a, b=7):\n",
        "  print(b)\n",
        "\n",
        "ex(1)"
      ],
      "metadata": {
        "colab": {
          "base_uri": "https://localhost:8080/"
        },
        "id": "f7VzLemeDwhW",
        "outputId": "7127c2cd-f2c1-47ad-9d6a-817216f92df5"
      },
      "execution_count": null,
      "outputs": [
        {
          "output_type": "stream",
          "name": "stdout",
          "text": [
            "7\n"
          ]
        }
      ]
    },
    {
      "cell_type": "code",
      "source": [
        "print(\"Hello\",end =\" \")\n",
        "print(\"Hello\")\n",
        "print(\"Hello\")"
      ],
      "metadata": {
        "colab": {
          "base_uri": "https://localhost:8080/"
        },
        "id": "QZ477GezEnKD",
        "outputId": "fd7c90cc-1e8f-4a9e-edb9-b08822adbda5"
      },
      "execution_count": null,
      "outputs": [
        {
          "output_type": "stream",
          "name": "stdout",
          "text": [
            "Hello Hello\n",
            "Hello\n"
          ]
        }
      ]
    },
    {
      "cell_type": "code",
      "source": [
        "text = 'python'\n",
        "e_text=text.replace('t','k')\n",
        "print(e_text)"
      ],
      "metadata": {
        "id": "IKB8NAmTFOyj",
        "colab": {
          "base_uri": "https://localhost:8080/"
        },
        "outputId": "b651193f-3bcd-497f-9ccc-c28d54101152"
      },
      "execution_count": 32,
      "outputs": [
        {
          "output_type": "stream",
          "name": "stdout",
          "text": [
            "pykhon\n",
            "pykhon\n"
          ]
        }
      ]
    },
    {
      "cell_type": "code",
      "source": [
        "def my_replace(ex_text,old,new):\n",
        "  text=ex_text.replace('old','new')\n",
        "  return text\n",
        "\n",
        "text_e = my_replace('hello','l','k')\n",
        "print(text_e)"
      ],
      "metadata": {
        "colab": {
          "base_uri": "https://localhost:8080/"
        },
        "id": "toogyeOyGm-T",
        "outputId": "849215f2-9313-4166-90cd-728523eafceb"
      },
      "execution_count": 38,
      "outputs": [
        {
          "output_type": "stream",
          "name": "stdout",
          "text": [
            "hello\n"
          ]
        }
      ]
    },
    {
      "cell_type": "code",
      "source": [
        "def my_replace(ex_text, old, new):\n",
        "    text = ''\n",
        "    for char in ex_text:\n",
        "        if char == old:\n",
        "            text += new\n",
        "        else:\n",
        "            text += char\n",
        "    return text\n",
        "text_e = my_replace('hello', 'l', 'k')\n",
        "print(text_e) \n"
      ],
      "metadata": {
        "colab": {
          "base_uri": "https://localhost:8080/"
        },
        "id": "2RoxrU2IH31Z",
        "outputId": "24cce9f3-3e62-44a3-bc60-d369870dc488"
      },
      "execution_count": 41,
      "outputs": [
        {
          "output_type": "stream",
          "name": "stdout",
          "text": [
            "hekko\n"
          ]
        }
      ]
    }
  ]
}