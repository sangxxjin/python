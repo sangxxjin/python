{
  "nbformat": 4,
  "nbformat_minor": 0,
  "metadata": {
    "colab": {
      "provenance": [],
      "authorship_tag": "ABX9TyP0qv/0ZHaBZejWv4iQeZ8X",
      "include_colab_link": true
    },
    "kernelspec": {
      "name": "python3",
      "display_name": "Python 3"
    },
    "language_info": {
      "name": "python"
    }
  },
  "cells": [
    {
      "cell_type": "markdown",
      "metadata": {
        "id": "view-in-github",
        "colab_type": "text"
      },
      "source": [
        "<a href=\"https://colab.research.google.com/github/sangxxjin/python/blob/main/%EC%9D%B8%ED%94%840320_201933005.ipynb\" target=\"_parent\"><img src=\"https://colab.research.google.com/assets/colab-badge.svg\" alt=\"Open In Colab\"/></a>"
      ]
    },
    {
      "cell_type": "code",
      "source": [
        "myVar=100\n",
        "type(myVar)\n",
        "myVar=100.0\n",
        "type(myVar)"
      ],
      "metadata": {
        "colab": {
          "base_uri": "https://localhost:8080/"
        },
        "id": "off2HA_0c_24",
        "outputId": "9d6987c7-afbb-47ed-d287-bba9b025c9fe"
      },
      "execution_count": 1,
      "outputs": [
        {
          "output_type": "execute_result",
          "data": {
            "text/plain": [
              "float"
            ]
          },
          "metadata": {},
          "execution_count": 1
        }
      ]
    },
    {
      "cell_type": "markdown",
      "source": [
        "파이썬의 변수는 동적 타입 언어이므로 변수에 할당되는 값에 따라 자동으로 타입이 결정됩니다. 파이썬의 기본 데이터 타입은 다음과 같습니다.\n",
        "\n",
        "숫자형(Number): 정수(int), 실수(float), 복소수(complex)\n",
        "문자열(String): 문자열(str)\n",
        "불(Bool): 참(True), 거짓(False)\n",
        "변수의 타입은 type() 함수를 사용하여 확인할 수 있습니다. 예를 들어, type(10)은 int를 반환하고, type(\"Hello World\")는 str을 반환합니다.\n",
        "\n",
        "파이썬은 또한 객체 지향 언어이므로, 모든 변수는 객체입니다. 객체는 해당 객체의 타입과 값을 가지며, 변수는 해당 객체의 참조를 가지고 있습니다. 이것은 파이썬의 변수가 실제 데이터가 아니라 데이터를 참조하는 포인터와 유사한 역할을 한다는 것을 의미합니다."
      ],
      "metadata": {
        "id": "RoTEmQxFfVfw"
      }
    },
    {
      "cell_type": "code",
      "source": [
        "a = 10\n",
        "print(type(a)) #출력 결과 : <class 'int'>\n",
        "b = 3.14\n",
        "print(type(b)) #출력 결과 : <class 'float'>\n",
        "c = \"Hello, world!\"\n",
        "print(type(c)) #출력 결과 : <class 'str'>\n",
        "d = True\n",
        "print(type(d)) #출력 결과 : <class 'bool'>"
      ],
      "metadata": {
        "colab": {
          "base_uri": "https://localhost:8080/"
        },
        "id": "iDqBCmaAgElN",
        "outputId": "f3905311-f1ae-4833-b1b6-0f37071dba41"
      },
      "execution_count": 2,
      "outputs": [
        {
          "output_type": "stream",
          "name": "stdout",
          "text": [
            "<class 'int'>\n",
            "<class 'float'>\n",
            "<class 'str'>\n",
            "<class 'bool'>\n"
          ]
        }
      ]
    },
    {
      "cell_type": "code",
      "source": [
        "e = True\n",
        "print(type(e))\n",
        "print(int(e))\n",
        "print('------------------------')\n",
        "f = False\n",
        "print(type(f))\n",
        "print(int(f))"
      ],
      "metadata": {
        "colab": {
          "base_uri": "https://localhost:8080/"
        },
        "id": "Z4TmSR1BjXw2",
        "outputId": "7dcf0c59-733f-4c3f-ac55-b519ce731b60"
      },
      "execution_count": 7,
      "outputs": [
        {
          "output_type": "stream",
          "name": "stdout",
          "text": [
            "<class 'bool'>\n",
            "1\n",
            "------------------------\n",
            "<class 'bool'>\n",
            "0\n"
          ]
        }
      ]
    },
    {
      "cell_type": "markdown",
      "source": [
        "파이썬에서는 다음과 같은 진수 타입을 지원합니다.\n",
        "\n",
        "10진수(decimal): 일반적으로 사용하는 0부터 9까지의 숫자를 사용한 진수체계입니다. 파이썬에서는 숫자를 기본적으로 10진수로 인식합니다.\n",
        "2진수(binary): 0과 1만을 사용하여 수를 표현하는 진수체계입니다. 파이썬에서는 2진수를 표현할 때 숫자 앞에 0b 또는 0B를 붙입니다.\n",
        "8진수(octal): 0부터 7까지의 숫자를 사용하여 수를 표현하는 진수체계입니다. 파이썬에서는 8진수를 표현할 때 숫자 앞에 0o 또는 0O를 붙입니다.\n",
        "16진수(hexadecimal): 0부터 9까지의 숫자와 A부터 F까지의 알파벳을 사용하여 수를 표현하는 진수체계입니다. 파이썬에서는 16진수를 표현할 때 숫자 앞에 0x 또는 0X를 붙입니다."
      ],
      "metadata": {
        "id": "DhakKgGMk4Xa"
      }
    },
    {
      "cell_type": "code",
      "source": [
        "binary_num = 0b1010\n",
        "octal_num = 0o12\n",
        "hex_num = 0x0A\n",
        "\n",
        "print(binary_num)  # 10\n",
        "print(octal_num)  # 10\n",
        "print(hex_num)  # 10\n",
        "\n",
        "num = 10\n",
        "print(bin(num))  # 0b1010\n",
        "print(oct(num))  # 0o12\n",
        "print(hex(num))  # 0xa\n",
        "\n"
      ],
      "metadata": {
        "colab": {
          "base_uri": "https://localhost:8080/"
        },
        "id": "Dj8INrVUlA9o",
        "outputId": "fc15ef62-04e4-4879-f529-f6f142d928a3"
      },
      "execution_count": 9,
      "outputs": [
        {
          "output_type": "stream",
          "name": "stdout",
          "text": [
            "10\n",
            "10\n",
            "10\n",
            "0b1010\n",
            "0o12\n",
            "0xa\n"
          ]
        }
      ]
    },
    {
      "cell_type": "markdown",
      "source": [
        "파이썬에서는 여러 종류의 연산자를 지원합니다. 주요 연산자는 다음과 같습니다.\n",
        "\n",
        "산술 연산자: + (덧셈), - (뺄셈), * (곱셈), / (나눗셈), // (정수 나눗셈), % (나머지), ** (거듭제곱) 등이 있습니다.\n",
        "\n",
        "비교 연산자: == (같음), != (다름), > (크다), < (작다), >= (크거나 같다), <= (작거나 같다) 등이 있습니다.\n",
        "\n",
        "논리 연산자: and (논리곱), or (논리합), not (부정) 등이 있습니다.\n",
        "\n",
        "비트 연산자: & (비트곱), | (비트합), ^ (배타적 논리합), ~ (비트 부정), << (왼쪽 시프트), >> (오른쪽 시프트) 등이 있습니다.\n",
        "\n",
        "할당 연산자: = (대입), += (덧셈 후 대입), -= (뺄셈 후 대입), *= (곱셈 후 대입), /= (나눗셈 후 대입), %= (나머지 후 대입) 등이 있습니다.\n",
        "\n",
        "멤버십 연산자: in (멤버십 여부 확인), not in (멤버십 여부 부정) 등이 있습니다.\n",
        "\n",
        "식별 연산자: is (객체의 식별 여부 확인), is not (객체의 식별 여부 부정) 등이 있습니다.\n",
        "\n",
        "위의 연산자들을 적절히 활용하여 프로그래밍을 할 수 있습니다."
      ],
      "metadata": {
        "id": "dP-cCe-Vo5ZU"
      }
    },
    {
      "cell_type": "markdown",
      "source": [
        "리스트(List)는 파이썬에서 가장 많이 사용되는 데이터 구조 중 하나이며, 대괄호([])를 사용하여 표시됩니다. 리스트는 여러 개의 값을 담을 수 있으며, 값들은 쉼표(,)로 구분합니다. 다음은 리스트의 예시입니다.\n",
        "\n",
        "\n",
        "numbers = [1, 2, 3, 4, 5]\n",
        "fruits = ['apple', 'banana', 'cherry']\n",
        "mixed = [1, 'apple', True, 3.14]\n",
        "리스트는 다음과 같은 특징을 가지고 있습니다.\n",
        "\n",
        "값이 순서대로 저장되어 있습니다. 따라서 인덱스(index)를 사용하여 특정 위치의 값을 가져올 수 있습니다.\n",
        "값의 추가, 삭제, 수정이 가능합니다. 추가는 append(), extend(), insert() 메서드를 사용하며, 삭제는 remove(), pop(), del 키워드를 사용할 수 있습니다.\n",
        "다양한 메서드를 제공합니다. count(), index(), sort(), reverse() 등의 메서드를 사용하여 리스트를 다룰 수 있습니다.\n",
        "리스트는 프로그래밍에서 매우 중요한 자료구조이며, 파이썬에서는 다양한 방법으로 활용할 수 있습니다."
      ],
      "metadata": {
        "id": "sSlcrh0prKRg"
      }
    },
    {
      "cell_type": "code",
      "source": [
        "# my_list=[1,2,3,4,5]\n",
        "# print(my_list)\n",
        "# print(type(my_list))\n",
        "# print(my_list[0:3])\n",
        "# print(my_list[:3])\n",
        "# print(my_list[:-2])\n",
        "# print(my_list[-1])\n",
        "# print(my_list[:-1])\n",
        "# print(my_list[:])\n",
        "# print(range(1,6,2))\n",
        "# print(list(range(2,10)))\n",
        "\n",
        "# another_list=list(range(1,6))\n",
        "# print(another_list)\n",
        "\n",
        "\n",
        "\n",
        "my_list=[1,2,3,4,5]\n",
        "my_list.append(11)\n",
        "my_list.append(\"aaa\")\n",
        "print(my_list)\n",
        "my_list.remove(11)\n",
        "print(my_list)"
      ],
      "metadata": {
        "colab": {
          "base_uri": "https://localhost:8080/"
        },
        "id": "5OTL1jYWvCVI",
        "outputId": "2a30ff3e-c6b8-4604-c31a-5e55662975bc"
      },
      "execution_count": 43,
      "outputs": [
        {
          "output_type": "stream",
          "name": "stdout",
          "text": [
            "[1, 2, 3, 4, 5, 11, 'aaa']\n",
            "[1, 2, 3, 4, 5, 'aaa']\n"
          ]
        }
      ]
    },
    {
      "cell_type": "markdown",
      "source": [
        "튜플(Tuple)은 리스트와 마찬가지로 여러 개의 값을 담을 수 있는 데이터 구조입니다. 하지만 리스트와는 다르게 괄호(()), 또는 괄호 없이 쉼표(,)로 값들을 구분하여 표시합니다. 다음은 튜플의 예시입니다.\n",
        "\n",
        "person = ('John', 25, 'New York')\n",
        "point = 10, 20\n",
        "튜플은 다음과 같은 특징을 가지고 있습니다.\n",
        "\n",
        "리스트와 마찬가지로 값이 순서대로 저장되어 있습니다. 따라서 인덱스(index)를 사용하여 특정 위치의 값을 가져올 수 있습니다.\n",
        "값의 추가, 삭제, 수정이 불가능합니다. 한 번 정의된 튜플은 변경할 수 없으며, 값들이 고정됩니다.\n",
        "리스트와는 다르게 적은 메모리를 사용하므로, 대용량 데이터를 다룰 때 유용합니다.\n",
        "튜플은 리스트와 비교하여 기능이 제한적이지만, 데이터 변경이 필요 없는 경우에는 리스트보다 더 적은 메모리를 사용하므로 유용하게 사용될 수 있습니다."
      ],
      "metadata": {
        "id": "LGDlrZ1BuXfW"
      }
    },
    {
      "cell_type": "code",
      "source": [
        "my_tuple=(1,2,3,4)\n",
        "print(my_tuple)\n",
        "\n",
        "aaa=(1,2,3)\n",
        "bbb=4,5,6\n",
        "print(aaa)\n",
        "print(bbb)\n",
        "print(type(aaa))\n",
        "print(type(bbb))\n",
        "\n",
        "print(aaa[1])"
      ],
      "metadata": {
        "colab": {
          "base_uri": "https://localhost:8080/"
        },
        "id": "k6n3Kcog2Gp3",
        "outputId": "ac65edcf-19a6-4598-a592-89ef7729cd24"
      },
      "execution_count": 46,
      "outputs": [
        {
          "output_type": "stream",
          "name": "stdout",
          "text": [
            "(1, 2, 3, 4)\n",
            "(1, 2, 3)\n",
            "(4, 5, 6)\n",
            "<class 'tuple'>\n",
            "<class 'tuple'>\n",
            "2\n"
          ]
        }
      ]
    },
    {
      "cell_type": "markdown",
      "source": [
        "딕셔너리(Dictionary)는 파이썬에서 가장 자주 사용되는 데이터 구조 중 하나입니다. 딕셔너리는 중괄호({})를 사용하여 표시되며, 키(key)와 값(value)의 쌍으로 이루어져 있습니다. 다음은 딕셔너리의 예시입니다.\n",
        "\n",
        "person = {'name': 'John', 'age': 25, 'city': 'New York'}\n",
        "fruits = {'apple': 1, 'banana': 2, 'cherry': 3}\n",
        "딕셔너리는 다음과 같은 특징을 가지고 있습니다.\n",
        "\n",
        "값이 순서대로 저장되어 있지 않으며, 키(key)를 사용하여 값을 가져옵니다. 딕셔너리는 내부적으로 해시 테이블(Hash table)을 사용하여 데이터를 저장하므로, 매우 빠른 검색 속도를 가집니다.\n",
        "값의 추가, 삭제, 수정이 가능합니다. 딕셔너리는 key: value의 쌍으로 이루어져 있으므로, 새로운 키-값 쌍을 추가하거나, 기존 키-값 쌍을 수정하거나, 삭제할 수 있습니다.\n",
        "다양한 메서드를 제공합니다. keys(), values(), items() 등의 메서드를 사용하여 딕셔너리를 다룰 수 있습니다.\n",
        "딕셔너리는 여러 개의 정보를 관리하고, 검색할 때 매우 유용한 자료구조입니다. 또한 JSON 형식으로 데이터를 저장하거나, API 호출 결과를 파싱할 때도 매우 많이 사용됩니다."
      ],
      "metadata": {
        "id": "WLCeor9DuaZz"
      }
    },
    {
      "cell_type": "markdown",
      "source": [
        "세트(Set)는 중복을 허용하지 않고, 순서가 없는 데이터 구조입니다. 중괄호({})를 사용하여 표시되며, 값(value)들만 나열하여 표시합니다. 다음은 세트의 예시입니다.\n",
        "\n",
        "fruits = {'apple', 'banana', 'cherry'}\n",
        "numbers = {1, 2, 3, 4, 5}\n",
        "세트는 다음과 같은 특징을 가지고 있습니다.\n",
        "\n",
        "중복을 허용하지 않습니다. 따라서 동일한 값을 여러 번 저장하지 않습니다.\n",
        "값이 순서대로 저장되어 있지 않습니다. 따라서 인덱스(index)를 사용하여 특정 위치의 값을 가져올 수 없습니다.\n",
        "값의 추가, 삭제, 수정이 가능합니다. 하지만 세트에는 인덱스가 없으므로, 값의 추가, 삭제는 add(), remove(), discard() 등의 메서드를 사용하여 이루어집니다.\n",
        "세트는 값의 중복을 제거하고, 고유한 값들만 추출하기 위해 매우 유용합니다. 또한 교집합, 합집합, 차집합 등의 집합 연산도 매우 쉽게 수행할 수 있습니다."
      ],
      "metadata": {
        "id": "AS9VKdB8ucwc"
      }
    },
    {
      "cell_type": "markdown",
      "source": [],
      "metadata": {
        "id": "GRYPhWowu61s"
      }
    }
  ]
}