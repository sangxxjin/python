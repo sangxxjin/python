{
  "nbformat": 4,
  "nbformat_minor": 0,
  "metadata": {
    "colab": {
      "provenance": [],
      "authorship_tag": "ABX9TyPEnPTox/B4IbWlJ7Qlhbmv",
      "include_colab_link": true
    },
    "kernelspec": {
      "name": "python3",
      "display_name": "Python 3"
    },
    "language_info": {
      "name": "python"
    },
    "gpuClass": "standard"
  },
  "cells": [
    {
      "cell_type": "markdown",
      "metadata": {
        "id": "view-in-github",
        "colab_type": "text"
      },
      "source": [
        "<a href=\"https://colab.research.google.com/github/sangxxjin/python/blob/main/python_03.ipynb\" target=\"_parent\"><img src=\"https://colab.research.google.com/assets/colab-badge.svg\" alt=\"Open In Colab\"/></a>"
      ]
    },
    {
      "cell_type": "markdown",
      "source": [
        "조건문은 프로그램에서 조건을 검사하고, 해당 조건에 따라 실행할 코드 블록을 결정하는 제어문입니다. Python에서는 if, elif, else 키워드를 사용하여 조건문을 작성합니다.\n",
        "\n",
        "예를 들어, 다음과 같이 if문을 사용하여 변수 x가 0보다 크면 \"양수입니다\"를 출력하는 코드를 작성할 수 있습니다."
      ],
      "metadata": {
        "id": "rUufxEOIkq6f"
      }
    },
    {
      "cell_type": "code",
      "source": [
        "x = 5\n",
        "if x > 0: # if 조건식:\n",
        "    print(\"양수입니다\")"
      ],
      "metadata": {
        "id": "IUNeeQNFkrNE"
      },
      "execution_count": null,
      "outputs": []
    },
    {
      "cell_type": "markdown",
      "source": [
        "위 코드에서 if x > 0:는 x가 0보다 큰지 검사하는 조건입니다. 조건이 참(True)이면, 들여쓰기 된 코드 블록인 print(\"양수입니다\")가 실행됩니다. 그리고 이중 if문을 통하여 조건식 안에서 조건을 또 제한 할 수 있습니다.\n"
      ],
      "metadata": {
        "id": "I_0B0vZzktQV"
      }
    },
    {
      "cell_type": "markdown",
      "source": [
        "또한, elif와 else를 사용하여 여러 조건을 검사할 수도 있습니다. 예를 들어, 다음과 같이 x가 0보다 크면 \"양수입니다\", x가 0이면 \"0입니다\", x가 0보다 작으면 \"음수입니다\"를 출력하는 코드를 작성할 수 있습니다."
      ],
      "metadata": {
        "id": "r3OiHQRPnxht"
      }
    },
    {
      "cell_type": "code",
      "source": [
        "x=5\n",
        "if x>0:\n",
        "  print(\"양수입니다\")\n",
        "  if x>4:\n",
        "    print(\"양수이면서 4보다 큽니다.\")\n",
        "  else:\n",
        "    print(\"x는 1~4사이의 숫자입니다.\")"
      ],
      "metadata": {
        "colab": {
          "base_uri": "https://localhost:8080/"
        },
        "id": "w4SZprJfnxaI",
        "outputId": "90cc519c-7bfe-493a-ea2c-8a35b4f20a0c"
      },
      "execution_count": 2,
      "outputs": [
        {
          "output_type": "stream",
          "name": "stdout",
          "text": [
            "양수입니다\n",
            "양수이면서 4보다 큽니다.\n"
          ]
        }
      ]
    },
    {
      "cell_type": "code",
      "source": [
        "x = -2\n",
        "if x > 0:\n",
        "    print(\"양수입니다\")\n",
        "elif x == 0:\n",
        "    print(\"0입니다\")\n",
        "else:\n",
        "    print(\"음수입니다\")\n"
      ],
      "metadata": {
        "id": "pV3R-7NOkv8p"
      },
      "execution_count": null,
      "outputs": []
    },
    {
      "cell_type": "markdown",
      "source": [
        "위 코드에서 elif x == 0:는 x가 0인지 검사하는 조건이며, else:는 위 조건들이 모두 거짓(False)인 경우 실행될 코드 블록을 나타냅니다. 그리고 이전에 배웠던 input을 활용해서 if문을 작성해 미성년자인지 구분해보면 아래와 같은 코드를 작성 할 수 있다."
      ],
      "metadata": {
        "id": "rZsA9PKvkzk_"
      }
    },
    {
      "cell_type": "code",
      "source": [
        "age = int(input(\"당신의 나이를 숫자로 입력하세요.\"))\n",
        "print(\"입력한 나이는 %d세 %s\"%(age,\"입니다.\"))\n",
        "if age<19:\n",
        "  print(\"당신은 미성년자입니다.\")\n",
        "else:\n",
        "  print(\"당신은 성인입니다.\")"
      ],
      "metadata": {
        "colab": {
          "base_uri": "https://localhost:8080/"
        },
        "id": "EesBXCJkpvCj",
        "outputId": "1516f71f-9703-421a-ab4a-1ecf32627b04"
      },
      "execution_count": 6,
      "outputs": [
        {
          "output_type": "stream",
          "name": "stdout",
          "text": [
            "당신의 나이를 숫자로 입력하세요.23\n",
            "입력한 나이는 23세 입니다.\n",
            "당신은 성인입니다.\n"
          ]
        }
      ]
    },
    {
      "cell_type": "markdown",
      "source": [
        "파이썬은 들여쓰기(Indentation)를 이용하여 코드 블록을 구분합니다. 들여쓰기는 탭(Tab) 또는 공백(Space)을 사용할 수 있지만, 파이썬 공식 문서에서는 공백 4개를 권장합니다.\n",
        "\n",
        "들여쓰기는 일반적으로 제어문(if, for, while 등)과 함수, 클래스 등의 블록을 구분할 때 사용됩니다. 예를 들어, 다음과 같이 if문을 사용하여 변수 x가 0보다 크면 \"양수입니다\"를 출력하는 코드를 작성할 경우, 들여쓰기로 if문 내부 블록을 구분합니다."
      ],
      "metadata": {
        "id": "H9VhMZOHmq-P"
      }
    },
    {
      "cell_type": "code",
      "source": [
        "x = 5\n",
        "if x > 0:\n",
        "    print(\"양수입니다\")\n"
      ],
      "metadata": {
        "id": "rBWZFTzCms39"
      },
      "execution_count": null,
      "outputs": []
    },
    {
      "cell_type": "markdown",
      "source": [
        "위 코드에서 print(\"양수입니다\")가 if문 내부 블록에 속하며, 들여쓰기로 구분됩니다. 들여쓰기를 잘못 사용하면 에러가 발생하므로, 들여쓰기를 할 때는 일관성 있게 사용하는 것이 좋습니다."
      ],
      "metadata": {
        "id": "mRdPcJ_Gmu4o"
      }
    },
    {
      "cell_type": "markdown",
      "source": [
        "파이썬에서 관계연산자는 두 값의 관계를 비교하여 True(참) 또는 False(거짓)을 반환하는 연산자입니다. 다음은 파이썬에서 사용할 수 있는 관계연산자입니다.\n",
        "\n",
        "'==' : 두 값이 같으면 True, 다르면 False를 반환합니다.\n",
        "\n",
        "'!=' : 두 값이 다르면 True, 같으면 False를 반환합니다.\n",
        "\n",
        "'>' : 왼쪽 값이 오른쪽 값보다 크면 True, 작거나 같으면 False를 반환합니다.\n",
        "\n",
        "'<' : 왼쪽 값이 오른쪽 값보다 작으면 True, 크거나 같으면 False를 반환합니다.\n",
        "\n",
        "'>=' : 왼쪽 값이 오른쪽 값보다 크거나 같으면 True, 작으면 False를 반환합니다.\n",
        "\n",
        "'<=' : 왼쪽 값이 오른쪽 값보다 작거나 같으면 True, 크면 False를 반환합니다.\n",
        "\n",
        "예를 들어, 다음은 두 값이 같은지 비교하는 코드입니다."
      ],
      "metadata": {
        "id": "x5ZrEZTYrGy8"
      }
    },
    {
      "cell_type": "code",
      "source": [
        "x = 5\n",
        "y = 5\n",
        "if x == y:\n",
        "    print(\"x와 y는 같습니다\")\n",
        "else:\n",
        "    print(\"x와 y는 다릅니다\")\n",
        "\n",
        "print(7==7)\n",
        "print(7!=7)\n",
        "print(7>7)\n",
        "print(7>=7)\n",
        "print(7<8)\n",
        "print(7<=7)\n"
      ],
      "metadata": {
        "id": "vYQA4Jqhr2N6"
      },
      "execution_count": null,
      "outputs": []
    },
    {
      "cell_type": "markdown",
      "source": [
        "위 코드에서 x == y는 x와 y가 같은지 비교하는 조건식입니다. 조건식이 참(True)이면 print(\"x와 y는 같습니다\")가 실행되고, 조건식이 거짓(False)이면 print(\"x와 y는 다릅니다\")가 실행됩니다."
      ],
      "metadata": {
        "id": "6ZNPounIrJdb"
      }
    },
    {
      "cell_type": "markdown",
      "source": [
        "파이썬에서 논리연산자는 논리값(True/False)을 연산하여 True 또는 False를 반환하는 연산자입니다. 다음은 파이썬에서 사용할 수 있는 논리연산자입니다.\n",
        "\n",
        "and : 논리 곱(AND) 연산자로, 양쪽 값이 모두 True일 때 True를 반환합니다.\n",
        "\n",
        "or : 논리 합(OR) 연산자로, 양쪽 값 중 하나 이상이 True일 때 True를 반환합니다.\n",
        "\n",
        "not : 논리 부정(NOT) 연산자로, 값이 True이면 False를, False이면 True를 반환합니다.\n",
        "\n",
        "예를 들어, 다음은 두 값이 모두 True인지 검사하는 코드입니다."
      ],
      "metadata": {
        "id": "-SFi0ep1sIK-"
      }
    },
    {
      "cell_type": "code",
      "source": [
        "x = True\n",
        "y = False\n",
        "if x and y:\n",
        "    print(\"x와 y는 모두 True입니다\")\n",
        "else:\n",
        "    print(\"x와 y 중 적어도 하나는 False입니다\")\n",
        "\n",
        "print(True and True)\n",
        "print(False or True)\n",
        "print(no True)"
      ],
      "metadata": {
        "id": "KXKoscjNssJh"
      },
      "execution_count": null,
      "outputs": []
    },
    {
      "cell_type": "markdown",
      "source": [
        "위 코드에서 x and y는 두 값이 모두 True인지 검사하는 조건식입니다.\n",
        "\n",
        "조건식이 참(True)이면 print(\"x와 y는 모두 True입니다\")가 실행되고, 조건식이 거짓(False)이면 print(\"x와 y 중 적어도 하나는 False입니다\")가 실행됩니다."
      ],
      "metadata": {
        "id": "oZJx6UpLstpu"
      }
    },
    {
      "cell_type": "markdown",
      "source": [
        "파이썬에서는 다음과 같은 산술 연산자를 지원합니다:\n",
        "\n",
        "더하기 (+) : 두 값을 더합니다.\n",
        "\n",
        "빼기 (-) : 첫 번째 값에서 두 번째 값을 뺍니다.\n",
        "\n",
        "곱하기 (*) : 두 값을 곱합니다.\n",
        "\n",
        "나누기 (/) : 첫 번째 값을 두 번째 값으로 나눕니다.\n",
        "\n",
        "나누기(몫) (//) : 첫 번째 값을 두 번째 값으로 나눈 몫을 구합니다.\n",
        "\n",
        "나누기(나머지) (%) : 첫 번째 값을 두 번째 값으로 나눈 나머지를 구합니다.\n",
        "\n",
        "거듭제곱(**) : 첫 번째 값을 두 번째 값의 거듭제곱으로 계산합니다.\n",
        "\n",
        "예를 들어, 3과 4를 더하려면 다음과 같이 코드를 작성할 수 있습니다."
      ],
      "metadata": {
        "id": "sp2mDWbM0Yeo"
      }
    },
    {
      "cell_type": "code",
      "source": [
        "a = 3\n",
        "b = 4\n",
        "c = a + b\n",
        "print(c)\n"
      ],
      "metadata": {
        "id": "plAoWRrL0bLJ"
      },
      "execution_count": null,
      "outputs": []
    },
    {
      "cell_type": "markdown",
      "source": [
        "이 코드는 변수 a에 3을 할당하고, 변수 b에 4를 할당합니다. 그리고 a와 b를 더한 결과를 변수 c에 할당하고, 마지막으로 c를 출력합니다. 출력 결과는 7이 됩니다."
      ],
      "metadata": {
        "id": "Ty2ZCGuI0cew"
      }
    },
    {
      "cell_type": "markdown",
      "source": [
        "Python에서 for문은 반복문을 처리할 때 사용됩니다. for문은 반복 가능한(iterable) 객체에서 하나씩 값을 가져와서 처리하며, 해당 객체의 모든 요소가 처리될 때까지 반복합니다.\n",
        "\n",
        "for문의 기본 구조는 다음과 같습니다."
      ],
      "metadata": {
        "id": "jqmBaF3T3VmG"
      }
    },
    {
      "cell_type": "markdown",
      "source": [
        "for 변수 in 반복 가능한 객체:\n",
        "\n",
        "    반복해서 실행할 코드\n"
      ],
      "metadata": {
        "id": "U_mxJhdf4BM4"
      }
    },
    {
      "cell_type": "markdown",
      "source": [
        "여기서 변수는 반복 가능한 객체에서 하나씩 가져온 값이 들어갈 변수를 의미하며, 반복해서 실행할 코드는 해당 값에 대해 수행할 코드를 의미합니다.\n",
        "\n",
        "예를 들어, 리스트(list) 객체에서 모든 요소에 대해 값을 출력하고 싶다면 다음과 같이 for문을 사용할 수 있습니다."
      ],
      "metadata": {
        "id": "Eo6mLP6m4GlM"
      }
    },
    {
      "cell_type": "code",
      "source": [
        "my_list = [1, 2, 3, 4, 5]\n",
        "\n",
        "for num in my_list:\n",
        "    print(num)\n"
      ],
      "metadata": {
        "colab": {
          "base_uri": "https://localhost:8080/"
        },
        "id": "jWv-P2VA3gjQ",
        "outputId": "61b391ab-2328-46bb-e46a-df6acb567f1b"
      },
      "execution_count": 7,
      "outputs": [
        {
          "output_type": "stream",
          "name": "stdout",
          "text": [
            "1\n",
            "2\n",
            "3\n",
            "4\n",
            "5\n"
          ]
        }
      ]
    },
    {
      "cell_type": "markdown",
      "source": [
        "위 코드는 my_list 리스트의 모든 요소에 대해 반복하며, 각 요소를 num 변수에 할당합니다. 그리고 print() 함수를 사용하여 num 변수의 값을 출력합니다."
      ],
      "metadata": {
        "id": "e0bCyGk44LID"
      }
    },
    {
      "cell_type": "markdown",
      "source": [
        "range()는 Python의 내장 함수 중 하나로, 일정한 범위의 숫자를 생성하는 함수입니다. range() 함수를 사용하면 for 루프에서 일정한 범위의 숫자를 반복하여 사용할 수 있습니다.\n",
        "\n",
        "range() 함수는 세 개의 매개 변수 start, stop, step을 사용하여 범위를 정의합니다. start는 범위의 시작값을, stop은 범위의 끝값을, step은 값 사이의 간격을 의미합니다. 이 세 가지 매개 변수 중에서 start와 step은 선택적 매개 변수입니다. 따라서 range(stop) 또는 range(start, stop) 또는 range(start, stop, step) 형태로 함수를 호출할 수 있습니다.\n",
        "\n",
        "예를 들어, 1부터 5까지의 정수를 생성하고 싶다면 다음과 같이 코드를 작성할 수 있습니다."
      ],
      "metadata": {
        "id": "EMKTDn5r7IdN"
      }
    },
    {
      "cell_type": "code",
      "source": [
        "for i in range(1, 6):\n",
        "    print(i)\n"
      ],
      "metadata": {
        "id": "xhDkmdIm7LrO"
      },
      "execution_count": null,
      "outputs": []
    },
    {
      "cell_type": "markdown",
      "source": [
        "위 코드에서 range(1, 6)은 1부터 6 미만의 범위를 생성합니다. for문에서 해당 범위의 모든 값에 대해 반복하며, 각 값을 i 변수에 할당하여 출력합니다. 출력 결과는 다음과 같습니다."
      ],
      "metadata": {
        "id": "K3pXoEAZ7M-6"
      }
    },
    {
      "cell_type": "code",
      "source": [
        "1\n",
        "2\n",
        "3\n",
        "4\n",
        "5\n"
      ],
      "metadata": {
        "id": "9AX7SRVU7Qar"
      },
      "execution_count": null,
      "outputs": []
    },
    {
      "cell_type": "markdown",
      "source": [
        "또한, range() 함수를 사용하여 일정한 간격으로 숫자를 생성할 수도 있습니다. 예를 들어, 2부터 10까지 2씩 증가하는 숫자를 생성하고 싶다면 다음과 같이 코드를 작성할 수 있습니다."
      ],
      "metadata": {
        "id": "dt4cS_Go7Q0h"
      }
    },
    {
      "cell_type": "code",
      "source": [
        "for i in range(2, 11, 2):\n",
        "    print(i)\n"
      ],
      "metadata": {
        "id": "lL6HfL2o7SMj"
      },
      "execution_count": null,
      "outputs": []
    },
    {
      "cell_type": "markdown",
      "source": [
        "위 코드에서 range(2, 11, 2)은 2부터 11 미만의 범위에서 2씩 증가하는 숫자를 생성합니다. for문에서 해당 범위의 모든 값에 대해 반복하며, 각 값을 i 변수에 할당하여 출력합니다. 출력 결과는 다음과 같습니다."
      ],
      "metadata": {
        "id": "0sUoNZfk7YLM"
      }
    },
    {
      "cell_type": "code",
      "source": [
        "2\n",
        "4\n",
        "6\n",
        "8\n",
        "10\n"
      ],
      "metadata": {
        "id": "46-pWG7_7ZgF"
      },
      "execution_count": null,
      "outputs": []
    },
    {
      "cell_type": "markdown",
      "source": [
        "for문을 활용하는 예시에 대하여 설명합니다."
      ],
      "metadata": {
        "id": "dJ0VtTLB7c0l"
      }
    },
    {
      "cell_type": "code",
      "source": [
        "aa='apple'\n",
        "bb=list(aa)\n",
        "print(bb)\n",
        "print(\"---------------------\")\n",
        "for b in bb:\n",
        "  print(b)\n",
        "print(\"---------------------\")\n",
        "dd={\"apple\":3000, \"banana\":2000}\n",
        "print(dd.items())\n",
        "print(\"---------------------\")\n",
        "for d in dd.items():\n",
        "  print(d)\n",
        "print(\"---------------------\")\n",
        "for e1, e2 in dd.items():\n",
        "  print(e1,e2)\n",
        "print(\"---------------------\")\n",
        "for f in dd.keys():\n",
        "  print(f)\n",
        "print(\"---------------------\")\n",
        "for g in dd.values():\n",
        "  print(g)\n",
        "print(\"---------------------\")\n",
        "for i in range(5):\n",
        "  print(\"for 문을 배우자! %d 번째 출력\"%(i+1))"
      ],
      "metadata": {
        "colab": {
          "base_uri": "https://localhost:8080/"
        },
        "id": "IfxrCIKq7gvI",
        "outputId": "5a301909-c231-42e4-a945-0b7a01b3234b"
      },
      "execution_count": 23,
      "outputs": [
        {
          "output_type": "stream",
          "name": "stdout",
          "text": [
            "['a', 'p', 'p', 'l', 'e']\n",
            "---------------------\n",
            "a\n",
            "p\n",
            "p\n",
            "l\n",
            "e\n",
            "---------------------\n",
            "dict_items([('apple', 3000), ('banana', 2000)])\n",
            "---------------------\n",
            "('apple', 3000)\n",
            "('banana', 2000)\n",
            "---------------------\n",
            "apple 3000\n",
            "banana 2000\n",
            "---------------------\n",
            "apple\n",
            "banana\n",
            "---------------------\n",
            "3000\n",
            "2000\n",
            "---------------------\n",
            "for 문을 배우자! 1 번째 출력\n",
            "for 문을 배우자! 2 번째 출력\n",
            "for 문을 배우자! 3 번째 출력\n",
            "for 문을 배우자! 4 번째 출력\n",
            "for 문을 배우자! 5 번째 출력\n"
          ]
        }
      ]
    }
  ]
}