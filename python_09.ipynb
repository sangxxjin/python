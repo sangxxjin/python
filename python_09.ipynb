{
  "nbformat": 4,
  "nbformat_minor": 0,
  "metadata": {
    "colab": {
      "provenance": [],
      "authorship_tag": "ABX9TyPgEasENhmIVLlx1RtJCxQk",
      "include_colab_link": true
    },
    "kernelspec": {
      "name": "python3",
      "display_name": "Python 3"
    },
    "language_info": {
      "name": "python"
    }
  },
  "cells": [
    {
      "cell_type": "markdown",
      "metadata": {
        "id": "view-in-github",
        "colab_type": "text"
      },
      "source": [
        "<a href=\"https://colab.research.google.com/github/sangxxjin/python/blob/main/python_09.ipynb\" target=\"_parent\"><img src=\"https://colab.research.google.com/assets/colab-badge.svg\" alt=\"Open In Colab\"/></a>"
      ]
    },
    {
      "cell_type": "markdown",
      "source": [
        "feedparser은 파이썬에서 사용되는 RSS 및 Atom 피드 파싱을 위한 파이썬 라이브러리입니다. 이 라이브러리는 피드 URL을 입력으로 받아 피드의 콘텐츠를 파싱하고 파이썬 객체로 변환하여 제공합니다.\n",
        "\n",
        "feedparser를 사용하려면 먼저 해당 라이브러리를 설치해야 합니다. 일반적으로 pip를 사용하여 설치할 수 있습니다. 다음 명령을 사용하여 설치할 수 있습니다:"
      ],
      "metadata": {
        "id": "G_APu8mq8fc5"
      }
    },
    {
      "cell_type": "code",
      "source": [
        "pip install feedparser"
      ],
      "metadata": {
        "colab": {
          "base_uri": "https://localhost:8080/"
        },
        "id": "xBFL8hTy8ggl",
        "outputId": "291fdc9a-34bf-461c-f60d-fed8d81d033e"
      },
      "execution_count": 4,
      "outputs": [
        {
          "output_type": "stream",
          "name": "stdout",
          "text": [
            "Looking in indexes: https://pypi.org/simple, https://us-python.pkg.dev/colab-wheels/public/simple/\n",
            "Requirement already satisfied: feedparser in /usr/local/lib/python3.10/dist-packages (6.0.10)\n",
            "Requirement already satisfied: sgmllib3k in /usr/local/lib/python3.10/dist-packages (from feedparser) (1.0.0)\n"
          ]
        }
      ]
    },
    {
      "cell_type": "markdown",
      "source": [
        "설치가 완료되면 파이썬 스크립트에서 feedparser를 import할 수 있습니다:"
      ],
      "metadata": {
        "id": "tCyqoZgT8h3O"
      }
    },
    {
      "cell_type": "code",
      "source": [
        "import feedparser"
      ],
      "metadata": {
        "id": "O1X0mBBx8imW"
      },
      "execution_count": 5,
      "outputs": []
    },
    {
      "cell_type": "markdown",
      "source": [
        "feedparser를 사용하여 피드를 파싱하는 방법은 매우 간단합니다. feedparser.parse() 함수를 사용하여 피드 URL을 전달하고, 반환된 피드 객체에서 필요한 정보에 접근할 수 있습니다. 다음은 기본적인 사용 예시입니다:"
      ],
      "metadata": {
        "id": "Mty0xhAm8jeS"
      }
    },
    {
      "cell_type": "code",
      "source": [
        "import feedparser\n",
        "\n",
        "# 피드 URL 설정\n",
        "feed_url = \"https://example.com/feed\"\n",
        "\n",
        "# 피드 파싱\n",
        "feed = feedparser.parse(feed_url)\n",
        "\n",
        "# 피드 정보 출력\n",
        "print(\"Feed Title:\", feed.title)\n",
        "print(\"Feed Description:\", feed.feed.description)\n",
        "\n",
        "# 피드 아이템 출력\n",
        "for item in feed.entries:\n",
        "    print(\"Item Title:\", item.title)\n",
        "    print(\"Item Description:\", item.description)\n",
        "    print(\"Item Link:\", item.link)\n",
        "    print()"
      ],
      "metadata": {
        "id": "aP-2AQQOBN3B"
      },
      "execution_count": null,
      "outputs": []
    },
    {
      "cell_type": "markdown",
      "source": [
        "위의 예시에서 feed.feed.title은 피드의 제목을 나타내고, feed.feed.description은 피드의 설명을 나타냅니다. feed.entries는 피드의 각 아이템을 나타내는 리스트입니다. 각 아이템은 제목(item.title), 설명(item.description), 링크(item.link) 등의 속성을 가지고 있습니다.\n",
        "\n",
        "feedparser는 피드 파싱을 위해 많은 기능과 옵션을 제공합니다. 예를 들어, 피드의 날짜 정보에 접근하거나, 콘텐츠를 HTML로 변환하는 등의 작업을 수행할 수 있습니다. 더 자세한 정보는 feedparser의 공식 문서를 참조하시기 바랍니다."
      ],
      "metadata": {
        "id": "904UQ9pE8l4G"
      }
    },
    {
      "cell_type": "code",
      "source": [
        "import feedparser\n",
        "\n",
        "# 피드 URL 설정\n",
        "url = \"https://rss.etnews.com/Section901.xml\"\n",
        "\n",
        "# 피드 파싱\n",
        "data = feedparser.parse(url)\n",
        "\n",
        "data_title=data['entries']\n",
        "title_list=[]\n",
        "for i in range(len(data_title)):\n",
        "  #print(data_title[i])\n",
        "  title_list.append(data_title[i]['title'])\n",
        "print(title_list[1])"
      ],
      "metadata": {
        "colab": {
          "base_uri": "https://localhost:8080/"
        },
        "id": "r9PAlcS89Srd",
        "outputId": "b188e776-778a-4629-a9ab-bf913f874932"
      },
      "execution_count": 20,
      "outputs": [
        {
          "output_type": "stream",
          "name": "stdout",
          "text": [
            "[류주복의 디지털 전환을 위한 체크리스트](10) 성공적인 디지털 전환을 위한 기술 파트너 활용법\n"
          ]
        }
      ]
    },
    {
      "cell_type": "code",
      "source": [
        "a = [1,2,3]\n",
        "print(a[2])\n",
        "print(a[-1])\n",
        "print(a[:1])\n",
        "print(a[:3])"
      ],
      "metadata": {
        "colab": {
          "base_uri": "https://localhost:8080/"
        },
        "id": "TKPf4HBH_Pg_",
        "outputId": "d167ab77-e8d8-4fe7-9b88-4b51fc14f8a0"
      },
      "execution_count": 10,
      "outputs": [
        {
          "output_type": "stream",
          "name": "stdout",
          "text": [
            "3\n",
            "3\n",
            "[1]\n"
          ]
        }
      ]
    },
    {
      "cell_type": "code",
      "source": [
        "ex_s = '홍길동의 디지털 전환을 홍길동이 주장'\n",
        "stop_word = ['의','을','이']\n",
        "ex2word=ex_s.split(\" \")\n",
        "\n",
        "ex2word_e=[]\n",
        "for i in ex2word:\n",
        "  for j in i:\n",
        "    if j in stop_word:\n",
        "      i = i.replace(j,'')\n",
        "  ex2word_e.append(i)\n",
        "print(ex2word_e)"
      ],
      "metadata": {
        "colab": {
          "base_uri": "https://localhost:8080/"
        },
        "id": "SakSNUUXCzDy",
        "outputId": "cd8509c3-fd84-4c75-9be6-63f577a76e8d"
      },
      "execution_count": 34,
      "outputs": [
        {
          "output_type": "stream",
          "name": "stdout",
          "text": [
            "['홍길동', '디지털', '전환', '홍길동', '주장']\n"
          ]
        }
      ]
    },
    {
      "cell_type": "code",
      "source": [
        "a=[50,60,0,70,20]\n",
        "b=100\n",
        "for x in a:\n",
        "  if x==0:\n",
        "    continue\n",
        "  print(b/x)"
      ],
      "metadata": {
        "colab": {
          "base_uri": "https://localhost:8080/"
        },
        "id": "aeXTt1TRSfEq",
        "outputId": "1af945b8-5779-4ff1-d10e-381a2359d32e"
      },
      "execution_count": 44,
      "outputs": [
        {
          "output_type": "stream",
          "name": "stdout",
          "text": [
            "2.0\n",
            "1.6666666666666667\n",
            "1.4285714285714286\n",
            "5.0\n"
          ]
        }
      ]
    },
    {
      "cell_type": "code",
      "source": [
        "a=[50,60,0,70,20]\n",
        "b=100\n",
        "for x in a:\n",
        "  try:\n",
        "    print(b/x) # ZeroDivisionError\n",
        "  except Exception as e:\n",
        "    print(\"%d일때 오류발생\"%x)\n",
        "    print(e)"
      ],
      "metadata": {
        "colab": {
          "base_uri": "https://localhost:8080/"
        },
        "id": "hfT57zYzNd-o",
        "outputId": "30f7d372-f023-4efd-96a1-127935a3fae0"
      },
      "execution_count": 43,
      "outputs": [
        {
          "output_type": "stream",
          "name": "stdout",
          "text": [
            "2.0\n",
            "1.6666666666666667\n",
            "0일때 오류발생\n",
            "division by zero\n",
            "1.4285714285714286\n",
            "5.0\n"
          ]
        }
      ]
    },
    {
      "cell_type": "code",
      "source": [
        "a=[50,60,0,70,20]\n",
        "print(a)\n",
        "for i in range(1000):\n",
        "  print(a[i])\n",
        "  if i >= len(a)-1:\n",
        "    break"
      ],
      "metadata": {
        "colab": {
          "base_uri": "https://localhost:8080/"
        },
        "id": "Lc9BedEJSmg8",
        "outputId": "a5f2d135-f350-40a4-fdbd-0be12312baad"
      },
      "execution_count": 48,
      "outputs": [
        {
          "output_type": "stream",
          "name": "stdout",
          "text": [
            "[50, 60, 0, 70, 20]\n",
            "50\n",
            "60\n",
            "0\n",
            "70\n",
            "20\n"
          ]
        }
      ]
    }
  ]
}