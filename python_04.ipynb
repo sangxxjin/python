{
  "nbformat": 4,
  "nbformat_minor": 0,
  "metadata": {
    "colab": {
      "provenance": [],
      "authorship_tag": "ABX9TyNclPnr0zUS2nTbhyWLYSqI",
      "include_colab_link": true
    },
    "kernelspec": {
      "name": "python3",
      "display_name": "Python 3"
    },
    "language_info": {
      "name": "python"
    }
  },
  "cells": [
    {
      "cell_type": "markdown",
      "metadata": {
        "id": "view-in-github",
        "colab_type": "text"
      },
      "source": [
        "<a href=\"https://colab.research.google.com/github/sangxxjin/python/blob/main/python_04.ipynb\" target=\"_parent\"><img src=\"https://colab.research.google.com/assets/colab-badge.svg\" alt=\"Open In Colab\"/></a>"
      ]
    },
    {
      "cell_type": "code",
      "source": [
        "id_1, id_2, id_3 = 2301, 2302, 2303\n",
        "print(id_1, id_2, id_3)\n",
        "\n",
        "name_1, name_2, name_3 = 'a', 'b', 'c'\n",
        "eng_1, eng_2, eng_3 = 90, 80, 85\n",
        "math_1, math_2, math_3 = 78, 68, 80\n",
        "kor_1, kor_2, kor_3 = 94, 90, 90\n",
        "\n",
        "a_avg = (eng_1 + math_1 + kor_1)/3\n",
        "b_avg = (eng_2 + math_2 + kor_2)/3\n",
        "c_avg = (eng_3 + math_3 + kor_3)/3\n",
        "print(a_avg, b_avg, c_avg)\n",
        "\n",
        "# avg_list = []\n",
        "# for i in range(1,4):\n",
        "#   avg = (\"eng_%d\"%i+\"math_%d\"%i+\"kor_%d\"%i)/3\n",
        "#   avg_list.append(avg)\n",
        "# print(avg_list)\n",
        "\n",
        "if a_avg >= 80:\n",
        "  print(\"귀하의 성적은 %f임으로로 합격입니다.\"%a_avg)\n",
        "else:\n",
        "  print(\"귀하의 성적은 %f임으로로 불합격격입니다.\"%a_avg)\n"
      ],
      "metadata": {
        "colab": {
          "base_uri": "https://localhost:8080/"
        },
        "id": "bfReqpv0mFAl",
        "outputId": "9d374a14-0aaf-49d8-ff59-6f4b32ba88c8"
      },
      "execution_count": 12,
      "outputs": [
        {
          "output_type": "stream",
          "name": "stdout",
          "text": [
            "2301 2302 2303\n",
            "87.33333333333333 79.33333333333333 85.0\n",
            "귀하의 성적은 87.333333임으로로 합격입니다.\n"
          ]
        }
      ]
    },
    {
      "cell_type": "markdown",
      "source": [
        "이와 같이 실행하면 이미 문자형이기 때문에 숫자가 바뀐다고 그 문자의 값이 들어오는게 아니라 문자들을 붙혀쓰는 결과가 나온다."
      ],
      "metadata": {
        "id": "l8dlgVTKuYt7"
      }
    },
    {
      "cell_type": "code",
      "source": [
        "id = [2301,2302,2303]\n",
        "name = ['a','b','c']\n",
        "eng = [90, 80, 85]\n",
        "math = [78, 68, 80]\n",
        "kor = [94, 80, 90]\n",
        "\n",
        "\n",
        "avg_dict = {}\n",
        "for i in len(id):\n",
        "  avg = (eng[i] + math[i] + kor[i])/3\n",
        "  if avg>= 80:\n",
        "    print(\"귀하의 성적은 %f이므로 합격입니다.\"%avg)\n",
        "    avg_dict[name[i]]=(avg,'합격')\n",
        "  else:\n",
        "    print(\"귀하의 성적은 %f이므로 합격입니다.\"%avg)\n",
        "    avg_dict[name[i]]=(avg,'불합격')\n",
        "print(avg_dict)\n",
        "\n",
        "\n",
        "#   avg_dict[name[i]] = avg\n",
        "# print(avg_dict)\n",
        "\n",
        "# for i in range(0,3):\n",
        "#   if avg_dict[name[i]]>=80:\n",
        "#     print(\"귀하의 성적은 %f이므로 합격입니다.\"%avg_dict[name[i]])\n",
        "#   else:\n",
        "#     print(\"귀하의 성적은 %f이므로 불합격입니다.\"%avg_dict[name[i]])"
      ],
      "metadata": {
        "colab": {
          "base_uri": "https://localhost:8080/"
        },
        "id": "MRnAcNPRufEU",
        "outputId": "c16d00c2-5ae1-436e-9acb-1fce5861602a"
      },
      "execution_count": 24,
      "outputs": [
        {
          "output_type": "stream",
          "name": "stdout",
          "text": [
            "귀하의 성적은 87.333333이므로 합격입니다.\n",
            "귀하의 성적은 76.000000이므로 합격입니다.\n",
            "귀하의 성적은 85.000000이므로 합격입니다.\n",
            "{'a': (87.33333333333333, '합격'), 'b': (76.0, '불합격'), 'c': (85.0, '합격')}\n"
          ]
        }
      ]
    },
    {
      "cell_type": "code",
      "source": [
        "table_dict = {'id' : [2301,2302,2303],\n",
        "'name' : ['a','b','c'], \n",
        "'eng' : [90, 80, 85],\n",
        "'math' : [78, 68, 80],\n",
        "'kor' : [94, 80, 90]}\n",
        "print(table_dict)\n",
        "\n",
        "for k,v in table_dict.items():\n",
        "  print(k, '====>', v)"
      ],
      "metadata": {
        "colab": {
          "base_uri": "https://localhost:8080/"
        },
        "id": "A7oV8NXp2mA8",
        "outputId": "000ad2df-4be6-4f42-8cf7-c642c5d00f9c"
      },
      "execution_count": 22,
      "outputs": [
        {
          "output_type": "stream",
          "name": "stdout",
          "text": [
            "{'id': [2301, 2302, 2303], 'name': ['a', 'b', 'c'], 'eng': [90, 80, 85], 'math': [78, 68, 80], 'kor': [94, 80, 90]}\n",
            "id ====> [2301, 2302, 2303]\n",
            "name ====> ['a', 'b', 'c']\n",
            "eng ====> [90, 80, 85]\n",
            "math ====> [78, 68, 80]\n",
            "kor ====> [94, 80, 90]\n"
          ]
        }
      ]
    },
    {
      "cell_type": "markdown",
      "source": [
        "이차원 리스트[[]]"
      ],
      "metadata": {
        "id": "pbkRO3Kr5iOA"
      }
    },
    {
      "cell_type": "code",
      "source": [
        "my_list=[]\n",
        "\n",
        "id = [2301,2302,2303]\n",
        "name = ['a','b','c']\n",
        "eng = [90, 80, 85]\n",
        "math = [78, 68, 80]\n",
        "kor = [94, 80, 90]"
      ],
      "metadata": {
        "id": "N36T0Y2G4oLp"
      },
      "execution_count": null,
      "outputs": []
    },
    {
      "cell_type": "code",
      "source": [
        "dim_list_2 = [[\"id\", \"name\", \"eng\", \"math\", \"kor\"],\n",
        "              [2301, 'a',90, 78, 94]]\n",
        "print(dim_list_2)\n",
        "print(dim_list_2[0])\n",
        "print(dim_list_2[0][2])"
      ],
      "metadata": {
        "colab": {
          "base_uri": "https://localhost:8080/"
        },
        "id": "OCUWgZ2O6prb",
        "outputId": "19f93952-5042-4a26-a062-84246f01bf25"
      },
      "execution_count": 23,
      "outputs": [
        {
          "output_type": "stream",
          "name": "stdout",
          "text": [
            "[['id', 'name', 'eng', 'math', 'kor'], [2301, 'a', 90, 78, 94]]\n",
            "['id', 'name', 'eng', 'math', 'kor']\n",
            "eng\n"
          ]
        }
      ]
    },
    {
      "cell_type": "code",
      "source": [
        "id = [2301,2302,2303]\n",
        "name = ['a','b','c']\n",
        "eng = [90, 80, 85]\n",
        "math = [78, 68, 80]\n",
        "kor = [94, 80, 90]\n",
        "\n",
        "avg_dict={}\n",
        "for i in range(0,3):\n",
        "  avg=(eng[i]+math[i]+kor[i])/3\n",
        "  avg_dict[name[i]]=avg\n",
        "  if(avg>=80):\n",
        "    print(\"당신의 점수는 %f임으로 합격입니다\"%avg)\n",
        "  else:\n",
        "    print(\"당신의 점수는 %f임으로 불합격입니다\"%avg)\n",
        "print(avg_dict)"
      ],
      "metadata": {
        "colab": {
          "base_uri": "https://localhost:8080/"
        },
        "id": "B2Amygvo-he0",
        "outputId": "92edbab5-aa5c-4cd4-975a-670d67094ea5"
      },
      "execution_count": 25,
      "outputs": [
        {
          "output_type": "stream",
          "name": "stdout",
          "text": [
            "당신의 점수는 262.000000임으로 합격입니다\n",
            "당신의 점수는 228.000000임으로 합격입니다\n",
            "당신의 점수는 255.000000임으로 합격입니다\n",
            "{'a': 262, 'b': 228, 'c': 255}\n"
          ]
        }
      ]
    }
  ]
}