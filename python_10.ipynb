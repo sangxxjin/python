{
  "nbformat": 4,
  "nbformat_minor": 0,
  "metadata": {
    "colab": {
      "provenance": [],
      "authorship_tag": "ABX9TyMf24d8I3D6+L1tGDSYp0Km",
      "include_colab_link": true
    },
    "kernelspec": {
      "name": "python3",
      "display_name": "Python 3"
    },
    "language_info": {
      "name": "python"
    }
  },
  "cells": [
    {
      "cell_type": "markdown",
      "metadata": {
        "id": "view-in-github",
        "colab_type": "text"
      },
      "source": [
        "<a href=\"https://colab.research.google.com/github/sangxxjin/python/blob/main/python_10.ipynb\" target=\"_parent\"><img src=\"https://colab.research.google.com/assets/colab-badge.svg\" alt=\"Open In Colab\"/></a>"
      ]
    },
    {
      "cell_type": "code",
      "source": [
        "#함수의 관계\n",
        "def 함수이름(매개변수):\n",
        "  print(매개변수)\n",
        "  #pass\n",
        "  결과값 = 1000\n",
        "  return 결과값\n",
        "\n",
        "return_value = 함수이름(매개변수 = 10)\n",
        "print(return_value)"
      ],
      "metadata": {
        "colab": {
          "base_uri": "https://localhost:8080/"
        },
        "id": "5z09AjD-Dc3u",
        "outputId": "3870fb7a-2d6c-4315-f0c2-0620ead44b5c"
      },
      "execution_count": null,
      "outputs": [
        {
          "output_type": "stream",
          "name": "stdout",
          "text": [
            "10\n",
            "1000\n"
          ]
        }
      ]
    },
    {
      "cell_type": "code",
      "source": [
        "class My_testclass:\n",
        "  #class는 대문자로 시작하는게 대부분\n",
        "  a=10\n",
        "  b=10\n",
        "  def my_add(self):\n",
        "    return print(self.a + self.b)\n",
        "    #함수는 소문자로 시작하는게 대부분\n",
        "m_a=My_testclass()\n",
        "#생성자 생성하고 아래에서 생성자의 함수를 호출함\n",
        "m_a.my_add()"
      ],
      "metadata": {
        "colab": {
          "base_uri": "https://localhost:8080/"
        },
        "id": "GhEQxUByF2JF",
        "outputId": "26616d73-0b23-43b5-e013-6391d166f8fd"
      },
      "execution_count": null,
      "outputs": [
        {
          "output_type": "stream",
          "name": "stdout",
          "text": [
            "20\n"
          ]
        }
      ]
    },
    {
      "cell_type": "code",
      "source": [
        "class My_testclass_1:\n",
        "  a = 10\n",
        "  b = 20\n",
        "  def __init__(self, c, d):\n",
        "    self.c = c\n",
        "    self.d = d\n",
        "\n",
        "  def my_add(self):\n",
        "    return print(self.a + self.b)\n",
        "  def my_add_1(self):\n",
        "    return print(self.c + self.d)\n",
        "\n",
        "m_a_1 = My_testclass_1(30,40)\n",
        "m_a_1.my_add()\n",
        "print(\"------------\")\n",
        "m_a_1.my_add_1()"
      ],
      "metadata": {
        "colab": {
          "base_uri": "https://localhost:8080/"
        },
        "id": "DBIFsLRgIr59",
        "outputId": "2fb0a3b3-9ce9-4e70-83ea-ed3e1d386ce3"
      },
      "execution_count": null,
      "outputs": [
        {
          "output_type": "stream",
          "name": "stdout",
          "text": [
            "30\n",
            "------------\n",
            "70\n"
          ]
        }
      ]
    },
    {
      "cell_type": "code",
      "source": [
        "aa=''\n",
        "print('----------')\n",
        "print(aa)\n",
        "print('------------')\n",
        "bb=not ''\n",
        "print(bb)\n",
        "cc='\\n'\n",
        "print(cc)\n",
        "\n",
        "dd='abc\\n\\n\\n'\n",
        "print(dd)\n",
        "print('-------------')\n",
        "ee = dd.strip()\n",
        "print(ee)\n",
        "print('-----------')\n",
        "\n",
        "\n",
        "data=input()\n",
        "print(data)\n",
        "data_1=input()"
      ],
      "metadata": {
        "colab": {
          "base_uri": "https://localhost:8080/"
        },
        "id": "bTwScAuuQm7w",
        "outputId": "b211a7e1-822f-499d-a18c-6641aa8497a1"
      },
      "execution_count": null,
      "outputs": [
        {
          "output_type": "stream",
          "name": "stdout",
          "text": [
            "----------\n",
            "\n",
            "------------\n",
            "True\n",
            "\n",
            "\n",
            "abc\n",
            "\n",
            "\n",
            "\n",
            "-------------\n",
            "abc\n",
            "-----------\n",
            "gogo\n",
            "gogo\n"
          ]
        }
      ]
    },
    {
      "cell_type": "code",
      "source": [
        "for i in range(10):\n",
        "  print('item%d'%(i+1))\n",
        "#이와 같은 문제들은 리스트와 프린트로 그냥 출력하는 경우가 있음"
      ],
      "metadata": {
        "colab": {
          "base_uri": "https://localhost:8080/"
        },
        "id": "t_MOnkxvSbb4",
        "outputId": "48c3172a-05c6-49bc-e203-56d18855124a"
      },
      "execution_count": null,
      "outputs": [
        {
          "output_type": "stream",
          "name": "stdout",
          "text": [
            "item1\n",
            "item2\n",
            "item3\n",
            "item4\n",
            "item5\n",
            "item6\n",
            "item7\n",
            "item8\n",
            "item9\n",
            "item10\n"
          ]
        }
      ]
    },
    {
      "cell_type": "code",
      "source": [
        "#writedata.py\n",
        "f_out = open(\"test.txt\",'w')\n",
        "for i in range(1,11):\n",
        "  data = '%d번째 줄입니다.\\n'%i\n",
        "  f_out.write(data)\n",
        "f_out.close()"
      ],
      "metadata": {
        "id": "V6nCjLqQTvgU"
      },
      "execution_count": null,
      "outputs": []
    },
    {
      "cell_type": "code",
      "source": [
        "with open(\"test.txt\",'w') as f_out:\n",
        "  for i in range(1,11):\n",
        "   data = '%d번째 줄입니다.\\n'%i\n",
        "   f_out.write(data)"
      ],
      "metadata": {
        "id": "2I7yDEyeXAGz"
      },
      "execution_count": null,
      "outputs": []
    },
    {
      "cell_type": "code",
      "source": [
        "#readline_test.py\n",
        "with open(\"test.txt\",'r') as f_in:\n",
        "  line = f_in.readlines()\n",
        "  print(line)\n"
      ],
      "metadata": {
        "colab": {
          "base_uri": "https://localhost:8080/"
        },
        "id": "eTLq0oefYFim",
        "outputId": "cde6ec3f-2cfc-44e8-c996-57ff98a9863b"
      },
      "execution_count": null,
      "outputs": [
        {
          "output_type": "stream",
          "name": "stdout",
          "text": [
            "['1번째 줄입니다.\\n', '2번째 줄입니다.\\n', '3번째 줄입니다.\\n', '4번째 줄입니다.\\n', '5번째 줄입니다.\\n', '6번째 줄입니다.\\n', '7번째 줄입니다.\\n', '8번째 줄입니다.\\n', '9번째 줄입니다.\\n', '10번째 줄입니다.\\n']\n"
          ]
        }
      ]
    },
    {
      "cell_type": "code",
      "source": [
        "# #readline_test.py\n",
        "# f_in = open(\"test.txt\",'r')\n",
        "# line = f_in.readlines()\n",
        "# print(line)\n",
        "# f_in.close()"
      ],
      "metadata": {
        "colab": {
          "base_uri": "https://localhost:8080/"
        },
        "id": "TG-OISMDUAS9",
        "outputId": "9a9f6ebc-b214-43cd-fef5-6f9a9d90fc9d"
      },
      "execution_count": null,
      "outputs": [
        {
          "output_type": "stream",
          "name": "stdout",
          "text": [
            "1번째 줄입니다.\n",
            "\n"
          ]
        }
      ]
    },
    {
      "cell_type": "code",
      "source": [
        "#readline_all.py\n",
        "f = open(\"test.txt\",'r')\n",
        "for line in \n",
        "  line = f.readlines\n",
        "print(line)\n",
        "f_in.close()"
      ],
      "metadata": {
        "id": "jNyHorBqzWlW"
      },
      "execution_count": null,
      "outputs": []
    },
    {
      "cell_type": "code",
      "source": [
        "code = 65\n",
        "char = chr(code)\n",
        "print(char)\n",
        "\n",
        "# for code in range(65,91):\n",
        "#   print(chr(code),)\n",
        "\n",
        "# print([chr])"
      ],
      "metadata": {
        "colab": {
          "base_uri": "https://localhost:8080/"
        },
        "id": "tsSQgsvOWwUQ",
        "outputId": "7439d101-f8ec-4524-e108-3a6adcbd7f0d"
      },
      "execution_count": null,
      "outputs": [
        {
          "output_type": "stream",
          "name": "stdout",
          "text": [
            "A\n"
          ]
        }
      ]
    },
    {
      "cell_type": "code",
      "source": [
        "ch = '가'\n",
        "num_code = ord(ch)\n",
        "print(num_code)"
      ],
      "metadata": {
        "colab": {
          "base_uri": "https://localhost:8080/"
        },
        "id": "vKs3yhmYZl50",
        "outputId": "263be760-1203-4169-9932-fcd13e0c3d11"
      },
      "execution_count": null,
      "outputs": [
        {
          "output_type": "stream",
          "name": "stdout",
          "text": [
            "44032\n"
          ]
        }
      ]
    },
    {
      "cell_type": "code",
      "source": [
        "code = 44032\n",
        "char = chr(code)\n",
        "print(char)"
      ],
      "metadata": {
        "colab": {
          "base_uri": "https://localhost:8080/"
        },
        "id": "8_G48RmwaT0P",
        "outputId": "027b9ae8-d760-4213-f74c-ab4de4880758"
      },
      "execution_count": null,
      "outputs": [
        {
          "output_type": "stream",
          "name": "stdout",
          "text": [
            "가\n"
          ]
        }
      ]
    }
  ]
}