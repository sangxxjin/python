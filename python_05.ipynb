{
  "nbformat": 4,
  "nbformat_minor": 0,
  "metadata": {
    "colab": {
      "provenance": [],
      "authorship_tag": "ABX9TyOoVsM741Zf+ktiK9fz4kEB",
      "include_colab_link": true
    },
    "kernelspec": {
      "name": "python3",
      "display_name": "Python 3"
    },
    "language_info": {
      "name": "python"
    }
  },
  "cells": [
    {
      "cell_type": "markdown",
      "metadata": {
        "id": "view-in-github",
        "colab_type": "text"
      },
      "source": [
        "<a href=\"https://colab.research.google.com/github/sangxxjin/python/blob/main/python_05.ipynb\" target=\"_parent\"><img src=\"https://colab.research.google.com/assets/colab-badge.svg\" alt=\"Open In Colab\"/></a>"
      ]
    },
    {
      "cell_type": "markdown",
      "source": [
        "삼항연산자는 세 개의 피연산자를 가지는 연산자로, 조건문을 평가한 결과에 따라 두 가지 중 하나의 값을 반환합니다. 파이썬에서는 삼항연산자를 다음과 같이 표현합니다:"
      ],
      "metadata": {
        "id": "Uyhho6TOplfh"
      }
    },
    {
      "cell_type": "code",
      "source": [
        "value_if_true if condition else value_if_false\n"
      ],
      "metadata": {
        "id": "_bJCwIgGpl1X"
      },
      "execution_count": null,
      "outputs": []
    },
    {
      "cell_type": "markdown",
      "source": [
        "여기서 condition은 평가할 조건식이고, value_if_true와 value_if_false는 조건식이 참일 때와 거짓일 때 반환될 값입니다.\n",
        "\n",
        "예를 들어, 다음 코드는 변수 x가 0보다 크면 \"양수\", 그렇지 않으면 \"음수 또는 0\"을 출력합니다:"
      ],
      "metadata": {
        "id": "hku6C6odpnwp"
      }
    },
    {
      "cell_type": "code",
      "source": [
        "x = 10\n",
        "result = \"양수\" if x > 0 else \"음수 또는 0\"\n",
        "print(result)  # 출력: 양수\n"
      ],
      "metadata": {
        "id": "4q49qglOppgm"
      },
      "execution_count": null,
      "outputs": []
    },
    {
      "cell_type": "markdown",
      "source": [
        "삼항연산자는 if-else문과 같은 기능을 수행하지만, 간결한 코드를 작성할 때 유용합니다. 하지만, 지나치게 복잡한 조건식이나 여러개의 조건식이 필요한 경우, 가독성이 떨어지기 때문에 적절한 상황에서 사용하는 것이 좋습니다.\n",
        "\n",
        "\n",
        "\n"
      ],
      "metadata": {
        "id": "e7Kk1qKVpqnd"
      }
    },
    {
      "cell_type": "markdown",
      "source": [
        "파이썬에서 if문과 함께 in 키워드를 사용하여 어떤 값이 리스트에 포함되어 있는지를 검사할 수 있습니다. 이 경우, in 키워드는 특정 값이 리스트에 포함되어 있는지 여부를 True 또는 False로 반환합니다. 이를 활용하여 if문을 작성할 수 있습니다.\n",
        "\n",
        "예를 들어, 다음 코드는 리스트 fruits에 \"사과\"가 포함되어 있는지를 검사하여, 포함되어 있다면 \"사과가 포함되어 있습니다.\"라는 메시지를 출력합니다."
      ],
      "metadata": {
        "id": "1ykxGWcXqRQq"
      }
    },
    {
      "cell_type": "code",
      "source": [
        "fruits = [\"바나나\", \"오렌지\", \"사과\", \"포도\"]\n",
        "\n",
        "if \"사과\" in fruits:\n",
        "    print(\"사과가 포함되어 있습니다.\")\n",
        "else:\n",
        "    print(\"사과가 포함되어 있지 않습니다.\")\n"
      ],
      "metadata": {
        "id": "6bx-sqMbqSo6"
      },
      "execution_count": null,
      "outputs": []
    },
    {
      "cell_type": "markdown",
      "source": [
        "위 코드는 \"사과가 포함되어 있습니다.\"를 출력합니다.\n",
        "\n",
        "in 키워드를 사용하면 리스트뿐만 아니라 문자열, 튜플, 세트 등의 컨테이너 타입에서도 사용할 수 있습니다.\n",
        "\n",
        "\n",
        "\n"
      ],
      "metadata": {
        "id": "c7fXqcl8qS9Q"
      }
    },
    {
      "cell_type": "code",
      "source": [
        "sum = 0\n",
        "odd_sum=0\n",
        "even_sum=0\n",
        "odd_list=[]\n",
        "even_list=[]\n",
        "for i in range(1,11):\n",
        "  sum+=i\n",
        "  if i%2==1:\n",
        "    odd_sum+=i\n",
        "    odd_list.append(i)\n",
        "  else :\n",
        "    even_sum+=i\n",
        "    even_list.append(i)\n",
        "print(sum)\n",
        "print(odd_list, odd_sum)\n",
        "print(even_list, even_sum)"
      ],
      "metadata": {
        "colab": {
          "base_uri": "https://localhost:8080/"
        },
        "id": "r5QzzXGurECF",
        "outputId": "ecbbb3b0-edd7-4098-8ab9-bf5a1516d5a0"
      },
      "execution_count": 9,
      "outputs": [
        {
          "output_type": "stream",
          "name": "stdout",
          "text": [
            "55\n",
            "[1, 3, 5, 7, 9] 25\n",
            "[2, 4, 6, 8, 10] 30\n"
          ]
        }
      ]
    },
    {
      "cell_type": "code",
      "source": [
        "print(\"apple\",\"banana\")\n",
        "print(\"apple\",\"banana2\",sep=\" ===> \", end = \" \")\n",
        "print(\"apple\",\"banana3\")"
      ],
      "metadata": {
        "colab": {
          "base_uri": "https://localhost:8080/"
        },
        "id": "prtDZmrywjha",
        "outputId": "1861ef6d-d00a-4a05-9429-c3e30a82b473"
      },
      "execution_count": 14,
      "outputs": [
        {
          "output_type": "stream",
          "name": "stdout",
          "text": [
            "apple banana\n",
            "apple ===> banana2 apple banana3\n"
          ]
        }
      ]
    },
    {
      "cell_type": "code",
      "source": [
        "for i in range(10):\n",
        "  print(i,end=\" \")"
      ],
      "metadata": {
        "colab": {
          "base_uri": "https://localhost:8080/"
        },
        "id": "zXM7YtwHx3nh",
        "outputId": "118b7ce7-dfbc-49ca-c8f0-ad896055f94d"
      },
      "execution_count": 17,
      "outputs": [
        {
          "output_type": "stream",
          "name": "stdout",
          "text": [
            "0 1 2 3 4 5 6 7 8 9 "
          ]
        }
      ]
    },
    {
      "cell_type": "code",
      "source": [
        "print(3+4, 3*4)\n",
        "print([3]+[4], [3]*4)\n",
        "print('a'+'b','a'*4)\n",
        "print(\"-\"*10)"
      ],
      "metadata": {
        "colab": {
          "base_uri": "https://localhost:8080/"
        },
        "id": "lnIu_vuiyOpu",
        "outputId": "0407228b-8baf-4de6-d310-3830ca39415a"
      },
      "execution_count": 21,
      "outputs": [
        {
          "output_type": "stream",
          "name": "stdout",
          "text": [
            "7 12\n",
            "[3, 4] [3, 3, 3, 3]\n",
            "ab aaaa\n",
            "----------\n"
          ]
        }
      ]
    },
    {
      "cell_type": "code",
      "source": [
        "menu_dict= {\"자장면\" : 5000, \"짬뽕\" : 6000}\n",
        "order = input(\"무엇을 원하시나요? \\n\\n자장면은 1 짬뽕은 2  \")\n",
        "\n",
        "if order=='1':\n",
        "  print(\"자장면을 주문했어요 가격은 %d입니다\"%(menu_dict['자장면']))\n",
        "elif order=='2':\n",
        "  print(\"짬뽕을 주문했어요 가격은 %d입니다\"%(menu_dict[\"짬뽕\"]))\n",
        "else:\n",
        "  print(\"주문번호는 1과 2로 해주세요\")"
      ],
      "metadata": {
        "colab": {
          "base_uri": "https://localhost:8080/"
        },
        "id": "BqnO7Zu54brV",
        "outputId": "f8e53ccb-345b-449b-b6ff-e4beea1defa0"
      },
      "execution_count": 33,
      "outputs": [
        {
          "output_type": "stream",
          "name": "stdout",
          "text": [
            "무엇을 원하시나요? \n",
            "\n",
            "자장면은 1 짬뽕은 2  12\n",
            "주문번호는 1과 2로 해주세요\n"
          ]
        }
      ]
    },
    {
      "cell_type": "code",
      "source": [
        "ex_string = \"apple, banana\"\n",
        "print(ex_string)\n",
        "ex_string_list = list(ex_string)\n",
        "print(ex_string_list)\n",
        "\n",
        "# for char in ex_string:\n",
        "#   print(char, end=' ')\n",
        "print(\"----------\")\n",
        "ex_string_clean = ex_string.replace(\" \",\"\")\n",
        "ex_string_clean = ex_string_clean.replace(\",\",\" \")\n",
        "print(ex_string)\n",
        "print(\"----------\")\n",
        "print(ex_string_clean)\n",
        "\n",
        "for char in ex_string:\n",
        "  print(char, end=' ')\n",
        "print()\n",
        "print(list(ex_string_clean))\n",
        "# print(type(ex_string))\n",
        "# print(type(ex_string_list))"
      ],
      "metadata": {
        "colab": {
          "base_uri": "https://localhost:8080/"
        },
        "id": "12B8DaPK8ObA",
        "outputId": "a3c21864-69ea-417f-8e2c-787bfae36e36"
      },
      "execution_count": 47,
      "outputs": [
        {
          "output_type": "stream",
          "name": "stdout",
          "text": [
            "apple, banana\n",
            "['a', 'p', 'p', 'l', 'e', ',', ' ', 'b', 'a', 'n', 'a', 'n', 'a']\n",
            "----------\n",
            "apple, banana\n",
            "----------\n",
            "apple banana\n",
            "a p p l e ,   b a n a n a \n",
            "['a', 'p', 'p', 'l', 'e', ' ', 'b', 'a', 'n', 'a', 'n', 'a']\n"
          ]
        }
      ]
    },
    {
      "cell_type": "code",
      "source": [
        "test_string = 'apple'\n",
        "char_dict={}\n",
        "for char in test_string:\n",
        "  print(char)\n",
        "  if char in char_dict:\n",
        "    char_dict[char] = char_dict[char] +1\n",
        "  else:\n",
        "    char_dict[char]=1\n",
        "    \n",
        "\n",
        "  print(char,' =====> ',char_dict)\n",
        "print(char_dict)"
      ],
      "metadata": {
        "colab": {
          "base_uri": "https://localhost:8080/"
        },
        "id": "eiukCNKU_oy9",
        "outputId": "9f7c523e-6943-4408-816e-3fa331bacf7a"
      },
      "execution_count": 54,
      "outputs": [
        {
          "output_type": "stream",
          "name": "stdout",
          "text": [
            "a\n",
            "a  =====>  {'a': 1}\n",
            "p\n",
            "p  =====>  {'a': 1, 'p': 1}\n",
            "p\n",
            "p  =====>  {'a': 1, 'p': 2}\n",
            "l\n",
            "l  =====>  {'a': 1, 'p': 2, 'l': 1}\n",
            "e\n",
            "e  =====>  {'a': 1, 'p': 2, 'l': 1, 'e': 1}\n",
            "{'a': 1, 'p': 2, 'l': 1, 'e': 1}\n"
          ]
        }
      ]
    },
    {
      "cell_type": "code",
      "source": [
        "dim_1=[]\n",
        "dim_2=[]\n",
        "\n",
        "for i in range(1,13):\n",
        "  dim_1.append(i)\n",
        "  if i%3==0:\n",
        "    print(dim_1)\n",
        "    dim_2.append(dim_1)\n",
        "    dim_1=[]\n",
        "\n",
        "print(dim_2)\n",
        "dim2_dim1=[]\n",
        "for i in dim_2:\n",
        "  dim2_dim1 +=i\n",
        "print(dim2_dim1)"
      ],
      "metadata": {
        "colab": {
          "base_uri": "https://localhost:8080/"
        },
        "id": "rIv1X7dyEnv6",
        "outputId": "00541a0d-691b-4a7a-ab4d-881a89e8c10e"
      },
      "execution_count": 61,
      "outputs": [
        {
          "output_type": "stream",
          "name": "stdout",
          "text": [
            "[1, 2, 3]\n",
            "[4, 5, 6]\n",
            "[7, 8, 9]\n",
            "[10, 11, 12]\n",
            "[[1, 2, 3], [4, 5, 6], [7, 8, 9], [10, 11, 12]]\n",
            "[1, 2, 3, 4, 5, 6, 7, 8, 9, 10, 11, 12]\n"
          ]
        }
      ]
    }
  ]
}