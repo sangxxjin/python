{
  "nbformat": 4,
  "nbformat_minor": 0,
  "metadata": {
    "colab": {
      "provenance": [],
      "authorship_tag": "ABX9TyPavIW6VgMfTiZryj+iKJyp",
      "include_colab_link": true
    },
    "kernelspec": {
      "name": "python3",
      "display_name": "Python 3"
    },
    "language_info": {
      "name": "python"
    }
  },
  "cells": [
    {
      "cell_type": "markdown",
      "metadata": {
        "id": "view-in-github",
        "colab_type": "text"
      },
      "source": [
        "<a href=\"https://colab.research.google.com/github/sangxxjin/python/blob/main/python_02.ipynb\" target=\"_parent\"><img src=\"https://colab.research.google.com/assets/colab-badge.svg\" alt=\"Open In Colab\"/></a>"
      ]
    },
    {
      "cell_type": "markdown",
      "source": [
        "JSON은 \"JavaScript Object Notation\"의 약자로, 데이터를 표현하기 위한 경량의 포맷입니다. JSON은 텍스트 형식으로 이루어져 있으며, 데이터를 보내고 받는 데 매우 유용합니다.\n",
        "\n",
        "JSON은 JavaScript에서 객체를 만들기 위한 문법을 따르고 있습니다. JSON은 JavaScript의 객체와 비슷한 형태로 표현됩니다. 하지만, JSON은 JavaScript 객체와 달리 메소드를 가질 수 없으며, 키와 값 사이에 쌍따옴표(\"\")를 사용하여 표현합니다.\n",
        "\n",
        "JSON은 다양한 프로그래밍 언어에서 지원되며, 데이터를 교환하기 위한 표준 형식 중 하나입니다. 예를 들어, 웹 애플리케이션에서 서버와 통신하기 위해 JSON 형식을 사용할 수 있습니다.\n",
        "\n",
        "JSON 형식의 예시는 다음과 같습니다."
      ],
      "metadata": {
        "id": "qQmdwwk_nUvp"
      }
    },
    {
      "cell_type": "code",
      "source": [
        "<rss version=\"2.0\">\n",
        "  <channel>\n",
        "    <title>My Blog</title>\n",
        "    <link>http://www.myblog.com</link>\n",
        "    <description>My blog description</description>\n",
        "    <item>\n",
        "      <title>My First Blog Post</title>\n",
        "      <link>http://www.myblog.com/posts/1</link>\n",
        "      <description>This is my first blog post.</description>\n",
        "      <pubDate>Thu, 1 Jan 2023 00:00:00 GMT</pubDate>\n",
        "    </item>\n",
        "    <item>\n",
        "      <title>My Second Blog Post</title>\n",
        "      <link>http://www.myblog.com/posts/2</link>\n",
        "      <description>This is my second blog post.</description>\n",
        "      <pubDate>Fri, 2 Jan 2023 00:00:00 GMT</pubDate>\n",
        "    </item>\n",
        "  </channel>\n",
        "</rss>\n"
      ],
      "metadata": {
        "id": "7HHsClUg8kHw"
      },
      "execution_count": null,
      "outputs": []
    },
    {
      "cell_type": "code",
      "source": [
        "{\n",
        "  \"name\": \"John\",\n",
        "  \"age\": 30,\n",
        "  \"city\": \"New York\"\n",
        "}\n"
      ],
      "metadata": {
        "id": "LwGcICB7nWGn"
      },
      "execution_count": null,
      "outputs": []
    },
    {
      "cell_type": "markdown",
      "source": [
        "위의 예시에서, JSON 객체는 이름(name), 나이(age), 그리고 도시(city)로 구성됩니다. 이러한 객체는 다른 시스템과 데이터를 교환하거나, 웹 애플리케이션에서 서버와 통신하기 위해 사용될 수 있습니다.\n",
        "\n",
        "\n",
        "\n",
        "RSS는 \"Really Simple Syndication\"의 약자로, 웹 사이트에서 새로운 컨텐츠를 실시간으로 제공하기 위한 기술입니다. RSS는 일반적으로 블로그, 뉴스 사이트, 팟캐스트 등에서 사용됩니다.\n",
        "\n",
        "RSS는 XML 기반으로 작성되며, 새로운 컨텐츠가 업데이트 될 때마다 새로운 RSS 피드를 생성하여 해당 정보를 구독자들에게 전송합니다. RSS 피드를 구독하고 있는 사용자는 RSS 리더기를 통해 새로운 컨텐츠를 즉시 받아볼 수 있습니다.\n",
        "\n",
        "RSS는 구독자들이 쉽게 원하는 정보를 받아볼 수 있도록 도와주며, 뉴스나 블로그의 주인들은 자신들의 새로운 컨텐츠를 보다 쉽게 홍보할 수 있도록 도와줍니다.\n",
        "\n",
        "RSS의 예시는 다음과 같습니다."
      ],
      "metadata": {
        "id": "RnQelmb1nX1F"
      }
    },
    {
      "cell_type": "markdown",
      "source": [
        "위의 예시에서, channel 요소는 RSS 피드를 식별합니다. title, link, description 요소는 각각 피드의 제목, 링크, 설명을 나타내고, item 요소는 피드에 포함된 각각의 항목을 나타냅니다. item 요소는 각각 title, link, description, pubDate 요소를 가지고 있으며, 이는 각 항목의 제목, 링크, 설명, 게시 날짜를 나타냅니다."
      ],
      "metadata": {
        "id": "JyvF69Rznb-L"
      }
    },
    {
      "cell_type": "markdown",
      "source": [
        "feedparser는 파이썬에서 사용할 수 있는 RSS 및 Atom 피드를 파싱하는 라이브러리입니다. feedparser는 다양한 버전의 RSS 및 Atom 피드를 파싱할 수 있으며, 새로운 피드가 업데이트 되었을 때 이를 알려주는 기능도 제공합니다.\n",
        "\n",
        "feedparser는 파이썬 패키지로 제공되며, 다음과 같은 방법으로 설치할 수 있습니다."
      ],
      "metadata": {
        "id": "FV4E6w9qnddg"
      }
    },
    {
      "cell_type": "code",
      "source": [
        "!pip install feedparser\n"
      ],
      "metadata": {
        "id": "zuIDey9UnemH"
      },
      "execution_count": null,
      "outputs": []
    },
    {
      "cell_type": "markdown",
      "source": [
        "설치가 완료되면, feedparser를 사용하여 RSS 피드를 파싱할 수 있습니다. 다음은 파이썬에서 feedparser를 사용하여 RSS 피드를 읽어오는 예시입니다."
      ],
      "metadata": {
        "id": "9FfH8LyTngLB"
      }
    },
    {
      "cell_type": "code",
      "source": [
        "!pip install feedparser\n",
        "import feedparser\n",
        "\n",
        "# RSS 피드 RUL\n",
        "# feed_rul = \"http://rss.blog.naver.com/somanys/books.xml\"\n",
        "aaa = \"http://rss.etnews.com/02021.xml\"\n",
        "\n",
        "# 피드 읽어오기\n",
        "# feed = feedparser.parse(feed_rul)\n",
        "data = feedparser.parse(aaa)\n",
        "print(data)\n",
        "print('-------------')\n",
        "print(data['entries'])\n",
        "print('-------------')\n",
        "print(data['entries'][0])\n",
        "print('-------------')\n",
        "print(data['entries'][0]['title'])\n",
        "\n",
        "# # 피드 정보 출력\n",
        "# print('Feed title:', rss_feed.feed.title)\n",
        "# print('Feed link:', rss_feed.feed.link)\n",
        "# print('Feed description:', rss_feed.feed.description)\n",
        "\n",
        "# # 항목 정보 출력\n",
        "# for entry in rss_feed.entries:\n",
        "#     print('Entry title:', entry.title)\n",
        "#     print('Entry link:', entry.link)\n",
        "#     print('Entry description:', entry.description)\n",
        "#     print('Entry published date:', entry.published)\n"
      ],
      "metadata": {
        "id": "hG1xKg818gDQ"
      },
      "execution_count": null,
      "outputs": []
    },
    {
      "cell_type": "markdown",
      "source": [
        "위의 예시에서, feedparser.parse() 함수를 사용하여 RSS 피드를 파싱하고, feed.feed 속성을 사용하여 피드의 메타데이터 정보를 가져옵니다. 또한, entries 속성을 사용하여 각 항목의 정보를 가져올 수 있습니다. 각 항목은 title, link, description, published 등의 속성을 가지고 있습니다.\n",
        "\n",
        "feedparser는 다양한 파라미터를 사용하여 RSS 피드를 커스터마이징할 수 있습니다. 예를 들어, etag와 modified 파라미터를 사용하여 캐시된 피드를 업데이트할 수 있습니다. 또한, sanitize_html 파라미터를 사용하여 HTML을 자동으로 정리할 수 있습니다."
      ],
      "metadata": {
        "id": "Chk-6Nktnisd"
      }
    },
    {
      "cell_type": "markdown",
      "source": [
        "dict는 파이썬에서 제공하는 내장 자료형 중 하나로, 키-값 쌍으로 이루어진 매핑 자료형입니다. dict는 가변(mutable) 자료형이며, {} 기호를 사용하여 생성할 수 있습니다. 다음은 dict를 사용한 예시입니다."
      ],
      "metadata": {
        "id": "n7inhXh1nxYe"
      }
    },
    {
      "cell_type": "code",
      "source": [
        "# 빈 딕셔너리 생성\n",
        "empty_dict = {}\n",
        "\n",
        "# 키-값 쌍으로 딕셔너리 생성\n",
        "person = {'name': 'Alice', 'age': 25, 'gender': 'female'}\n",
        "\n",
        "# 딕셔너리 요소 접근\n",
        "print(person['name'])  # 'Alice'\n",
        "\n",
        "# 새로운 키-값 쌍 추가\n",
        "person['city'] = 'New York'\n",
        "\n",
        "# 딕셔너리 요소 삭제\n",
        "del person['gender']\n",
        "\n",
        "# 딕셔너리 순회\n",
        "for key, value in person.items():\n",
        "    print(key, value)"
      ],
      "metadata": {
        "id": "C0uLrKC4nzK5"
      },
      "execution_count": null,
      "outputs": []
    },
    {
      "cell_type": "markdown",
      "source": [
        "위의 예시에서, {} 기호를 사용하여 빈 딕셔너리를 생성하고, 키-값 쌍으로 딕셔너리를 생성합니다. 딕셔너리는 [] 기호를 사용하여 특정 키에 해당하는 값을 접근할 수 있으며, del 키워드를 사용하여 특정 키-값 쌍을 삭제할 수 있습니다. 또한, items() 메서드를 사용하여 딕셔너리를 순회할 수 있습니다.\n",
        "\n",
        "dict는 해시 테이블(hash table)을 사용하여 키-값 쌍을 저장하므로, 매우 빠른 검색 속도를 가지고 있습니다. 따라서, 특정 키-값 쌍을 검색하거나 수정할 때 매우 유용하게 사용됩니다."
      ],
      "metadata": {
        "id": "OZ2ZvCUPn2XN"
      }
    },
    {
      "cell_type": "code",
      "source": [
        "aaa = {'apple' : 1000, 'banana' : 200, 'orange' : 3000, 777 : 'unknown'}\n",
        "print(type(aaa))\n",
        "print(aaa.items())\n",
        "bbb = aaa.items()\n",
        "print(bbb)\n",
        "print(type(bbb))\n",
        "print(aaa.keys())\n",
        "print(aaa.values())\n",
        "\n",
        "print(aaa['apple'])\n",
        "print(aaa[777])\n",
        "aaa['book'] = 5000\n",
        "print(aaa)\n",
        "aaa['banana']=500\n",
        "print(aaa)\n",
        "\n",
        "print(aaa.get('vv'))\n",
        "# print(aaa['vv'])\n",
        "print(aaa['banana'])\n",
        "print(aaa.get('banana'))"
      ],
      "metadata": {
        "colab": {
          "base_uri": "https://localhost:8080/"
        },
        "id": "nIG9oVfioEdI",
        "outputId": "3eaf1043-9c00-4894-a9d6-9e607214688c"
      },
      "execution_count": null,
      "outputs": [
        {
          "output_type": "stream",
          "name": "stdout",
          "text": [
            "<class 'dict'>\n",
            "dict_items([('apple', 1000), ('banana', 200), ('orange', 3000), (777, 'unknown')])\n",
            "dict_items([('apple', 1000), ('banana', 200), ('orange', 3000), (777, 'unknown')])\n",
            "<class 'dict_items'>\n",
            "dict_keys(['apple', 'banana', 'orange', 777])\n",
            "dict_values([1000, 200, 3000, 'unknown'])\n",
            "1000\n",
            "unknown\n",
            "{'apple': 1000, 'banana': 200, 'orange': 3000, 777: 'unknown', 'book': 5000}\n",
            "{'apple': 1000, 'banana': 500, 'orange': 3000, 777: 'unknown', 'book': 5000}\n",
            "None\n",
            "500\n",
            "500\n"
          ]
        }
      ]
    },
    {
      "cell_type": "markdown",
      "source": [
        "파이썬에서 \"set\"은 중복되지 않는 값들의 컬렉션입니다. \"set\"은 중괄호({}) 안에 쉼표로 구분된 값들의 리스트로 정의됩니다. 예를 들어, 다음과 같이 정의된 \"set\"은 1, 2, 3을 포함합니다:"
      ],
      "metadata": {
        "id": "P_H8SdWsyzPl"
      }
    },
    {
      "cell_type": "code",
      "source": [
        "my_set = {1, 2, 3}"
      ],
      "metadata": {
        "id": "NRHaVzcbz9Tf"
      },
      "execution_count": null,
      "outputs": []
    },
    {
      "cell_type": "markdown",
      "source": [
        "\"set\"은 중복되지 않는 값만 포함할 수 있기 때문에, 같은 값이 여러 번 나타나면 자동으로 중복을 제거합니다. 예를 들어, 다음과 같이 중복된 값을 포함하는 \"set\"을 정의해도 중복은 제거됩니다:"
      ],
      "metadata": {
        "id": "fkKVI2xf0BuU"
      }
    },
    {
      "cell_type": "code",
      "source": [
        "my_set = {1, 2, 2, 3, 3, 3}\n",
        "print(my_set) # 출력: {1, 2, 3}"
      ],
      "metadata": {
        "id": "25jiybu10DEN"
      },
      "execution_count": null,
      "outputs": []
    },
    {
      "cell_type": "markdown",
      "source": [
        "\"set\"은 리스트나 튜플과 같은 다른 시퀀스 타입을 \"set\"으로 변환할 수 있습니다. 이를 위해서는 \"set()\" 함수를 사용합니다. 예를 들어, 다음과 같이 리스트를 \"set\"으로 변환할 수 있습니다:"
      ],
      "metadata": {
        "id": "BD_W26ef0Elc"
      }
    },
    {
      "cell_type": "code",
      "source": [
        "set1 = {1, 2, 3}\n",
        "set2 = {3, 4, 5}\n",
        "union_set = set1.union(set2)\n",
        "print(union_set) # 출력: {1, 2, 3, 4, 5}"
      ],
      "metadata": {
        "id": "UYXLaZwq0FwF"
      },
      "execution_count": null,
      "outputs": []
    },
    {
      "cell_type": "markdown",
      "source": [
        "\"set\"은 항목을 추가하거나 제거할 수도 있습니다."
      ],
      "metadata": {
        "id": "C6RsfmlX0IVC"
      }
    },
    {
      "cell_type": "code",
      "source": [
        "# set 생성\n",
        "my_set = {1, 2, 3, 4, 5, 3}\n",
        "\n",
        "# set 출력\n",
        "print(my_set) \n",
        "\n",
        "# create a set from a list\n",
        "# my_list = [1, 2, 3, 4, 5]\n",
        "# my_set = set(my_list)\n",
        "\n",
        "# set에 항목 추가\n",
        "my_set.add(6)\n",
        "\n",
        "# set에서 항목 제거\n",
        "my_set.remove(2)\n",
        "\n",
        "# set 출력\n",
        "print(my_set) "
      ],
      "metadata": {
        "colab": {
          "base_uri": "https://localhost:8080/"
        },
        "id": "_IQoqETjy1d3",
        "outputId": "3c05006e-1b1c-4986-8fea-1e45b912202b"
      },
      "execution_count": 27,
      "outputs": [
        {
          "output_type": "stream",
          "name": "stdout",
          "text": [
            "{1, 2, 3, 4, 5}\n",
            "{1, 3, 4, 5, 6}\n"
          ]
        }
      ]
    },
    {
      "cell_type": "markdown",
      "source": [
        "파이썬에서 \"str\"은 문자열을 나타내는 타입입니다. 문자열은 따옴표로 묶인 문자들의 시퀀스입니다. 예를 들어, 다음과 같이 문자열을 정의할 수 있습니다:"
      ],
      "metadata": {
        "id": "ovOXWKFN0ULj"
      }
    },
    {
      "cell_type": "code",
      "source": [
        "my_str = \"Hello, World!\""
      ],
      "metadata": {
        "id": "xp8-sT_90gHe"
      },
      "execution_count": null,
      "outputs": []
    },
    {
      "cell_type": "markdown",
      "source": [
        "파이썬에서는 큰따옴표나 작은따옴표를 모두 사용하여 문자열을 정의할 수 있습니다. 다음은 큰따옴표를 사용한 문자열 정의 예시입니다:"
      ],
      "metadata": {
        "id": "CSr50KfR0hA0"
      }
    },
    {
      "cell_type": "code",
      "source": [
        "my_str1 = \"This is a string\""
      ],
      "metadata": {
        "id": "IlUBV8AX0iAd"
      },
      "execution_count": null,
      "outputs": []
    },
    {
      "cell_type": "markdown",
      "source": [
        "작은따옴표를 사용한 문자열 정의 예시입니다:"
      ],
      "metadata": {
        "id": "hQBUJ4KQ0jQG"
      }
    },
    {
      "cell_type": "code",
      "source": [
        "my_str2 = 'This is also a string'"
      ],
      "metadata": {
        "id": "F5agg6Mt0j_Q"
      },
      "execution_count": null,
      "outputs": []
    },
    {
      "cell_type": "markdown",
      "source": [
        "문자열은 인덱싱과 슬라이싱을 지원합니다. 인덱싱은 문자열에서 특정 위치에 있는 문자를 선택하는 것이고, 슬라이싱은 문자열에서 일부분을 선택하는 것입니다. 예를 들어, 다음과 같이 문자열의 첫 번째 문자를 선택할 수 있습니다:"
      ],
      "metadata": {
        "id": "UQrOIMr_0pGr"
      }
    },
    {
      "cell_type": "code",
      "source": [
        "my_str = \"Hello, World!\"\n",
        "first_char = my_str[0]\n",
        "print(first_char) # 출력: 'H'"
      ],
      "metadata": {
        "id": "f-qL3Wh90qML"
      },
      "execution_count": null,
      "outputs": []
    },
    {
      "cell_type": "markdown",
      "source": [
        "또한, 다음과 같이 문자열의 일부분을 슬라이싱할 수 있습니다:"
      ],
      "metadata": {
        "id": "81MQtX7e0rUG"
      }
    },
    {
      "cell_type": "code",
      "source": [
        "my_str = \"Hello, World!\"\n",
        "substring = my_str[0:5]\n",
        "print(substring) # 출력: 'Hello'"
      ],
      "metadata": {
        "id": "iNa2UCFP0rya"
      },
      "execution_count": null,
      "outputs": []
    },
    {
      "cell_type": "markdown",
      "source": [
        "문자열은 불변(immutable) 타입입니다. 이는 한 번 생성된 문자열은 변경될 수 없음을 의미합니다. 따라서 문자열을 변경하려면 새로운 문자열을 생성해야 합니다. 이러한 이유로 문자열을 수정하는 작업이 자주 일어나는 경우에는 리스트나 다른 가변(mutable) 타입을 사용하는 것이 더 적합합니다."
      ],
      "metadata": {
        "id": "ZC9puPnb0sqN"
      }
    },
    {
      "cell_type": "markdown",
      "source": [
        "파이썬에서 문자열 타입(str)은 여러 가지 메소드(method)를 가지고 있습니다. 문자열 메소드는 문자열에 대해 수행되는 작업을 쉽게 수행할 수 있도록 도와줍니다. 다음은 일부 문자열 메소드의 예시입니다:\n",
        "\n",
        "upper(): 문자열의 모든 알파벳을 대문자로 변환합니다."
      ],
      "metadata": {
        "id": "BRzQPG771LAp"
      }
    },
    {
      "cell_type": "code",
      "source": [
        "my_str = \"Hello, World!\"\n",
        "new_str = my_str.upper()\n",
        "print(new_str) # 출력: \"HELLO, WORLD!\""
      ],
      "metadata": {
        "id": "BoBt5x1D1LsN"
      },
      "execution_count": null,
      "outputs": []
    },
    {
      "cell_type": "markdown",
      "source": [
        "lower(): 문자열의 모든 알파벳을 소문자로 변환합니다."
      ],
      "metadata": {
        "id": "n-fuxR2Z1NBa"
      }
    },
    {
      "cell_type": "code",
      "source": [
        "my_str = \"Hello, World!\"\n",
        "new_str = my_str.lower()\n",
        "print(new_str) # 출력: \"hello, world!\""
      ],
      "metadata": {
        "id": "pHt1poBd1NlZ"
      },
      "execution_count": null,
      "outputs": []
    },
    {
      "cell_type": "markdown",
      "source": [
        "strip(): 문자열의 앞과 뒤에 있는 모든 공백을 제거합니다."
      ],
      "metadata": {
        "id": "PKF5Nqgq1OCX"
      }
    },
    {
      "cell_type": "code",
      "source": [
        "my_str = \"  Hello, World!  \"\n",
        "new_str = my_str.strip()\n",
        "print(new_str) # 출력: \"Hello, World!\""
      ],
      "metadata": {
        "id": "V2EfJUAl1QPJ"
      },
      "execution_count": null,
      "outputs": []
    },
    {
      "cell_type": "markdown",
      "source": [
        "split(): 문자열을 지정된 구분자(separator)로 나눕니다. 기본적으로 구분자는 공백입니다."
      ],
      "metadata": {
        "id": "EZGrHcqK1TTP"
      }
    },
    {
      "cell_type": "code",
      "source": [
        "my_str = \"Hello, World!\"\n",
        "split_str = my_str.split(\",\")\n",
        "print(split_str) # 출력: [\"Hello\", \" World!\"]"
      ],
      "metadata": {
        "id": "b1l0gKGu1T-L"
      },
      "execution_count": null,
      "outputs": []
    },
    {
      "cell_type": "markdown",
      "source": [
        "replace(): 문자열에서 특정 문자열을 다른 문자열로 교체합니다."
      ],
      "metadata": {
        "id": "bwoJDhup1VDj"
      }
    },
    {
      "cell_type": "code",
      "source": [
        "my_str = \"Hello, World!\"\n",
        "new_str = my_str.replace(\"World\", \"Python\")\n",
        "print(new_str) # 출력: \"Hello, Python!\""
      ],
      "metadata": {
        "id": "FbABNTjJ1WQx"
      },
      "execution_count": null,
      "outputs": []
    },
    {
      "cell_type": "markdown",
      "source": [
        "join(): 문자열 리스트를 지정된 문자열로 결합합니다."
      ],
      "metadata": {
        "id": "eUKTo5XS1YAq"
      }
    },
    {
      "cell_type": "code",
      "source": [
        "my_list = [\"apple\", \"banana\", \"cherry\"]\n",
        "my_str = \", \".join(my_list)\n",
        "print(my_str) # 출력: \"apple, banana, cherry\""
      ],
      "metadata": {
        "colab": {
          "base_uri": "https://localhost:8080/"
        },
        "id": "VHEp21DQ1Y-B",
        "outputId": "7e7afefc-11e7-4319-bb61-18eef7a49368"
      },
      "execution_count": 32,
      "outputs": [
        {
          "output_type": "stream",
          "name": "stdout",
          "text": [
            "apple, banana, cherry\n"
          ]
        }
      ]
    },
    {
      "cell_type": "markdown",
      "source": [
        "find(): 문자열에서 문자의 index값을 출력합니다."
      ],
      "metadata": {
        "id": "2p19GFog7IRz"
      }
    },
    {
      "cell_type": "code",
      "source": [
        "my_str = \"Hello, World!\"\n",
        "new_str = my_str.find(\"W\")\n",
        "print(new_str) # 출력: 7"
      ],
      "metadata": {
        "colab": {
          "base_uri": "https://localhost:8080/"
        },
        "id": "-U2g5JkI7OUi",
        "outputId": "cbc6d0e0-e172-41bf-dc5a-3a8ce656ddea"
      },
      "execution_count": 53,
      "outputs": [
        {
          "output_type": "stream",
          "name": "stdout",
          "text": [
            "7\n"
          ]
        }
      ]
    },
    {
      "cell_type": "code",
      "source": [
        "my_str = \"Hello, world!\"\n",
        "\n",
        "#int float str list tuple dict set\n",
        "print(type(my_str)) #<class 'str>\n",
        "print(list(my_str))\n",
        "\n",
        "my_str=\"   Hello,\\\n",
        "world!\\\n",
        "\"\n",
        "print(type(my_str)) #<class 'str>\n",
        "print(list(my_str))\n",
        "\n",
        "my_str=\"\"\"   Hello,\n",
        "world!\n",
        "\n",
        "\n",
        "\"\"\"\n",
        "print(type(my_str)) #<class 'str>\n",
        "print(list(my_str))\n",
        "\n",
        "length=len(my_str)\n",
        "print(length) # 출력 결과 : 13"
      ],
      "metadata": {
        "colab": {
          "base_uri": "https://localhost:8080/"
        },
        "id": "gtUXj-XH1a57",
        "outputId": "f7291888-5279-4a5a-f50f-6d14ba1d3764"
      },
      "execution_count": 37,
      "outputs": [
        {
          "output_type": "stream",
          "name": "stdout",
          "text": [
            "<class 'str'>\n",
            "['H', 'e', 'l', 'l', 'o', ',', ' ', 'w', 'o', 'r', 'l', 'd', '!']\n",
            "<class 'str'>\n",
            "[' ', ' ', ' ', 'H', 'e', 'l', 'l', 'o', ',', 'w', 'o', 'r', 'l', 'd', '!']\n",
            "<class 'str'>\n",
            "[' ', ' ', ' ', 'H', 'e', 'l', 'l', 'o', ',', '\\n', 'w', 'o', 'r', 'l', 'd', '!', '\\n', '\\n', '\\n']\n",
            "19\n"
          ]
        }
      ]
    },
    {
      "cell_type": "code",
      "source": [
        "my_str=\"Hello, world!\"\n",
        "aaa = my_str.split(\" \")\n",
        "print(aaa)\n",
        "\n",
        "my_str = \"  Hello, World!  \"\n",
        "aaa = my_str.strip()\n",
        "print(aaa) # 출력: \"Hello, World!\"\n",
        "\n",
        "my_str = \"Hello, World!\"\n",
        "aaa = my_str.replace(\"World\", \"Python\")\n",
        "print(aaa) # 출력: \"Hello, Python!\"\n",
        "\n",
        "my_str = \"Hello, World!\"\n",
        "aaa = my_str.find(\"W\")\n",
        "print(aaa) # 출력: 7"
      ],
      "metadata": {
        "colab": {
          "base_uri": "https://localhost:8080/"
        },
        "id": "Z0NU4YqE4xex",
        "outputId": "7df29916-e0c4-40a8-8f68-a4ccc5ae8ea1"
      },
      "execution_count": 52,
      "outputs": [
        {
          "output_type": "stream",
          "name": "stdout",
          "text": [
            "['Hello,', 'world!']\n",
            "Hello, World!\n",
            "Hello, Python!\n",
            "0\n"
          ]
        }
      ]
    }
  ]
}