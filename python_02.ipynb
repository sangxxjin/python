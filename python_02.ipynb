{
  "nbformat": 4,
  "nbformat_minor": 0,
  "metadata": {
    "colab": {
      "provenance": [],
      "authorship_tag": "ABX9TyOlBrg+r3+nsJTEBV/7rKy/",
      "include_colab_link": true
    },
    "kernelspec": {
      "name": "python3",
      "display_name": "Python 3"
    },
    "language_info": {
      "name": "python"
    }
  },
  "cells": [
    {
      "cell_type": "markdown",
      "metadata": {
        "id": "view-in-github",
        "colab_type": "text"
      },
      "source": [
        "<a href=\"https://colab.research.google.com/github/sangxxjin/python/blob/main/python_02.ipynb\" target=\"_parent\"><img src=\"https://colab.research.google.com/assets/colab-badge.svg\" alt=\"Open In Colab\"/></a>"
      ]
    },
    {
      "cell_type": "markdown",
      "source": [
        "JSON은 \"JavaScript Object Notation\"의 약자로, 데이터를 표현하기 위한 경량의 포맷입니다. JSON은 텍스트 형식으로 이루어져 있으며, 데이터를 보내고 받는 데 매우 유용합니다.\n",
        "\n",
        "JSON은 JavaScript에서 객체를 만들기 위한 문법을 따르고 있습니다. JSON은 JavaScript의 객체와 비슷한 형태로 표현됩니다. 하지만, JSON은 JavaScript 객체와 달리 메소드를 가질 수 없으며, 키와 값 사이에 쌍따옴표(\"\")를 사용하여 표현합니다.\n",
        "\n",
        "JSON은 다양한 프로그래밍 언어에서 지원되며, 데이터를 교환하기 위한 표준 형식 중 하나입니다. 예를 들어, 웹 애플리케이션에서 서버와 통신하기 위해 JSON 형식을 사용할 수 있습니다.\n",
        "\n",
        "JSON 형식의 예시는 다음과 같습니다."
      ],
      "metadata": {
        "id": "qQmdwwk_nUvp"
      }
    },
    {
      "cell_type": "code",
      "source": [
        "{\n",
        "  \"name\": \"John\",\n",
        "  \"age\": 30,\n",
        "  \"city\": \"New York\"\n",
        "}\n"
      ],
      "metadata": {
        "id": "LwGcICB7nWGn"
      },
      "execution_count": null,
      "outputs": []
    },
    {
      "cell_type": "markdown",
      "source": [
        "위의 예시에서, JSON 객체는 이름(name), 나이(age), 그리고 도시(city)로 구성됩니다. 이러한 객체는 다른 시스템과 데이터를 교환하거나, 웹 애플리케이션에서 서버와 통신하기 위해 사용될 수 있습니다.\n",
        "\n",
        "\n",
        "\n",
        "RSS는 \"Really Simple Syndication\"의 약자로, 웹 사이트에서 새로운 컨텐츠를 실시간으로 제공하기 위한 기술입니다. RSS는 일반적으로 블로그, 뉴스 사이트, 팟캐스트 등에서 사용됩니다.\n",
        "\n",
        "RSS는 XML 기반으로 작성되며, 새로운 컨텐츠가 업데이트 될 때마다 새로운 RSS 피드를 생성하여 해당 정보를 구독자들에게 전송합니다. RSS 피드를 구독하고 있는 사용자는 RSS 리더기를 통해 새로운 컨텐츠를 즉시 받아볼 수 있습니다.\n",
        "\n",
        "RSS는 구독자들이 쉽게 원하는 정보를 받아볼 수 있도록 도와주며, 뉴스나 블로그의 주인들은 자신들의 새로운 컨텐츠를 보다 쉽게 홍보할 수 있도록 도와줍니다.\n",
        "\n",
        "RSS의 예시는 다음과 같습니다."
      ],
      "metadata": {
        "id": "RnQelmb1nX1F"
      }
    },
    {
      "cell_type": "code",
      "source": [
        "<rss version=\"2.0\">\n",
        "  <channel>\n",
        "    <title>My Blog</title>\n",
        "    <link>http://www.myblog.com</link>\n",
        "    <description>My blog description</description>\n",
        "    <item>\n",
        "      <title>My First Blog Post</title>\n",
        "      <link>http://www.myblog.com/posts/1</link>\n",
        "      <description>This is my first blog post.</description>\n",
        "      <pubDate>Thu, 1 Jan 2023 00:00:00 GMT</pubDate>\n",
        "    </item>\n",
        "    <item>\n",
        "      <title>My Second Blog Post</title>\n",
        "      <link>http://www.myblog.com/posts/2</link>\n",
        "      <description>This is my second blog post.</description>\n",
        "      <pubDate>Fri, 2 Jan 2023 00:00:00 GMT</pubDate>\n",
        "    </item>\n",
        "  </channel>\n",
        "</rss>\n"
      ],
      "metadata": {
        "id": "UONSvQDfnazb",
        "colab": {
          "base_uri": "https://localhost:8080/",
          "height": 136
        },
        "outputId": "8bac2f08-e86d-44a5-ef37-2c86204f7e85"
      },
      "execution_count": 28,
      "outputs": [
        {
          "output_type": "error",
          "ename": "SyntaxError",
          "evalue": "ignored",
          "traceback": [
            "\u001b[0;36m  File \u001b[0;32m\"<ipython-input-28-d0d99d99ccf5>\"\u001b[0;36m, line \u001b[0;32m1\u001b[0m\n\u001b[0;31m    <rss version=\"2.0\">\u001b[0m\n\u001b[0m    ^\u001b[0m\n\u001b[0;31mSyntaxError\u001b[0m\u001b[0;31m:\u001b[0m invalid syntax\n"
          ]
        }
      ]
    },
    {
      "cell_type": "markdown",
      "source": [
        "위의 예시에서, channel 요소는 RSS 피드를 식별합니다. title, link, description 요소는 각각 피드의 제목, 링크, 설명을 나타내고, item 요소는 피드에 포함된 각각의 항목을 나타냅니다. item 요소는 각각 title, link, description, pubDate 요소를 가지고 있으며, 이는 각 항목의 제목, 링크, 설명, 게시 날짜를 나타냅니다."
      ],
      "metadata": {
        "id": "JyvF69Rznb-L"
      }
    },
    {
      "cell_type": "markdown",
      "source": [
        "feedparser는 파이썬에서 사용할 수 있는 RSS 및 Atom 피드를 파싱하는 라이브러리입니다. feedparser는 다양한 버전의 RSS 및 Atom 피드를 파싱할 수 있으며, 새로운 피드가 업데이트 되었을 때 이를 알려주는 기능도 제공합니다.\n",
        "\n",
        "feedparser는 파이썬 패키지로 제공되며, 다음과 같은 방법으로 설치할 수 있습니다."
      ],
      "metadata": {
        "id": "FV4E6w9qnddg"
      }
    },
    {
      "cell_type": "code",
      "source": [
        "!pip install feedparser\n"
      ],
      "metadata": {
        "id": "zuIDey9UnemH"
      },
      "execution_count": null,
      "outputs": []
    },
    {
      "cell_type": "markdown",
      "source": [
        "설치가 완료되면, feedparser를 사용하여 RSS 피드를 파싱할 수 있습니다. 다음은 파이썬에서 feedparser를 사용하여 RSS 피드를 읽어오는 예시입니다."
      ],
      "metadata": {
        "id": "9FfH8LyTngLB"
      }
    },
    {
      "cell_type": "code",
      "source": [
        "!pip install feedparser\n",
        "import feedparser\n",
        "\n",
        "# RSS 피드 RUL\n",
        "# feed_rul = \"http://rss.blog.naver.com/somanys/books.xml\"\n",
        "aaa = \"http://rss.etnews.com/02021.xml\"\n",
        "\n",
        "# 피드 읽어오기\n",
        "# feed = feedparser.parse(feed_rul)\n",
        "data = feedparser.parse(aaa)\n",
        "print(data)\n",
        "print('-------------')\n",
        "print(data['entries'])\n",
        "print('-------------')\n",
        "print(data['entries'][0])\n",
        "print('-------------')\n",
        "print(data['entries'][0]['title'])\n",
        "\n",
        "# # 피드 정보 출력\n",
        "# print('Feed title:', rss_feed.feed.title)\n",
        "# print('Feed link:', rss_feed.feed.link)\n",
        "# print('Feed description:', rss_feed.feed.description)\n",
        "\n",
        "# # 항목 정보 출력\n",
        "# for entry in rss_feed.entries:\n",
        "#     print('Entry title:', entry.title)\n",
        "#     print('Entry link:', entry.link)\n",
        "#     print('Entry description:', entry.description)\n",
        "#     print('Entry published date:', entry.published)\n"
      ],
      "metadata": {
        "id": "gvi92_3cnhnz",
        "colab": {
          "base_uri": "https://localhost:8080/"
        },
        "outputId": "dd66a1ec-6049-48e6-afd7-9fb8eac8b0ef"
      },
      "execution_count": null,
      "outputs": [
        {
          "output_type": "stream",
          "name": "stdout",
          "text": [
            "Looking in indexes: https://pypi.org/simple, https://us-python.pkg.dev/colab-wheels/public/simple/\n",
            "Requirement already satisfied: feedparser in /usr/local/lib/python3.9/dist-packages (6.0.10)\n",
            "Requirement already satisfied: sgmllib3k in /usr/local/lib/python3.9/dist-packages (from feedparser) (1.0.0)\n",
            "{'bozo': False, 'entries': [{'title': \"[ET라씨로] '전기차 100만대분' 엘앤에프, 양극재 신공장 건설에 주가 '쑤욱'\", 'title_detail': {'type': 'text/plain', 'language': None, 'base': 'https://rss.etnews.com/02021.xml', 'value': \"[ET라씨로] '전기차 100만대분' 엘앤에프, 양극재 신공장 건설에 주가 '쑤욱'\"}, 'links': [{'rel': 'alternate', 'type': 'text/html', 'href': 'https://www.etnews.com/20230327000026'}], 'link': 'https://www.etnews.com/20230327000026', 'summary': \"ET라씨로는 인공지능(AI) 기반으로 선별&middot;분석한 주식 정보와 종목 매매 신호를 제공하는 전자신문 증권 정보 애플리케이션입니다. 플레이스토어에서 'ET라씨로'(-&gt;바로가기)를 다운로드하면 IT기업 뉴스와\", 'summary_detail': {'type': 'text/html', 'language': None, 'base': 'https://rss.etnews.com/02021.xml', 'value': \"ET라씨로는 인공지능(AI) 기반으로 선별&middot;분석한 주식 정보와 종목 매매 신호를 제공하는 전자신문 증권 정보 애플리케이션입니다. 플레이스토어에서 'ET라씨로'(-&gt;바로가기)를 다운로드하면 IT기업 뉴스와\"}, 'authors': [{'name': '전자신문인터넷 서희원 기자'}], 'author': '전자신문인터넷 서희원 기자', 'author_detail': {'name': '전자신문인터넷 서희원 기자'}, 'id': 'https://rss.etnews.com/20230327000026', 'guidislink': False, 'comments': 'https://www.etnews.com/20230327000026#comments', 'published': 'Mon, 27 Mar 2023 09:35:00 +0900', 'published_parsed': time.struct_time(tm_year=2023, tm_mon=3, tm_mday=27, tm_hour=0, tm_min=35, tm_sec=0, tm_wday=0, tm_yday=86, tm_isdst=0)}, {'title': '위기설 휩싸인 도이체방크', 'title_detail': {'type': 'text/plain', 'language': None, 'base': 'https://rss.etnews.com/02021.xml', 'value': '위기설 휩싸인 도이체방크'}, 'links': [{'rel': 'alternate', 'type': 'text/html', 'href': 'https://www.etnews.com/20230326000071'}], 'link': 'https://www.etnews.com/20230326000071', 'summary': '독일 최대 은행 도이체방크의 유동성 위기 우려가 제기됐다. 시장에서는 크레디트스위스(CS)와 달리 도이체방크가 지급불능 위험이 없다고 보고 있어 추후 상황에 이목이 집중된다. 지난 24일(현지시간) 도이체방크...', 'summary_detail': {'type': 'text/html', 'language': None, 'base': 'https://rss.etnews.com/02021.xml', 'value': '독일 최대 은행 도이체방크의 유동성 위기 우려가 제기됐다. 시장에서는 크레디트스위스(CS)와 달리 도이체방크가 지급불능 위험이 없다고 보고 있어 추후 상황에 이목이 집중된다. 지난 24일(현지시간) 도이체방크...'}, 'authors': [{'name': '배옥진'}], 'author': '배옥진', 'author_detail': {'name': '배옥진'}, 'id': 'https://rss.etnews.com/20230326000071', 'guidislink': False, 'comments': 'https://www.etnews.com/20230326000071#comments', 'published': 'Sun, 26 Mar 2023 18:44:00 +0900', 'published_parsed': time.struct_time(tm_year=2023, tm_mon=3, tm_mday=26, tm_hour=9, tm_min=44, tm_sec=0, tm_wday=6, tm_yday=85, tm_isdst=0)}, {'title': '[ET단상]블록체인, 보는 것이 신뢰의 시작', 'title_detail': {'type': 'text/plain', 'language': None, 'base': 'https://rss.etnews.com/02021.xml', 'value': '[ET단상]블록체인, 보는 것이 신뢰의 시작'}, 'links': [{'rel': 'alternate', 'type': 'text/html', 'href': 'https://www.etnews.com/20230324000139'}], 'link': 'https://www.etnews.com/20230324000139', 'summary': '2018년 세계적으로 불붙은 비트코인에 관심이 증대하면서 국내에서는 비트코인을 어떤 것으로 볼 것인지, 가상자산이라는 것이 화폐인지 증권인지 상품인지, 블록체인과 가상자산은 불가분의 관계에 있는 것인지, 분...', 'summary_detail': {'type': 'text/html', 'language': None, 'base': 'https://rss.etnews.com/02021.xml', 'value': '2018년 세계적으로 불붙은 비트코인에 관심이 증대하면서 국내에서는 비트코인을 어떤 것으로 볼 것인지, 가상자산이라는 것이 화폐인지 증권인지 상품인지, 블록체인과 가상자산은 불가분의 관계에 있는 것인지, 분...'}, 'authors': [{'name': '배옥진'}], 'author': '배옥진', 'author_detail': {'name': '배옥진'}, 'id': 'https://rss.etnews.com/20230324000139', 'guidislink': False, 'comments': 'https://www.etnews.com/20230324000139#comments', 'published': 'Sun, 26 Mar 2023 16:00:00 +0900', 'published_parsed': time.struct_time(tm_year=2023, tm_mon=3, tm_mday=26, tm_hour=7, tm_min=0, tm_sec=0, tm_wday=6, tm_yday=85, tm_isdst=0)}, {'title': '[데스크가만났습니다]안현준 포블 대표 “코인거래 다음 먹거리는 \\'포블ST\\'\"', 'title_detail': {'type': 'text/plain', 'language': None, 'base': 'https://rss.etnews.com/02021.xml', 'value': '[데스크가만났습니다]안현준 포블 대표 “코인거래 다음 먹거리는 \\'포블ST\\'\"'}, 'links': [{'rel': 'alternate', 'type': 'text/html', 'href': 'https://www.etnews.com/20230324000154'}], 'link': 'https://www.etnews.com/20230324000154', 'summary': '가상자산거래소 포블게이트가 빠르게 변화하고 있다. 창립 초기부터 사업본부장을 역임해 온 안현준 신임 대표가 구원투수로 등판했다. 개발자 출신인 안 대표는 취임 직후 2019년 7월 창립 이후 유지해왔던 포블...', 'summary_detail': {'type': 'text/html', 'language': None, 'base': 'https://rss.etnews.com/02021.xml', 'value': '가상자산거래소 포블게이트가 빠르게 변화하고 있다. 창립 초기부터 사업본부장을 역임해 온 안현준 신임 대표가 구원투수로 등판했다. 개발자 출신인 안 대표는 취임 직후 2019년 7월 창립 이후 유지해왔던 포블...'}, 'authors': [{'name': '이형두'}], 'author': '이형두', 'author_detail': {'name': '이형두'}, 'id': 'https://rss.etnews.com/20230324000154', 'guidislink': False, 'comments': 'https://www.etnews.com/20230324000154#comments', 'published': 'Sun, 26 Mar 2023 12:00:00 +0900', 'published_parsed': time.struct_time(tm_year=2023, tm_mon=3, tm_mday=26, tm_hour=3, tm_min=0, tm_sec=0, tm_wday=6, tm_yday=85, tm_isdst=0)}, {'title': '임종룡 우리금융 회장 취임 \"신뢰 재정비, 새 기업문화 정립\"', 'title_detail': {'type': 'text/plain', 'language': None, 'base': 'https://rss.etnews.com/02021.xml', 'value': '임종룡 우리금융 회장 취임 \"신뢰 재정비, 새 기업문화 정립\"'}, 'links': [{'rel': 'alternate', 'type': 'text/html', 'href': 'https://www.etnews.com/20230324000176'}], 'link': 'https://www.etnews.com/20230324000176', 'summary': '임종룡 우리금융그룹 신임 회장이 관치 논란을 딛고 24일 회장으로 공식 취임했다. 취임 당일부터 새로운 기업문화 정립을 강조하며 대대적인 변화를 예고했다. 우리금융그룹은 24일 정기주주총회 후 본사 강당에...', 'summary_detail': {'type': 'text/html', 'language': None, 'base': 'https://rss.etnews.com/02021.xml', 'value': '임종룡 우리금융그룹 신임 회장이 관치 논란을 딛고 24일 회장으로 공식 취임했다. 취임 당일부터 새로운 기업문화 정립을 강조하며 대대적인 변화를 예고했다. 우리금융그룹은 24일 정기주주총회 후 본사 강당에...'}, 'authors': [{'name': '배옥진'}], 'author': '배옥진', 'author_detail': {'name': '배옥진'}, 'id': 'https://rss.etnews.com/20230324000176', 'guidislink': False, 'comments': 'https://www.etnews.com/20230324000176#comments', 'published': 'Fri, 24 Mar 2023 15:24:00 +0900', 'published_parsed': time.struct_time(tm_year=2023, tm_mon=3, tm_mday=24, tm_hour=6, tm_min=24, tm_sec=0, tm_wday=4, tm_yday=83, tm_isdst=0)}, {'title': '농협금융, 신임 사외이사에 이종화·이윤석 후보 추천', 'title_detail': {'type': 'text/plain', 'language': None, 'base': 'https://rss.etnews.com/02021.xml', 'value': '농협금융, 신임 사외이사에 이종화·이윤석 후보 추천'}, 'links': [{'rel': 'alternate', 'type': 'text/html', 'href': 'https://www.etnews.com/20230324000125'}], 'link': 'https://www.etnews.com/20230324000125', 'summary': '농협금융지주는 24일 임원후보추천위원회(임추위)를 개최하고 이종화 현 고려대 경제학과 교수와 이윤석 현 한국금융연구원 해외금융협력지원센터장을 신임 사외이사 최종 후보자로 추천했다고 밝혔다. 신임 사외이...', 'summary_detail': {'type': 'text/html', 'language': None, 'base': 'https://rss.etnews.com/02021.xml', 'value': '농협금융지주는 24일 임원후보추천위원회(임추위)를 개최하고 이종화 현 고려대 경제학과 교수와 이윤석 현 한국금융연구원 해외금융협력지원센터장을 신임 사외이사 최종 후보자로 추천했다고 밝혔다. 신임 사외이...'}, 'authors': [{'name': '배옥진'}], 'author': '배옥진', 'author_detail': {'name': '배옥진'}, 'id': 'https://rss.etnews.com/20230324000125', 'guidislink': False, 'comments': 'https://www.etnews.com/20230324000125#comments', 'published': 'Fri, 24 Mar 2023 13:54:00 +0900', 'published_parsed': time.struct_time(tm_year=2023, tm_mon=3, tm_mday=24, tm_hour=4, tm_min=54, tm_sec=0, tm_wday=4, tm_yday=83, tm_isdst=0)}, {'title': '[ET라씨로] 삼성전자·SK하이닉스 등 반도체주...업황 바닥 기대에 장 초반↑', 'title_detail': {'type': 'text/plain', 'language': None, 'base': 'https://rss.etnews.com/02021.xml', 'value': '[ET라씨로] 삼성전자·SK하이닉스 등 반도체주...업황 바닥 기대에 장 초반↑'}, 'links': [{'rel': 'alternate', 'type': 'text/html', 'href': 'https://www.etnews.com/20230324000013'}], 'link': 'https://www.etnews.com/20230324000013', 'summary': \"ET라씨로는 인공지능(AI) 기반으로 선별&middot;분석한 주식 정보와 종목 매매 신호를 제공하는 전자신문 증권 정보 애플리케이션입니다. 플레이스토어에서 'ET라씨로'(-&gt;바로가기)를 다운로드하면 IT기업 뉴스와\", 'summary_detail': {'type': 'text/html', 'language': None, 'base': 'https://rss.etnews.com/02021.xml', 'value': \"ET라씨로는 인공지능(AI) 기반으로 선별&middot;분석한 주식 정보와 종목 매매 신호를 제공하는 전자신문 증권 정보 애플리케이션입니다. 플레이스토어에서 'ET라씨로'(-&gt;바로가기)를 다운로드하면 IT기업 뉴스와\"}, 'authors': [{'name': '전자신문인터넷 양민하 기자'}], 'author': '전자신문인터넷 양민하 기자', 'author_detail': {'name': '전자신문인터넷 양민하 기자'}, 'id': 'https://rss.etnews.com/20230324000013', 'guidislink': False, 'comments': 'https://www.etnews.com/20230324000013#comments', 'published': 'Fri, 24 Mar 2023 09:35:00 +0900', 'published_parsed': time.struct_time(tm_year=2023, tm_mon=3, tm_mday=24, tm_hour=0, tm_min=35, tm_sec=0, tm_wday=4, tm_yday=83, tm_isdst=0)}, {'title': \"[ET라씨로] 휴마시스, 무상증자 권리락 착시효과에 장초반 '上'\", 'title_detail': {'type': 'text/plain', 'language': None, 'base': 'https://rss.etnews.com/02021.xml', 'value': \"[ET라씨로] 휴마시스, 무상증자 권리락 착시효과에 장초반 '上'\"}, 'links': [{'rel': 'alternate', 'type': 'text/html', 'href': 'https://www.etnews.com/20230324000012'}], 'link': 'https://www.etnews.com/20230324000012', 'summary': \"ET라씨로는 인공지능(AI) 기반으로 선별&middot;분석한 주식 정보와 종목 매매 신호를 제공하는 전자신문 증권 정보 애플리케이션입니다. 플레이스토어에서 'ET라씨로'(-&gt;바로가기)를 다운로드하면 IT기업 뉴스와\", 'summary_detail': {'type': 'text/html', 'language': None, 'base': 'https://rss.etnews.com/02021.xml', 'value': \"ET라씨로는 인공지능(AI) 기반으로 선별&middot;분석한 주식 정보와 종목 매매 신호를 제공하는 전자신문 증권 정보 애플리케이션입니다. 플레이스토어에서 'ET라씨로'(-&gt;바로가기)를 다운로드하면 IT기업 뉴스와\"}, 'authors': [{'name': '전자신문인터넷 서희원 기자'}], 'author': '전자신문인터넷 서희원 기자', 'author_detail': {'name': '전자신문인터넷 서희원 기자'}, 'id': 'https://rss.etnews.com/20230324000012', 'guidislink': False, 'comments': 'https://www.etnews.com/20230324000012#comments', 'published': 'Fri, 24 Mar 2023 09:25:00 +0900', 'published_parsed': time.struct_time(tm_year=2023, tm_mon=3, tm_mday=24, tm_hour=0, tm_min=25, tm_sec=0, tm_wday=4, tm_yday=83, tm_isdst=0)}, {'title': '신보, 지역 스타트업 생태계 활성화 간담회', 'title_detail': {'type': 'text/plain', 'language': None, 'base': 'https://rss.etnews.com/02021.xml', 'value': '신보, 지역 스타트업 생태계 활성화 간담회'}, 'links': [{'rel': 'alternate', 'type': 'text/html', 'href': 'https://www.etnews.com/20230324000005'}], 'link': 'https://www.etnews.com/20230324000005', 'summary': '신용보증기금은 지난 23일 광주 아이플렉스에서 광주·전남지역 스타트업 생태계 활성화를 위한 현장 소통 간담회를 개최했고 24일 밝혔다. 이날 간담회는 지역 혁신 스타트업의 애로사항을 직접 듣고 효과적인 지원...', 'summary_detail': {'type': 'text/html', 'language': None, 'base': 'https://rss.etnews.com/02021.xml', 'value': '신용보증기금은 지난 23일 광주 아이플렉스에서 광주·전남지역 스타트업 생태계 활성화를 위한 현장 소통 간담회를 개최했고 24일 밝혔다. 이날 간담회는 지역 혁신 스타트업의 애로사항을 직접 듣고 효과적인 지원...'}, 'authors': [{'name': '배옥진'}], 'author': '배옥진', 'author_detail': {'name': '배옥진'}, 'id': 'https://rss.etnews.com/20230324000005', 'guidislink': False, 'comments': 'https://www.etnews.com/20230324000005#comments', 'published': 'Fri, 24 Mar 2023 09:00:00 +0900', 'published_parsed': time.struct_time(tm_year=2023, tm_mon=3, tm_mday=24, tm_hour=0, tm_min=0, tm_sec=0, tm_wday=4, tm_yday=83, tm_isdst=0)}, {'title': \"테라·루나사태 주범 '권도형' 추정 인물, 몬테네그로서 검거\", 'title_detail': {'type': 'text/plain', 'language': None, 'base': 'https://rss.etnews.com/02021.xml', 'value': \"테라·루나사태 주범 '권도형' 추정 인물, 몬테네그로서 검거\"}, 'links': [{'rel': 'alternate', 'type': 'text/html', 'href': 'https://www.etnews.com/20230323000269'}], 'link': 'https://www.etnews.com/20230323000269', 'summary': '가상자산 테라·루나 사태의 주범 권도형 테라폼랩스 대표로 추정되는 인물이 몬테네그로 수도 포드고리차에서 검거됐다. 23일 경찰청은 인터폴에 신청해 발부한 적색수배에 따라 몬테네그로에서 권도형, 한창준으...', 'summary_detail': {'type': 'text/html', 'language': None, 'base': 'https://rss.etnews.com/02021.xml', 'value': '가상자산 테라·루나 사태의 주범 권도형 테라폼랩스 대표로 추정되는 인물이 몬테네그로 수도 포드고리차에서 검거됐다. 23일 경찰청은 인터폴에 신청해 발부한 적색수배에 따라 몬테네그로에서 권도형, 한창준으...'}, 'authors': [{'name': '이형두'}], 'author': '이형두', 'author_detail': {'name': '이형두'}, 'id': 'https://rss.etnews.com/20230323000269', 'guidislink': False, 'comments': 'https://www.etnews.com/20230323000269#comments', 'published': 'Thu, 23 Mar 2023 23:45:00 +0900', 'published_parsed': time.struct_time(tm_year=2023, tm_mon=3, tm_mday=23, tm_hour=14, tm_min=45, tm_sec=0, tm_wday=3, tm_yday=82, tm_isdst=0)}, {'title': \"인도네시아 아체왕국에 '토종코인' 진출한다\", 'title_detail': {'type': 'text/plain', 'language': None, 'base': 'https://rss.etnews.com/02021.xml', 'value': \"인도네시아 아체왕국에 '토종코인' 진출한다\"}, 'links': [{'rel': 'alternate', 'type': 'text/html', 'href': 'https://www.etnews.com/20230323000165'}], 'link': 'https://www.etnews.com/20230323000165', 'summary': '인도네시아 수마트라섬에 위치한 특별자치주 아체왕국이 국내 블록체인 기업이 발행한 가상자산을 도입한다. 23일 업계에 따르면 가상자산 월드코인 발행사 월드에셋홀딩스와 아체왕국, 한국블록체인기업진흥협...', 'summary_detail': {'type': 'text/html', 'language': None, 'base': 'https://rss.etnews.com/02021.xml', 'value': '인도네시아 수마트라섬에 위치한 특별자치주 아체왕국이 국내 블록체인 기업이 발행한 가상자산을 도입한다. 23일 업계에 따르면 가상자산 월드코인 발행사 월드에셋홀딩스와 아체왕국, 한국블록체인기업진흥협...'}, 'authors': [{'name': '이형두'}], 'author': '이형두', 'author_detail': {'name': '이형두'}, 'id': 'https://rss.etnews.com/20230323000165', 'guidislink': False, 'comments': 'https://www.etnews.com/20230323000165#comments', 'published': 'Thu, 23 Mar 2023 14:16:00 +0900', 'published_parsed': time.struct_time(tm_year=2023, tm_mon=3, tm_mday=23, tm_hour=5, tm_min=16, tm_sec=0, tm_wday=3, tm_yday=82, tm_isdst=0)}, {'title': '진옥동 \"고객 자긍심 높이고 강력한 내부통제 실현\"', 'title_detail': {'type': 'text/plain', 'language': None, 'base': 'https://rss.etnews.com/02021.xml', 'value': '진옥동 \"고객 자긍심 높이고 강력한 내부통제 실현\"'}, 'links': [{'rel': 'alternate', 'type': 'text/html', 'href': 'https://www.etnews.com/20230323000142'}], 'link': 'https://www.etnews.com/20230323000142', 'summary': '진옥동 신한금융지주 회장이 23일 주주총회를 거쳐 공식 취임했다. 진 회장은 고객 자긍심 고취와 강력한 내부통제를 핵심 경영가치로 내걸었다. 금융 리스크 대응력 강화를 우선 과제로 삼고 플랫폼 경쟁력 강...', 'summary_detail': {'type': 'text/html', 'language': None, 'base': 'https://rss.etnews.com/02021.xml', 'value': '진옥동 신한금융지주 회장이 23일 주주총회를 거쳐 공식 취임했다. 진 회장은 고객 자긍심 고취와 강력한 내부통제를 핵심 경영가치로 내걸었다. 금융 리스크 대응력 강화를 우선 과제로 삼고 플랫폼 경쟁력 강...'}, 'authors': [{'name': '배옥진'}], 'author': '배옥진', 'author_detail': {'name': '배옥진'}, 'id': 'https://rss.etnews.com/20230323000142', 'guidislink': False, 'comments': 'https://www.etnews.com/20230323000142#comments', 'published': 'Thu, 23 Mar 2023 13:57:00 +0900', 'published_parsed': time.struct_time(tm_year=2023, tm_mon=3, tm_mday=23, tm_hour=4, tm_min=57, tm_sec=0, tm_wday=3, tm_yday=82, tm_isdst=0)}, {'title': '카카오뱅크 앱 매일 접속하면 상금…총 3억원 규모', 'title_detail': {'type': 'text/plain', 'language': None, 'base': 'https://rss.etnews.com/02021.xml', 'value': '카카오뱅크 앱 매일 접속하면 상금…총 3억원 규모'}, 'links': [{'rel': 'alternate', 'type': 'text/html', 'href': 'https://www.etnews.com/20230323000056'}], 'link': 'https://www.etnews.com/20230323000056', 'summary': '카카오뱅크(대표 윤호영)는 미션에 성공한 고객들에게 총 3억원 상금을 제공하는 26일 굿모닝 챌린지 시즌2를 진행한다고 23일 밝혔다. 26일 굿모닝 챌린지는 정해진 기간 동안 매일 오전 6시부터 10시 사이에...', 'summary_detail': {'type': 'text/html', 'language': None, 'base': 'https://rss.etnews.com/02021.xml', 'value': '카카오뱅크(대표 윤호영)는 미션에 성공한 고객들에게 총 3억원 상금을 제공하는 26일 굿모닝 챌린지 시즌2를 진행한다고 23일 밝혔다. 26일 굿모닝 챌린지는 정해진 기간 동안 매일 오전 6시부터 10시 사이에...'}, 'authors': [{'name': '이형두'}], 'author': '이형두', 'author_detail': {'name': '이형두'}, 'id': 'https://rss.etnews.com/20230323000056', 'guidislink': False, 'comments': 'https://www.etnews.com/20230323000056#comments', 'published': 'Thu, 23 Mar 2023 10:34:00 +0900', 'published_parsed': time.struct_time(tm_year=2023, tm_mon=3, tm_mday=23, tm_hour=1, tm_min=34, tm_sec=0, tm_wday=3, tm_yday=82, tm_isdst=0)}, {'title': '포블, 사내업무에 챗GPT 도입…전 직원 교육 제공', 'title_detail': {'type': 'text/plain', 'language': None, 'base': 'https://rss.etnews.com/02021.xml', 'value': '포블, 사내업무에 챗GPT 도입…전 직원 교육 제공'}, 'links': [{'rel': 'alternate', 'type': 'text/html', 'href': 'https://www.etnews.com/20230323000051'}], 'link': 'https://www.etnews.com/20230323000051', 'summary': '가상자산거래소 포블(대표 안현준)은 Open AI의 챗GPT를 전 직원이 업무에 활용할 수 있도록 도입했다고 23일 밝혔다. 챗GPT는 대화형 인공지능(AI) 서비스로 사용자가 대화창에 텍스트를 입력하면 그에 맞춰 대화를...', 'summary_detail': {'type': 'text/html', 'language': None, 'base': 'https://rss.etnews.com/02021.xml', 'value': '가상자산거래소 포블(대표 안현준)은 Open AI의 챗GPT를 전 직원이 업무에 활용할 수 있도록 도입했다고 23일 밝혔다. 챗GPT는 대화형 인공지능(AI) 서비스로 사용자가 대화창에 텍스트를 입력하면 그에 맞춰 대화를...'}, 'authors': [{'name': '이형두'}], 'author': '이형두', 'author_detail': {'name': '이형두'}, 'id': 'https://rss.etnews.com/20230323000051', 'guidislink': False, 'comments': 'https://www.etnews.com/20230323000051#comments', 'published': 'Thu, 23 Mar 2023 10:30:00 +0900', 'published_parsed': time.struct_time(tm_year=2023, tm_mon=3, tm_mday=23, tm_hour=1, tm_min=30, tm_sec=0, tm_wday=3, tm_yday=82, tm_isdst=0)}, {'title': '[ET라씨로] 2차전지 강세 계속…금양 주가 17% ↑', 'title_detail': {'type': 'text/plain', 'language': None, 'base': 'https://rss.etnews.com/02021.xml', 'value': '[ET라씨로] 2차전지 강세 계속…금양 주가 17% ↑'}, 'links': [{'rel': 'alternate', 'type': 'text/html', 'href': 'https://www.etnews.com/20230323000015'}], 'link': 'https://www.etnews.com/20230323000015', 'summary': \"ET라씨로는 인공지능(AI) 기반으로 선별&middot;분석한 주식 정보와 종목 매매 신호를 제공하는 전자신문 증권 정보 애플리케이션입니다. 플레이스토어에서 'ET라씨로'(-&gt;바로가기)를 다운로드하면 IT기업 뉴스와\", 'summary_detail': {'type': 'text/html', 'language': None, 'base': 'https://rss.etnews.com/02021.xml', 'value': \"ET라씨로는 인공지능(AI) 기반으로 선별&middot;분석한 주식 정보와 종목 매매 신호를 제공하는 전자신문 증권 정보 애플리케이션입니다. 플레이스토어에서 'ET라씨로'(-&gt;바로가기)를 다운로드하면 IT기업 뉴스와\"}, 'authors': [{'name': '전자신문인터넷 서희원 기자'}], 'author': '전자신문인터넷 서희원 기자', 'author_detail': {'name': '전자신문인터넷 서희원 기자'}, 'id': 'https://rss.etnews.com/20230323000015', 'guidislink': False, 'comments': 'https://www.etnews.com/20230323000015#comments', 'published': 'Thu, 23 Mar 2023 09:15:00 +0900', 'published_parsed': time.struct_time(tm_year=2023, tm_mon=3, tm_mday=23, tm_hour=0, tm_min=15, tm_sec=0, tm_wday=3, tm_yday=82, tm_isdst=0)}, {'title': \"[ET라씨로] 이수화학 주가, 개장부터 달린다…15% '쑤욱'\", 'title_detail': {'type': 'text/plain', 'language': None, 'base': 'https://rss.etnews.com/02021.xml', 'value': \"[ET라씨로] 이수화학 주가, 개장부터 달린다…15% '쑤욱'\"}, 'links': [{'rel': 'alternate', 'type': 'text/html', 'href': 'https://www.etnews.com/20230323000013'}], 'link': 'https://www.etnews.com/20230323000013', 'summary': \"ET라씨로는 인공지능(AI) 기반으로 선별&middot;분석한 주식 정보와 종목 매매 신호를 제공하는 전자신문 증권 정보 애플리케이션입니다. 플레이스토어에서 'ET라씨로'(-&gt;바로가기)를 다운로드하면 IT기업 뉴스와\", 'summary_detail': {'type': 'text/html', 'language': None, 'base': 'https://rss.etnews.com/02021.xml', 'value': \"ET라씨로는 인공지능(AI) 기반으로 선별&middot;분석한 주식 정보와 종목 매매 신호를 제공하는 전자신문 증권 정보 애플리케이션입니다. 플레이스토어에서 'ET라씨로'(-&gt;바로가기)를 다운로드하면 IT기업 뉴스와\"}, 'authors': [{'name': '전자신문인터넷 서희원 기자'}], 'author': '전자신문인터넷 서희원 기자', 'author_detail': {'name': '전자신문인터넷 서희원 기자'}, 'id': 'https://rss.etnews.com/20230323000013', 'guidislink': False, 'comments': 'https://www.etnews.com/20230323000013#comments', 'published': 'Thu, 23 Mar 2023 09:05:00 +0900', 'published_parsed': time.struct_time(tm_year=2023, tm_mon=3, tm_mday=23, tm_hour=0, tm_min=5, tm_sec=0, tm_wday=3, tm_yday=82, tm_isdst=0)}, {'title': 'DGB금융, 디지털가속화위원회 개최', 'title_detail': {'type': 'text/plain', 'language': None, 'base': 'https://rss.etnews.com/02021.xml', 'value': 'DGB금융, 디지털가속화위원회 개최'}, 'links': [{'rel': 'alternate', 'type': 'text/html', 'href': 'https://www.etnews.com/20230323000004'}], 'link': 'https://www.etnews.com/20230323000004', 'summary': 'DGB금융그룹은 그룹 차원의 디지털 트랜스포메이션(디지털 전환) 실행력 강화를 위해 2023년 제1차 디지털가속화위원회를 개최했다고 23일 밝혔다. DGB금융은 올해 초 그룹 디지털 전략 통합 연계성을 제고하고 지...', 'summary_detail': {'type': 'text/html', 'language': None, 'base': 'https://rss.etnews.com/02021.xml', 'value': 'DGB금융그룹은 그룹 차원의 디지털 트랜스포메이션(디지털 전환) 실행력 강화를 위해 2023년 제1차 디지털가속화위원회를 개최했다고 23일 밝혔다. DGB금융은 올해 초 그룹 디지털 전략 통합 연계성을 제고하고 지...'}, 'authors': [{'name': '배옥진'}], 'author': '배옥진', 'author_detail': {'name': '배옥진'}, 'id': 'https://rss.etnews.com/20230323000004', 'guidislink': False, 'comments': 'https://www.etnews.com/20230323000004#comments', 'published': 'Thu, 23 Mar 2023 08:35:00 +0900', 'published_parsed': time.struct_time(tm_year=2023, tm_mon=3, tm_mday=22, tm_hour=23, tm_min=35, tm_sec=0, tm_wday=2, tm_yday=81, tm_isdst=0)}, {'title': '美 연준, 기준금리 0.25%P 인상…파월 \"연내 금리인하 없을 것\"', 'title_detail': {'type': 'text/plain', 'language': None, 'base': 'https://rss.etnews.com/02021.xml', 'value': '美 연준, 기준금리 0.25%P 인상…파월 \"연내 금리인하 없을 것\"'}, 'links': [{'rel': 'alternate', 'type': 'text/html', 'href': 'https://www.etnews.com/20230323000003'}], 'link': 'https://www.etnews.com/20230323000003', 'summary': '미국 연방준비제도(Fed·연준)가 기준금리를 0.25% 포인트 인상했다. 실리콘밸리은행(SVB) 파산으로 기준금리를 동결해야 한다는 시각이 일부 제기되기도 했으나 시장 예상대로 베이비스텝을 결정했다. 연준은 22일(...', 'summary_detail': {'type': 'text/html', 'language': None, 'base': 'https://rss.etnews.com/02021.xml', 'value': '미국 연방준비제도(Fed·연준)가 기준금리를 0.25% 포인트 인상했다. 실리콘밸리은행(SVB) 파산으로 기준금리를 동결해야 한다는 시각이 일부 제기되기도 했으나 시장 예상대로 베이비스텝을 결정했다. 연준은 22일(...'}, 'authors': [{'name': '배옥진'}], 'author': '배옥진', 'author_detail': {'name': '배옥진'}, 'id': 'https://rss.etnews.com/20230323000003', 'guidislink': False, 'comments': 'https://www.etnews.com/20230323000003#comments', 'published': 'Thu, 23 Mar 2023 04:41:00 +0900', 'published_parsed': time.struct_time(tm_year=2023, tm_mon=3, tm_mday=22, tm_hour=19, tm_min=41, tm_sec=0, tm_wday=2, tm_yday=81, tm_isdst=0)}, {'title': \"행동주의 펀드 '배당확대' 놓고 JB금융·얼라인, 주총 표대결\", 'title_detail': {'type': 'text/plain', 'language': None, 'base': 'https://rss.etnews.com/02021.xml', 'value': \"행동주의 펀드 '배당확대' 놓고 JB금융·얼라인, 주총 표대결\"}, 'links': [{'rel': 'alternate', 'type': 'text/html', 'href': 'https://www.etnews.com/20230322000164'}], 'link': 'https://www.etnews.com/20230322000164', 'summary': '행동주의 펀드로 잘 알려진 얼라인파트너스자산운용과 JB금융지주가 오는 30일 주주총회에서 배당성향 확대 등 안건을 두고 표 대결을 펼친다. JB금융지주 2대 주주인 얼라인은 JB금융 보통주 1주당 715원(중간배...', 'summary_detail': {'type': 'text/html', 'language': None, 'base': 'https://rss.etnews.com/02021.xml', 'value': '행동주의 펀드로 잘 알려진 얼라인파트너스자산운용과 JB금융지주가 오는 30일 주주총회에서 배당성향 확대 등 안건을 두고 표 대결을 펼친다. JB금융지주 2대 주주인 얼라인은 JB금융 보통주 1주당 715원(중간배...'}, 'authors': [{'name': '이형두'}], 'author': '이형두', 'author_detail': {'name': '이형두'}, 'id': 'https://rss.etnews.com/20230322000164', 'guidislink': False, 'comments': 'https://www.etnews.com/20230322000164#comments', 'published': 'Wed, 22 Mar 2023 15:00:00 +0900', 'published_parsed': time.struct_time(tm_year=2023, tm_mon=3, tm_mday=22, tm_hour=6, tm_min=0, tm_sec=0, tm_wday=2, tm_yday=81, tm_isdst=0)}, {'title': '토스페이먼츠, 애플페이 공식 PG 파트너사로 선정', 'title_detail': {'type': 'text/plain', 'language': None, 'base': 'https://rss.etnews.com/02021.xml', 'value': '토스페이먼츠, 애플페이 공식 PG 파트너사로 선정'}, 'links': [{'rel': 'alternate', 'type': 'text/html', 'href': 'https://www.etnews.com/20230322000207'}], 'link': 'https://www.etnews.com/20230322000207', 'summary': '토스의 페이테크 계열사 토스페이먼츠(대표 김민표)는 애플의 글로벌 간편결제 서비스 애플페이의 국내 공식 PG 파트너사로 선정됐다고 22일 밝혔다. 이번 파트너십을 통해 양사는 애플페이의 성공적인 한국 시장...', 'summary_detail': {'type': 'text/html', 'language': None, 'base': 'https://rss.etnews.com/02021.xml', 'value': '토스의 페이테크 계열사 토스페이먼츠(대표 김민표)는 애플의 글로벌 간편결제 서비스 애플페이의 국내 공식 PG 파트너사로 선정됐다고 22일 밝혔다. 이번 파트너십을 통해 양사는 애플페이의 성공적인 한국 시장...'}, 'authors': [{'name': '이형두'}], 'author': '이형두', 'author_detail': {'name': '이형두'}, 'id': 'https://rss.etnews.com/20230322000207', 'guidislink': False, 'comments': 'https://www.etnews.com/20230322000207#comments', 'published': 'Wed, 22 Mar 2023 14:42:00 +0900', 'published_parsed': time.struct_time(tm_year=2023, tm_mon=3, tm_mday=22, tm_hour=5, tm_min=42, tm_sec=0, tm_wday=2, tm_yday=81, tm_isdst=0)}, {'title': '신한은행, E1과 신재생에너지 개발펀드 투자계약', 'title_detail': {'type': 'text/plain', 'language': None, 'base': 'https://rss.etnews.com/02021.xml', 'value': '신한은행, E1과 신재생에너지 개발펀드 투자계약'}, 'links': [{'rel': 'alternate', 'type': 'text/html', 'href': 'https://www.etnews.com/20230322000149'}], 'link': 'https://www.etnews.com/20230322000149', 'summary': '신한은행은 E1, 신한자산운용과 신한-E1 개발펀드 투자계약을 체결했다고 22일 밝혔다. 신한자산운용이 새로 설립하는 신한-E1 개발펀드는 개발 초기단계인 신재생에너지 발전사업 투자를 목표로 설립됐다. 신한...', 'summary_detail': {'type': 'text/html', 'language': None, 'base': 'https://rss.etnews.com/02021.xml', 'value': '신한은행은 E1, 신한자산운용과 신한-E1 개발펀드 투자계약을 체결했다고 22일 밝혔다. 신한자산운용이 새로 설립하는 신한-E1 개발펀드는 개발 초기단계인 신재생에너지 발전사업 투자를 목표로 설립됐다. 신한...'}, 'authors': [{'name': '배옥진'}], 'author': '배옥진', 'author_detail': {'name': '배옥진'}, 'id': 'https://rss.etnews.com/20230322000149', 'guidislink': False, 'comments': 'https://www.etnews.com/20230322000149#comments', 'published': 'Wed, 22 Mar 2023 13:29:00 +0900', 'published_parsed': time.struct_time(tm_year=2023, tm_mon=3, tm_mday=22, tm_hour=4, tm_min=29, tm_sec=0, tm_wday=2, tm_yday=81, tm_isdst=0)}, {'title': \"한투증권, 카뱅·토뱅과 '한국투자 ST 프렌즈' 결성\", 'title_detail': {'type': 'text/plain', 'language': None, 'base': 'https://rss.etnews.com/02021.xml', 'value': \"한투증권, 카뱅·토뱅과 '한국투자 ST 프렌즈' 결성\"}, 'links': [{'rel': 'alternate', 'type': 'text/html', 'href': 'https://www.etnews.com/20230322000129'}], 'link': 'https://www.etnews.com/20230322000129', 'summary': '한국금융지주 자회사 한국투자증권(사장 정일문)은 인터넷 전문은행 카카오뱅크·토스뱅크와 함께 토큰증권 협의체 한국투자 ST 프렌즈를 결성하고 본격적으로 토큰증권 생태계 구축에 나선다고 22일 밝혔다. 한...', 'summary_detail': {'type': 'text/html', 'language': None, 'base': 'https://rss.etnews.com/02021.xml', 'value': '한국금융지주 자회사 한국투자증권(사장 정일문)은 인터넷 전문은행 카카오뱅크·토스뱅크와 함께 토큰증권 협의체 한국투자 ST 프렌즈를 결성하고 본격적으로 토큰증권 생태계 구축에 나선다고 22일 밝혔다. 한...'}, 'authors': [{'name': '이형두'}], 'author': '이형두', 'author_detail': {'name': '이형두'}, 'id': 'https://rss.etnews.com/20230322000129', 'guidislink': False, 'comments': 'https://www.etnews.com/20230322000129#comments', 'published': 'Wed, 22 Mar 2023 12:43:00 +0900', 'published_parsed': time.struct_time(tm_year=2023, tm_mon=3, tm_mday=22, tm_hour=3, tm_min=43, tm_sec=0, tm_wday=2, tm_yday=81, tm_isdst=0)}, {'title': \"크레파스, 4월 12일 '대안신용평가 활용방안' 세미나\", 'title_detail': {'type': 'text/plain', 'language': None, 'base': 'https://rss.etnews.com/02021.xml', 'value': \"크레파스, 4월 12일 '대안신용평가 활용방안' 세미나\"}, 'links': [{'rel': 'alternate', 'type': 'text/html', 'href': 'https://www.etnews.com/20230322000124'}], 'link': 'https://www.etnews.com/20230322000124', 'summary': '국내 1호 대안신용평가사 크레파스솔루션은 미래금융을 위한 대안신용평가 활용방안 세미나를 4월 12일 대한상공회의소에서 개최한다고 22일 밝혔다. 이번 세미나에서는 세계 최초로 대안신용평가 상용화에 성공한...', 'summary_detail': {'type': 'text/html', 'language': None, 'base': 'https://rss.etnews.com/02021.xml', 'value': '국내 1호 대안신용평가사 크레파스솔루션은 미래금융을 위한 대안신용평가 활용방안 세미나를 4월 12일 대한상공회의소에서 개최한다고 22일 밝혔다. 이번 세미나에서는 세계 최초로 대안신용평가 상용화에 성공한...'}, 'authors': [{'name': '배옥진'}], 'author': '배옥진', 'author_detail': {'name': '배옥진'}, 'id': 'https://rss.etnews.com/20230322000124', 'guidislink': False, 'comments': 'https://www.etnews.com/20230322000124#comments', 'published': 'Wed, 22 Mar 2023 12:34:00 +0900', 'published_parsed': time.struct_time(tm_year=2023, tm_mon=3, tm_mday=22, tm_hour=3, tm_min=34, tm_sec=0, tm_wday=2, tm_yday=81, tm_isdst=0)}, {'title': \"토스, 금융 넘어 '통신 플랫폼' 노린다\", 'title_detail': {'type': 'text/plain', 'language': None, 'base': 'https://rss.etnews.com/02021.xml', 'value': \"토스, 금융 넘어 '통신 플랫폼' 노린다\"}, 'links': [{'rel': 'alternate', 'type': 'text/html', 'href': 'https://www.etnews.com/20230322000100'}], 'link': 'https://www.etnews.com/20230322000100', 'summary': '토스가 자사 플랫폼에 이동통신(MNO) 사업자인 LG유플러스 상품도 함께 품었다. 토스는 자회사 토스모바일을 통해 지난달 알뜰폰(MVNO) 사업을 개시했다. 기존 금융 플랫폼 입지로 확보한 고객에게 다양한 통신 상품...', 'summary_detail': {'type': 'text/html', 'language': None, 'base': 'https://rss.etnews.com/02021.xml', 'value': '토스가 자사 플랫폼에 이동통신(MNO) 사업자인 LG유플러스 상품도 함께 품었다. 토스는 자회사 토스모바일을 통해 지난달 알뜰폰(MVNO) 사업을 개시했다. 기존 금융 플랫폼 입지로 확보한 고객에게 다양한 통신 상품...'}, 'authors': [{'name': '이형두'}], 'author': '이형두', 'author_detail': {'name': '이형두'}, 'id': 'https://rss.etnews.com/20230322000100', 'guidislink': False, 'comments': 'https://www.etnews.com/20230322000100#comments', 'published': 'Wed, 22 Mar 2023 11:13:00 +0900', 'published_parsed': time.struct_time(tm_year=2023, tm_mon=3, tm_mday=22, tm_hour=2, tm_min=13, tm_sec=0, tm_wday=2, tm_yday=81, tm_isdst=0)}, {'title': '신한은행, 부동산PF에 5500억 유동성 지원', 'title_detail': {'type': 'text/plain', 'language': None, 'base': 'https://rss.etnews.com/02021.xml', 'value': '신한은행, 부동산PF에 5500억 유동성 지원'}, 'links': [{'rel': 'alternate', 'type': 'text/html', 'href': 'https://www.etnews.com/20230322000067'}], 'link': 'https://www.etnews.com/20230322000067', 'summary': '신한은행은 최근 원자재와 인건비 상승에 따른 공사비 증액으로 자금 조달에 어려움을 겪고 있는 재건축 사업장 등에 대한 지원을 결정했다고 22일 밝혔다. 이번 유동성 지원은 신규 자금지원 2천500억원, 브릿지론...', 'summary_detail': {'type': 'text/html', 'language': None, 'base': 'https://rss.etnews.com/02021.xml', 'value': '신한은행은 최근 원자재와 인건비 상승에 따른 공사비 증액으로 자금 조달에 어려움을 겪고 있는 재건축 사업장 등에 대한 지원을 결정했다고 22일 밝혔다. 이번 유동성 지원은 신규 자금지원 2천500억원, 브릿지론...'}, 'authors': [{'name': '배옥진'}], 'author': '배옥진', 'author_detail': {'name': '배옥진'}, 'id': 'https://rss.etnews.com/20230322000067', 'guidislink': False, 'comments': 'https://www.etnews.com/20230322000067#comments', 'published': 'Wed, 22 Mar 2023 10:33:00 +0900', 'published_parsed': time.struct_time(tm_year=2023, tm_mon=3, tm_mday=22, tm_hour=1, tm_min=33, tm_sec=0, tm_wday=2, tm_yday=81, tm_isdst=0)}, {'title': '카카오뱅크, NICE평가정보와 제휴…고객 신용점수 데이터 제공', 'title_detail': {'type': 'text/plain', 'language': None, 'base': 'https://rss.etnews.com/02021.xml', 'value': '카카오뱅크, NICE평가정보와 제휴…고객 신용점수 데이터 제공'}, 'links': [{'rel': 'alternate', 'type': 'text/html', 'href': 'https://www.etnews.com/20230322000038'}], 'link': 'https://www.etnews.com/20230322000038', 'summary': '카카오뱅크(대표 윤호영)는 내 신용정보 서비스에서 코리아크레딧뷰로(KCB)와 NICE평가정보(NICE)의 신용점수를 모두 확인할 수 있도록 서비스를 확대한다고 22일 밝혔다. 내 신용정보 서비스는 고객이 직접 신용...', 'summary_detail': {'type': 'text/html', 'language': None, 'base': 'https://rss.etnews.com/02021.xml', 'value': '카카오뱅크(대표 윤호영)는 내 신용정보 서비스에서 코리아크레딧뷰로(KCB)와 NICE평가정보(NICE)의 신용점수를 모두 확인할 수 있도록 서비스를 확대한다고 22일 밝혔다. 내 신용정보 서비스는 고객이 직접 신용...'}, 'authors': [{'name': '이형두'}], 'author': '이형두', 'author_detail': {'name': '이형두'}, 'id': 'https://rss.etnews.com/20230322000038', 'guidislink': False, 'comments': 'https://www.etnews.com/20230322000038#comments', 'published': 'Wed, 22 Mar 2023 09:43:00 +0900', 'published_parsed': time.struct_time(tm_year=2023, tm_mon=3, tm_mday=22, tm_hour=0, tm_min=43, tm_sec=0, tm_wday=2, tm_yday=81, tm_isdst=0)}, {'title': '토스, 대환대출플랫폼 전략 세미나 개최', 'title_detail': {'type': 'text/plain', 'language': None, 'base': 'https://rss.etnews.com/02021.xml', 'value': '토스, 대환대출플랫폼 전략 세미나 개최'}, 'links': [{'rel': 'alternate', 'type': 'text/html', 'href': 'https://www.etnews.com/20230322000035'}], 'link': 'https://www.etnews.com/20230322000035', 'summary': '토스는 제휴 금융사를 대상으로 대환대출 플랫폼 전략 세미나를 개최했다고 22일 밝혔다. 지난 21일 서울 양재 엘타워에서 열린 행사에는 60여개 금융사 여신업무 실무 책임자 125명이 참여했다. 이날 세미나는 오...', 'summary_detail': {'type': 'text/html', 'language': None, 'base': 'https://rss.etnews.com/02021.xml', 'value': '토스는 제휴 금융사를 대상으로 대환대출 플랫폼 전략 세미나를 개최했다고 22일 밝혔다. 지난 21일 서울 양재 엘타워에서 열린 행사에는 60여개 금융사 여신업무 실무 책임자 125명이 참여했다. 이날 세미나는 오...'}, 'authors': [{'name': '이형두'}], 'author': '이형두', 'author_detail': {'name': '이형두'}, 'id': 'https://rss.etnews.com/20230322000035', 'guidislink': False, 'comments': 'https://www.etnews.com/20230322000035#comments', 'published': 'Wed, 22 Mar 2023 09:38:00 +0900', 'published_parsed': time.struct_time(tm_year=2023, tm_mon=3, tm_mday=22, tm_hour=0, tm_min=38, tm_sec=0, tm_wday=2, tm_yday=81, tm_isdst=0)}, {'title': '포블, 엔스트림웍스와 ST 비즈니스 발굴 MOU 체결', 'title_detail': {'type': 'text/plain', 'language': None, 'base': 'https://rss.etnews.com/02021.xml', 'value': '포블, 엔스트림웍스와 ST 비즈니스 발굴 MOU 체결'}, 'links': [{'rel': 'alternate', 'type': 'text/html', 'href': 'https://www.etnews.com/20230321000212'}], 'link': 'https://www.etnews.com/20230321000212', 'summary': '가상자산거래소 포블(대표 안현준)은 엔스트림웍스(대표 유완재)와 토큰증권(ST) 기술 개발 및 엑셀러레이팅 등 다양한 블록체인 비즈니스 발굴 업무협약(MOU)을 체결했다고 21일 밝혔다. ST는 부동산이나 미술품,...', 'summary_detail': {'type': 'text/html', 'language': None, 'base': 'https://rss.etnews.com/02021.xml', 'value': '가상자산거래소 포블(대표 안현준)은 엔스트림웍스(대표 유완재)와 토큰증권(ST) 기술 개발 및 엑셀러레이팅 등 다양한 블록체인 비즈니스 발굴 업무협약(MOU)을 체결했다고 21일 밝혔다. ST는 부동산이나 미술품,...'}, 'authors': [{'name': '이형두'}], 'author': '이형두', 'author_detail': {'name': '이형두'}, 'id': 'https://rss.etnews.com/20230321000212', 'guidislink': False, 'comments': 'https://www.etnews.com/20230321000212#comments', 'published': 'Tue, 21 Mar 2023 14:45:00 +0900', 'published_parsed': time.struct_time(tm_year=2023, tm_mon=3, tm_mday=21, tm_hour=5, tm_min=45, tm_sec=0, tm_wday=1, tm_yday=80, tm_isdst=0)}, {'title': \"금융지주 슈퍼주총 위크…신한 진옥동·우리 임종룡 '광폭 행보'\", 'title_detail': {'type': 'text/plain', 'language': None, 'base': 'https://rss.etnews.com/02021.xml', 'value': \"금융지주 슈퍼주총 위크…신한 진옥동·우리 임종룡 '광폭 행보'\"}, 'links': [{'rel': 'alternate', 'type': 'text/html', 'href': 'https://www.etnews.com/20230321000175'}], 'link': 'https://www.etnews.com/20230321000175', 'summary': '국내 금융지주들이 오는 23일을 시작으로 잇달아 주주총회를 개최하며 신임 회장 취임을 공식화한다. 내정 후 조용한 행보를 이어오던 신임 회장들은 그 어느 때보다 강화된 리스크 관리 강화와 금융지원 확대 기조...', 'summary_detail': {'type': 'text/html', 'language': None, 'base': 'https://rss.etnews.com/02021.xml', 'value': '국내 금융지주들이 오는 23일을 시작으로 잇달아 주주총회를 개최하며 신임 회장 취임을 공식화한다. 내정 후 조용한 행보를 이어오던 신임 회장들은 그 어느 때보다 강화된 리스크 관리 강화와 금융지원 확대 기조...'}, 'authors': [{'name': '배옥진'}], 'author': '배옥진', 'author_detail': {'name': '배옥진'}, 'id': 'https://rss.etnews.com/20230321000175', 'guidislink': False, 'comments': 'https://www.etnews.com/20230321000175#comments', 'published': 'Tue, 21 Mar 2023 14:09:00 +0900', 'published_parsed': time.struct_time(tm_year=2023, tm_mon=3, tm_mday=21, tm_hour=5, tm_min=9, tm_sec=0, tm_wday=1, tm_yday=80, tm_isdst=0)}, {'title': '8퍼센트, P2P 투자 앱 출시…편의성 증진', 'title_detail': {'type': 'text/plain', 'language': None, 'base': 'https://rss.etnews.com/02021.xml', 'value': '8퍼센트, P2P 투자 앱 출시…편의성 증진'}, 'links': [{'rel': 'alternate', 'type': 'text/html', 'href': 'https://www.etnews.com/20230321000140'}], 'link': 'https://www.etnews.com/20230321000140', 'summary': '온라인투자연계금융(P2P금융) 서비스 8퍼센트는 금융 소비자의 투자 편의를 돕기 위한 투자 애플리케이션(앱)을 출시했다고 21일 밝혔다. 8퍼센트 투자앱은 신규 투자 상품에 대한 접근성을 개선했고, 기존 투자 내...', 'summary_detail': {'type': 'text/html', 'language': None, 'base': 'https://rss.etnews.com/02021.xml', 'value': '온라인투자연계금융(P2P금융) 서비스 8퍼센트는 금융 소비자의 투자 편의를 돕기 위한 투자 애플리케이션(앱)을 출시했다고 21일 밝혔다. 8퍼센트 투자앱은 신규 투자 상품에 대한 접근성을 개선했고, 기존 투자 내...'}, 'authors': [{'name': '이형두'}], 'author': '이형두', 'author_detail': {'name': '이형두'}, 'id': 'https://rss.etnews.com/20230321000140', 'guidislink': False, 'comments': 'https://www.etnews.com/20230321000140#comments', 'published': 'Tue, 21 Mar 2023 13:24:00 +0900', 'published_parsed': time.struct_time(tm_year=2023, tm_mon=3, tm_mday=21, tm_hour=4, tm_min=24, tm_sec=0, tm_wday=1, tm_yday=80, tm_isdst=0)}, {'title': '[ET라씨로] 2차전지주 다시 강세로…금양 주가 21% ↑', 'title_detail': {'type': 'text/plain', 'language': None, 'base': 'https://rss.etnews.com/02021.xml', 'value': '[ET라씨로] 2차전지주 다시 강세로…금양 주가 21% ↑'}, 'links': [{'rel': 'alternate', 'type': 'text/html', 'href': 'https://www.etnews.com/20230321000116'}], 'link': 'https://www.etnews.com/20230321000116', 'summary': \"ET라씨로는 인공지능(AI) 기반으로 선별&middot;분석한 주식 정보와 종목 매매 신호를 제공하는 전자신문 증권 정보 애플리케이션입니다. 플레이스토어에서 'ET라씨로'(-&gt;바로가기)를 다운로드하면 IT기업 뉴스와\", 'summary_detail': {'type': 'text/html', 'language': None, 'base': 'https://rss.etnews.com/02021.xml', 'value': \"ET라씨로는 인공지능(AI) 기반으로 선별&middot;분석한 주식 정보와 종목 매매 신호를 제공하는 전자신문 증권 정보 애플리케이션입니다. 플레이스토어에서 'ET라씨로'(-&gt;바로가기)를 다운로드하면 IT기업 뉴스와\"}, 'authors': [{'name': '전자신문인터넷 서희원 기자'}], 'author': '전자신문인터넷 서희원 기자', 'author_detail': {'name': '전자신문인터넷 서희원 기자'}, 'id': 'https://rss.etnews.com/20230321000116', 'guidislink': False, 'comments': 'https://www.etnews.com/20230321000116#comments', 'published': 'Tue, 21 Mar 2023 11:25:00 +0900', 'published_parsed': time.struct_time(tm_year=2023, tm_mon=3, tm_mday=21, tm_hour=2, tm_min=25, tm_sec=0, tm_wday=1, tm_yday=80, tm_isdst=0)}, {'title': \"하나은행, 금융권 첫 미술품 유통모델 '미술품 신탁' 출시\", 'title_detail': {'type': 'text/plain', 'language': None, 'base': 'https://rss.etnews.com/02021.xml', 'value': \"하나은행, 금융권 첫 미술품 유통모델 '미술품 신탁' 출시\"}, 'links': [{'rel': 'alternate', 'type': 'text/html', 'href': 'https://www.etnews.com/20230321000030'}], 'link': 'https://www.etnews.com/20230321000030', 'summary': '하나은행은 작년 11월 개설한 금융권 첫 개방형 수장고 H.art1(하트원)과 연계한 신탁 신상품인 미술품 동산관리처분신탁(미술품 신탁)을 출시했다고 21일 밝혔다. 전시기간 동안 파악된 작품 구매 수요를 신탁...', 'summary_detail': {'type': 'text/html', 'language': None, 'base': 'https://rss.etnews.com/02021.xml', 'value': '하나은행은 작년 11월 개설한 금융권 첫 개방형 수장고 H.art1(하트원)과 연계한 신탁 신상품인 미술품 동산관리처분신탁(미술품 신탁)을 출시했다고 21일 밝혔다. 전시기간 동안 파악된 작품 구매 수요를 신탁...'}, 'authors': [{'name': '배옥진'}], 'author': '배옥진', 'author_detail': {'name': '배옥진'}, 'id': 'https://rss.etnews.com/20230321000030', 'guidislink': False, 'comments': 'https://www.etnews.com/20230321000030#comments', 'published': 'Tue, 21 Mar 2023 09:41:00 +0900', 'published_parsed': time.struct_time(tm_year=2023, tm_mon=3, tm_mday=21, tm_hour=0, tm_min=41, tm_sec=0, tm_wday=1, tm_yday=80, tm_isdst=0)}, {'title': '[ET라씨로] 中 판호발급에 넷마블·넥슨 등 국내 게임주 강세', 'title_detail': {'type': 'text/plain', 'language': None, 'base': 'https://rss.etnews.com/02021.xml', 'value': '[ET라씨로] 中 판호발급에 넷마블·넥슨 등 국내 게임주 강세'}, 'links': [{'rel': 'alternate', 'type': 'text/html', 'href': 'https://www.etnews.com/20230321000016'}], 'link': 'https://www.etnews.com/20230321000016', 'summary': \"ET라씨로는 인공지능(AI) 기반으로 선별&middot;분석한 주식 정보와 종목 매매 신호를 제공하는 전자신문 증권 정보 애플리케이션입니다. 플레이스토어에서 'ET라씨로'(-&gt;바로가기)를 다운로드하면 IT기업 뉴스와\", 'summary_detail': {'type': 'text/html', 'language': None, 'base': 'https://rss.etnews.com/02021.xml', 'value': \"ET라씨로는 인공지능(AI) 기반으로 선별&middot;분석한 주식 정보와 종목 매매 신호를 제공하는 전자신문 증권 정보 애플리케이션입니다. 플레이스토어에서 'ET라씨로'(-&gt;바로가기)를 다운로드하면 IT기업 뉴스와\"}, 'authors': [{'name': '전자신문인터넷 양민하 기자'}], 'author': '전자신문인터넷 양민하 기자', 'author_detail': {'name': '전자신문인터넷 양민하 기자'}, 'id': 'https://rss.etnews.com/20230321000016', 'guidislink': False, 'comments': 'https://www.etnews.com/20230321000016#comments', 'published': 'Tue, 21 Mar 2023 09:25:00 +0900', 'published_parsed': time.struct_time(tm_year=2023, tm_mon=3, tm_mday=21, tm_hour=0, tm_min=25, tm_sec=0, tm_wday=1, tm_yday=80, tm_isdst=0)}, {'title': \"[ET라씨로] '전날 상한가' 코센, 장 초반 15% ↑\", 'title_detail': {'type': 'text/plain', 'language': None, 'base': 'https://rss.etnews.com/02021.xml', 'value': \"[ET라씨로] '전날 상한가' 코센, 장 초반 15% ↑\"}, 'links': [{'rel': 'alternate', 'type': 'text/html', 'href': 'https://www.etnews.com/20230321000017'}], 'link': 'https://www.etnews.com/20230321000017', 'summary': \"ET라씨로는 인공지능(AI) 기반으로 선별&middot;분석한 주식 정보와 종목 매매 신호를 제공하는 전자신문 증권 정보 애플리케이션입니다. 플레이스토어에서 'ET라씨로'(-&gt;바로가기)를 다운로드하면 IT기업 뉴스와\", 'summary_detail': {'type': 'text/html', 'language': None, 'base': 'https://rss.etnews.com/02021.xml', 'value': \"ET라씨로는 인공지능(AI) 기반으로 선별&middot;분석한 주식 정보와 종목 매매 신호를 제공하는 전자신문 증권 정보 애플리케이션입니다. 플레이스토어에서 'ET라씨로'(-&gt;바로가기)를 다운로드하면 IT기업 뉴스와\"}, 'authors': [{'name': '전자신문인터넷 서희원 기자'}], 'author': '전자신문인터넷 서희원 기자', 'author_detail': {'name': '전자신문인터넷 서희원 기자'}, 'id': 'https://rss.etnews.com/20230321000017', 'guidislink': False, 'comments': 'https://www.etnews.com/20230321000017#comments', 'published': 'Tue, 21 Mar 2023 09:20:00 +0900', 'published_parsed': time.struct_time(tm_year=2023, tm_mon=3, tm_mday=21, tm_hour=0, tm_min=20, tm_sec=0, tm_wday=1, tm_yday=80, tm_isdst=0)}, {'title': '[ET라씨로] STX, 해운 부문 인적 분할...장초반 22%대 급등', 'title_detail': {'type': 'text/plain', 'language': None, 'base': 'https://rss.etnews.com/02021.xml', 'value': '[ET라씨로] STX, 해운 부문 인적 분할...장초반 22%대 급등'}, 'links': [{'rel': 'alternate', 'type': 'text/html', 'href': 'https://www.etnews.com/20230321000013'}], 'link': 'https://www.etnews.com/20230321000013', 'summary': \"ET라씨로는 인공지능(AI) 기반으로 선별&middot;분석한 주식 정보와 종목 매매 신호를 제공하는 전자신문 증권 정보 애플리케이션입니다. 플레이스토어에서 'ET라씨로'(-&gt;바로가기)를 다운로드하면 IT기업 뉴스와\", 'summary_detail': {'type': 'text/html', 'language': None, 'base': 'https://rss.etnews.com/02021.xml', 'value': \"ET라씨로는 인공지능(AI) 기반으로 선별&middot;분석한 주식 정보와 종목 매매 신호를 제공하는 전자신문 증권 정보 애플리케이션입니다. 플레이스토어에서 'ET라씨로'(-&gt;바로가기)를 다운로드하면 IT기업 뉴스와\"}, 'authors': [{'name': '전자신문인터넷 양민하 기자'}], 'author': '전자신문인터넷 양민하 기자', 'author_detail': {'name': '전자신문인터넷 양민하 기자'}, 'id': 'https://rss.etnews.com/20230321000013', 'guidislink': False, 'comments': 'https://www.etnews.com/20230321000013#comments', 'published': 'Tue, 21 Mar 2023 09:20:00 +0900', 'published_parsed': time.struct_time(tm_year=2023, tm_mon=3, tm_mday=21, tm_hour=0, tm_min=20, tm_sec=0, tm_wday=1, tm_yday=80, tm_isdst=0)}, {'title': '한국예탁결제원, 이순호 신임 사장 취임식 개최', 'title_detail': {'type': 'text/plain', 'language': None, 'base': 'https://rss.etnews.com/02021.xml', 'value': '한국예탁결제원, 이순호 신임 사장 취임식 개최'}, 'links': [{'rel': 'alternate', 'type': 'text/html', 'href': 'https://www.etnews.com/20230320000223'}], 'link': 'https://www.etnews.com/20230320000223', 'summary': '한국예탁결제원은 이순호 신임 사장의 취임식을 20일 부산 본사에서 개최했다고 20일 밝혔다. 이순호 신임 사장은 한국금융연구원 은행연구실장과 공적자금관리위원회 위원, 금융위원회 규제입증위원회 위원 등을 거...', 'summary_detail': {'type': 'text/html', 'language': None, 'base': 'https://rss.etnews.com/02021.xml', 'value': '한국예탁결제원은 이순호 신임 사장의 취임식을 20일 부산 본사에서 개최했다고 20일 밝혔다. 이순호 신임 사장은 한국금융연구원 은행연구실장과 공적자금관리위원회 위원, 금융위원회 규제입증위원회 위원 등을 거...'}, 'authors': [{'name': '이형두'}], 'author': '이형두', 'author_detail': {'name': '이형두'}, 'id': 'https://rss.etnews.com/20230320000223', 'guidislink': False, 'comments': 'https://www.etnews.com/20230320000223#comments', 'published': 'Mon, 20 Mar 2023 15:24:00 +0900', 'published_parsed': time.struct_time(tm_year=2023, tm_mon=3, tm_mday=20, tm_hour=6, tm_min=24, tm_sec=0, tm_wday=0, tm_yday=79, tm_isdst=0)}, {'title': '위기의 제로페이…대형사 줄줄이 이탈', 'title_detail': {'type': 'text/plain', 'language': None, 'base': 'https://rss.etnews.com/02021.xml', 'value': '위기의 제로페이…대형사 줄줄이 이탈'}, 'links': [{'rel': 'alternate', 'type': 'text/html', 'href': 'https://www.etnews.com/20230320000180'}], 'link': 'https://www.etnews.com/20230320000180', 'summary': '간편결제 플랫폼 제로페이 진영에서 대형 제휴사 이탈이 잇따르고 있다. 서울사랑상품권 사업을 신한 컨소시엄에 넘긴 이후 운영이 어려워진 한국간편결제진흥원이 핀테크 제휴사에도 제로페이 플랫폼 이용료를 부...', 'summary_detail': {'type': 'text/html', 'language': None, 'base': 'https://rss.etnews.com/02021.xml', 'value': '간편결제 플랫폼 제로페이 진영에서 대형 제휴사 이탈이 잇따르고 있다. 서울사랑상품권 사업을 신한 컨소시엄에 넘긴 이후 운영이 어려워진 한국간편결제진흥원이 핀테크 제휴사에도 제로페이 플랫폼 이용료를 부...'}, 'authors': [{'name': '이형두'}], 'author': '이형두', 'author_detail': {'name': '이형두'}, 'id': 'https://rss.etnews.com/20230320000180', 'guidislink': False, 'comments': 'https://www.etnews.com/20230320000180#comments', 'published': 'Mon, 20 Mar 2023 14:41:00 +0900', 'published_parsed': time.struct_time(tm_year=2023, tm_mon=3, tm_mday=20, tm_hour=5, tm_min=41, tm_sec=0, tm_wday=0, tm_yday=79, tm_isdst=0)}, {'title': '[ET라씨로] 인천공항 면세점 후보 결정...호텔신라 등 강세', 'title_detail': {'type': 'text/plain', 'language': None, 'base': 'https://rss.etnews.com/02021.xml', 'value': '[ET라씨로] 인천공항 면세점 후보 결정...호텔신라 등 강세'}, 'links': [{'rel': 'alternate', 'type': 'text/html', 'href': 'https://www.etnews.com/20230320000092'}], 'link': 'https://www.etnews.com/20230320000092', 'summary': \"ET라씨로는 인공지능(AI) 기반으로 선별&middot;분석한 주식 정보와 종목 매매 신호를 제공하는 전자신문 증권 정보 애플리케이션입니다. 플레이스토어에서 'ET라씨로'(-&gt;바로가기)를 다운로드하면 IT기업 뉴스와\", 'summary_detail': {'type': 'text/html', 'language': None, 'base': 'https://rss.etnews.com/02021.xml', 'value': \"ET라씨로는 인공지능(AI) 기반으로 선별&middot;분석한 주식 정보와 종목 매매 신호를 제공하는 전자신문 증권 정보 애플리케이션입니다. 플레이스토어에서 'ET라씨로'(-&gt;바로가기)를 다운로드하면 IT기업 뉴스와\"}, 'authors': [{'name': '전자신문인터넷 양민하 기자'}], 'author': '전자신문인터넷 양민하 기자', 'author_detail': {'name': '전자신문인터넷 양민하 기자'}, 'id': 'https://rss.etnews.com/20230320000092', 'guidislink': False, 'comments': 'https://www.etnews.com/20230320000092#comments', 'published': 'Mon, 20 Mar 2023 11:15:00 +0900', 'published_parsed': time.struct_time(tm_year=2023, tm_mon=3, tm_mday=20, tm_hour=2, tm_min=15, tm_sec=0, tm_wday=0, tm_yday=79, tm_isdst=0)}, {'title': \"[ET라씨로] 큐렉소, 美 마이크로소프트와 'AI 수술 로봇' 개발 협력에 주가 오름세\", 'title_detail': {'type': 'text/plain', 'language': None, 'base': 'https://rss.etnews.com/02021.xml', 'value': \"[ET라씨로] 큐렉소, 美 마이크로소프트와 'AI 수술 로봇' 개발 협력에 주가 오름세\"}, 'links': [{'rel': 'alternate', 'type': 'text/html', 'href': 'https://www.etnews.com/20230320000042'}], 'link': 'https://www.etnews.com/20230320000042', 'summary': \"ET라씨로는 인공지능(AI) 기반으로 선별&middot;분석한 주식 정보와 종목 매매 신호를 제공하는 전자신문 증권 정보 애플리케이션입니다. 플레이스토어에서 'ET라씨로'(-&gt;바로가기)를 다운로드하면 IT기업 뉴스와\", 'summary_detail': {'type': 'text/html', 'language': None, 'base': 'https://rss.etnews.com/02021.xml', 'value': \"ET라씨로는 인공지능(AI) 기반으로 선별&middot;분석한 주식 정보와 종목 매매 신호를 제공하는 전자신문 증권 정보 애플리케이션입니다. 플레이스토어에서 'ET라씨로'(-&gt;바로가기)를 다운로드하면 IT기업 뉴스와\"}, 'authors': [{'name': '전자신문인터넷 서희원 기자'}], 'author': '전자신문인터넷 서희원 기자', 'author_detail': {'name': '전자신문인터넷 서희원 기자'}, 'id': 'https://rss.etnews.com/20230320000042', 'guidislink': False, 'comments': 'https://www.etnews.com/20230320000042#comments', 'published': 'Mon, 20 Mar 2023 09:35:00 +0900', 'published_parsed': time.struct_time(tm_year=2023, tm_mon=3, tm_mday=20, tm_hour=0, tm_min=35, tm_sec=0, tm_wday=0, tm_yday=79, tm_isdst=0)}, {'title': '[ET라씨로] 사우디 투자 기대감에…아스타 · 에스코넥 上', 'title_detail': {'type': 'text/plain', 'language': None, 'base': 'https://rss.etnews.com/02021.xml', 'value': '[ET라씨로] 사우디 투자 기대감에…아스타 · 에스코넥 上'}, 'links': [{'rel': 'alternate', 'type': 'text/html', 'href': 'https://www.etnews.com/20230320000036'}], 'link': 'https://www.etnews.com/20230320000036', 'summary': \"ET라씨로는 인공지능(AI) 기반으로 선별&middot;분석한 주식 정보와 종목 매매 신호를 제공하는 전자신문 증권 정보 애플리케이션입니다. 플레이스토어에서 'ET라씨로'(-&gt;바로가기)를 다운로드하면 IT기업 뉴스와\", 'summary_detail': {'type': 'text/html', 'language': None, 'base': 'https://rss.etnews.com/02021.xml', 'value': \"ET라씨로는 인공지능(AI) 기반으로 선별&middot;분석한 주식 정보와 종목 매매 신호를 제공하는 전자신문 증권 정보 애플리케이션입니다. 플레이스토어에서 'ET라씨로'(-&gt;바로가기)를 다운로드하면 IT기업 뉴스와\"}, 'authors': [{'name': '전자신문인터넷 서희원 기자'}], 'author': '전자신문인터넷 서희원 기자', 'author_detail': {'name': '전자신문인터넷 서희원 기자'}, 'id': 'https://rss.etnews.com/20230320000036', 'guidislink': False, 'comments': 'https://www.etnews.com/20230320000036#comments', 'published': 'Mon, 20 Mar 2023 09:30:00 +0900', 'published_parsed': time.struct_time(tm_year=2023, tm_mon=3, tm_mday=20, tm_hour=0, tm_min=30, tm_sec=0, tm_wday=0, tm_yday=79, tm_isdst=0)}, {'title': '[ET라씨로] 에코프로, 검찰·금융당국 압수수색...내부정보 주식거래 의혹', 'title_detail': {'type': 'text/plain', 'language': None, 'base': 'https://rss.etnews.com/02021.xml', 'value': '[ET라씨로] 에코프로, 검찰·금융당국 압수수색...내부정보 주식거래 의혹'}, 'links': [{'rel': 'alternate', 'type': 'text/html', 'href': 'https://www.etnews.com/20230320000034'}], 'link': 'https://www.etnews.com/20230320000034', 'summary': \"ET라씨로는 인공지능(AI) 기반으로 선별&middot;분석한 주식 정보와 종목 매매 신호를 제공하는 전자신문 증권 정보 애플리케이션입니다. 플레이스토어에서 'ET라씨로'(-&gt;바로가기)를 다운로드하면 IT기업 뉴스와\", 'summary_detail': {'type': 'text/html', 'language': None, 'base': 'https://rss.etnews.com/02021.xml', 'value': \"ET라씨로는 인공지능(AI) 기반으로 선별&middot;분석한 주식 정보와 종목 매매 신호를 제공하는 전자신문 증권 정보 애플리케이션입니다. 플레이스토어에서 'ET라씨로'(-&gt;바로가기)를 다운로드하면 IT기업 뉴스와\"}, 'authors': [{'name': '전자신문인터넷 양민하 기자'}], 'author': '전자신문인터넷 양민하 기자', 'author_detail': {'name': '전자신문인터넷 양민하 기자'}, 'id': 'https://rss.etnews.com/20230320000034', 'guidislink': False, 'comments': 'https://www.etnews.com/20230320000034#comments', 'published': 'Mon, 20 Mar 2023 09:20:00 +0900', 'published_parsed': time.struct_time(tm_year=2023, tm_mon=3, tm_mday=20, tm_hour=0, tm_min=20, tm_sec=0, tm_wday=0, tm_yday=79, tm_isdst=0)}, {'title': '산은, K-콘텐츠 지원 넥스트라운드 개최', 'title_detail': {'type': 'text/plain', 'language': None, 'base': 'https://rss.etnews.com/02021.xml', 'value': '산은, K-콘텐츠 지원 넥스트라운드 개최'}, 'links': [{'rel': 'alternate', 'type': 'text/html', 'href': 'https://www.etnews.com/20230320000024'}], 'link': 'https://www.etnews.com/20230320000024', 'summary': 'KDB산업은행은 시장형 벤처투자플랫폼 KDB 넥스트라운드의 K-콘텐츠산업 스페셜라운드를 지난 17일 산업은행 본점 IR센터에서 개최했다고 20일 밝혔다. 이번 스페셜라운드는 산업은행의 올해 주요 업무계획중 하나...', 'summary_detail': {'type': 'text/html', 'language': None, 'base': 'https://rss.etnews.com/02021.xml', 'value': 'KDB산업은행은 시장형 벤처투자플랫폼 KDB 넥스트라운드의 K-콘텐츠산업 스페셜라운드를 지난 17일 산업은행 본점 IR센터에서 개최했다고 20일 밝혔다. 이번 스페셜라운드는 산업은행의 올해 주요 업무계획중 하나...'}, 'authors': [{'name': '배옥진'}], 'author': '배옥진', 'author_detail': {'name': '배옥진'}, 'id': 'https://rss.etnews.com/20230320000024', 'guidislink': False, 'comments': 'https://www.etnews.com/20230320000024#comments', 'published': 'Mon, 20 Mar 2023 09:17:00 +0900', 'published_parsed': time.struct_time(tm_year=2023, tm_mon=3, tm_mday=20, tm_hour=0, tm_min=17, tm_sec=0, tm_wday=0, tm_yday=79, tm_isdst=0)}, {'title': \"'업비트 독주' 흔들… 빗썸·코인원 맹추격\", 'title_detail': {'type': 'text/plain', 'language': None, 'base': 'https://rss.etnews.com/02021.xml', 'value': \"'업비트 독주' 흔들… 빗썸·코인원 맹추격\"}, 'links': [{'rel': 'alternate', 'type': 'text/html', 'href': 'https://www.etnews.com/20230317000169'}], 'link': 'https://www.etnews.com/20230317000169', 'summary': '국내 원화마켓 거래소 시장에서 1위 사업자 업비트의 독주 구도가 흔들리고 있다. 업비트가 주춤한 사이 2위 빗썸과 3위 코인원이 치고 나오며 점유율 비중을 늘려가는 모습을 보인다. 가상자산분석사이트 코인마켓...', 'summary_detail': {'type': 'text/html', 'language': None, 'base': 'https://rss.etnews.com/02021.xml', 'value': '국내 원화마켓 거래소 시장에서 1위 사업자 업비트의 독주 구도가 흔들리고 있다. 업비트가 주춤한 사이 2위 빗썸과 3위 코인원이 치고 나오며 점유율 비중을 늘려가는 모습을 보인다. 가상자산분석사이트 코인마켓...'}, 'authors': [{'name': '이형두'}], 'author': '이형두', 'author_detail': {'name': '이형두'}, 'id': 'https://rss.etnews.com/20230317000169', 'guidislink': False, 'comments': 'https://www.etnews.com/20230317000169#comments', 'published': 'Sun, 19 Mar 2023 15:00:00 +0900', 'published_parsed': time.struct_time(tm_year=2023, tm_mon=3, tm_mday=19, tm_hour=6, tm_min=0, tm_sec=0, tm_wday=6, tm_yday=78, tm_isdst=0)}, {'title': \"국내 가상자산거래소, 지난해 하반기 영업이익 '80%' 감소\", 'title_detail': {'type': 'text/plain', 'language': None, 'base': 'https://rss.etnews.com/02021.xml', 'value': \"국내 가상자산거래소, 지난해 하반기 영업이익 '80%' 감소\"}, 'links': [{'rel': 'alternate', 'type': 'text/html', 'href': 'https://www.etnews.com/20230319000051'}], 'link': 'https://www.etnews.com/20230319000051', 'summary': '금융위원회 금융정보분석원(FIU)는 국내 가상자산시장 현황 파악을 위해 신고된 36개 사업자에 대한 2022년 하반기 실태조사를 실시했다고 19일 밝혔다. 이번 조사에 따르면 지난해 하반기 국내 가상자산 시장은...', 'summary_detail': {'type': 'text/html', 'language': None, 'base': 'https://rss.etnews.com/02021.xml', 'value': '금융위원회 금융정보분석원(FIU)는 국내 가상자산시장 현황 파악을 위해 신고된 36개 사업자에 대한 2022년 하반기 실태조사를 실시했다고 19일 밝혔다. 이번 조사에 따르면 지난해 하반기 국내 가상자산 시장은...'}, 'authors': [{'name': '이형두'}], 'author': '이형두', 'author_detail': {'name': '이형두'}, 'id': 'https://rss.etnews.com/20230319000051', 'guidislink': False, 'comments': 'https://www.etnews.com/20230319000051#comments', 'published': 'Sun, 19 Mar 2023 12:00:00 +0900', 'published_parsed': time.struct_time(tm_year=2023, tm_mon=3, tm_mday=19, tm_hour=3, tm_min=0, tm_sec=0, tm_wday=6, tm_yday=78, tm_isdst=0)}, {'title': \"[ET라씨로] 삼성전자가 또 산 '레인보우로보틱스', 전날 상한가 이어 18% 오름세\", 'title_detail': {'type': 'text/plain', 'language': None, 'base': 'https://rss.etnews.com/02021.xml', 'value': \"[ET라씨로] 삼성전자가 또 산 '레인보우로보틱스', 전날 상한가 이어 18% 오름세\"}, 'links': [{'rel': 'alternate', 'type': 'text/html', 'href': 'https://www.etnews.com/20230317000021'}], 'link': 'https://www.etnews.com/20230317000021', 'summary': \"ET라씨로는 인공지능(AI) 기반으로 선별&middot;분석한 주식 정보와 종목 매매 신호를 제공하는 전자신문 증권 정보 애플리케이션입니다. 플레이스토어에서 'ET라씨로'(-&gt;바로가기)를 다운로드하면 IT기업 뉴스와\", 'summary_detail': {'type': 'text/html', 'language': None, 'base': 'https://rss.etnews.com/02021.xml', 'value': \"ET라씨로는 인공지능(AI) 기반으로 선별&middot;분석한 주식 정보와 종목 매매 신호를 제공하는 전자신문 증권 정보 애플리케이션입니다. 플레이스토어에서 'ET라씨로'(-&gt;바로가기)를 다운로드하면 IT기업 뉴스와\"}, 'authors': [{'name': '전자신문인터넷 서희원 기자'}], 'author': '전자신문인터넷 서희원 기자', 'author_detail': {'name': '전자신문인터넷 서희원 기자'}, 'id': 'https://rss.etnews.com/20230317000021', 'guidislink': False, 'comments': 'https://www.etnews.com/20230317000021#comments', 'published': 'Fri, 17 Mar 2023 09:30:00 +0900', 'published_parsed': time.struct_time(tm_year=2023, tm_mon=3, tm_mday=17, tm_hour=0, tm_min=30, tm_sec=0, tm_wday=4, tm_yday=76, tm_isdst=0)}, {'title': \"[ET라씨로] 대기업 미래먹거리 '로봇'…뉴로메카, 장초반 급등\", 'title_detail': {'type': 'text/plain', 'language': None, 'base': 'https://rss.etnews.com/02021.xml', 'value': \"[ET라씨로] 대기업 미래먹거리 '로봇'…뉴로메카, 장초반 급등\"}, 'links': [{'rel': 'alternate', 'type': 'text/html', 'href': 'https://www.etnews.com/20230317000018'}], 'link': 'https://www.etnews.com/20230317000018', 'summary': \"ET라씨로는 인공지능(AI) 기반으로 선별&middot;분석한 주식 정보와 종목 매매 신호를 제공하는 전자신문 증권 정보 애플리케이션입니다. 플레이스토어에서 'ET라씨로'(-&gt;바로가기)를 다운로드하면 IT기업 뉴스와\", 'summary_detail': {'type': 'text/html', 'language': None, 'base': 'https://rss.etnews.com/02021.xml', 'value': \"ET라씨로는 인공지능(AI) 기반으로 선별&middot;분석한 주식 정보와 종목 매매 신호를 제공하는 전자신문 증권 정보 애플리케이션입니다. 플레이스토어에서 'ET라씨로'(-&gt;바로가기)를 다운로드하면 IT기업 뉴스와\"}, 'authors': [{'name': '전자신문인터넷 서희원 기자'}], 'author': '전자신문인터넷 서희원 기자', 'author_detail': {'name': '전자신문인터넷 서희원 기자'}, 'id': 'https://rss.etnews.com/20230317000018', 'guidislink': False, 'comments': 'https://www.etnews.com/20230317000018#comments', 'published': 'Fri, 17 Mar 2023 09:25:00 +0900', 'published_parsed': time.struct_time(tm_year=2023, tm_mon=3, tm_mday=17, tm_hour=0, tm_min=25, tm_sec=0, tm_wday=4, tm_yday=76, tm_isdst=0)}, {'title': 'DCON 2023 학술 콘퍼런스 성료…두나무·서울대 등 참여', 'title_detail': {'type': 'text/plain', 'language': None, 'base': 'https://rss.etnews.com/02021.xml', 'value': 'DCON 2023 학술 콘퍼런스 성료…두나무·서울대 등 참여'}, 'links': [{'rel': 'alternate', 'type': 'text/html', 'href': 'https://www.etnews.com/20230316000245'}], 'link': 'https://www.etnews.com/20230316000245', 'summary': '두나무는 한국경제법학회, 서울대학교 한국경제혁신센터와 함께 서울 여의도 콘래드서울에서 디콘(DCON) 2023: 건전한 시장 조성을 위한 디지털자산 콘퍼런스를 개최했다고 16일 밝혔다. 디콘은 디지털자산 콘퍼런...', 'summary_detail': {'type': 'text/html', 'language': None, 'base': 'https://rss.etnews.com/02021.xml', 'value': '두나무는 한국경제법학회, 서울대학교 한국경제혁신센터와 함께 서울 여의도 콘래드서울에서 디콘(DCON) 2023: 건전한 시장 조성을 위한 디지털자산 콘퍼런스를 개최했다고 16일 밝혔다. 디콘은 디지털자산 콘퍼런...'}, 'authors': [{'name': '이형두'}], 'author': '이형두', 'author_detail': {'name': '이형두'}, 'id': 'https://rss.etnews.com/20230316000245', 'guidislink': False, 'comments': 'https://www.etnews.com/20230316000245#comments', 'published': 'Thu, 16 Mar 2023 15:49:00 +0900', 'published_parsed': time.struct_time(tm_year=2023, tm_mon=3, tm_mday=16, tm_hour=6, tm_min=49, tm_sec=0, tm_wday=3, tm_yday=75, tm_isdst=0)}, {'title': '코인플러그, 공무원연금공단에 모바일 사원증 시스템 구축', 'title_detail': {'type': 'text/plain', 'language': None, 'base': 'https://rss.etnews.com/02021.xml', 'value': '코인플러그, 공무원연금공단에 모바일 사원증 시스템 구축'}, 'links': [{'rel': 'alternate', 'type': 'text/html', 'href': 'https://www.etnews.com/20230316000242'}], 'link': 'https://www.etnews.com/20230316000242', 'summary': '블록체인 전문기업 코인플러그(대표 어준선)는 모바일 사원증 시스템 메타패스를 공무원연금공단에 구축 완료했다고 16일 밝혔다. 블록체인 분산신원증명(DID) 기반 모바일 사원증 메타패스는 한국인터넷진흥원을...', 'summary_detail': {'type': 'text/html', 'language': None, 'base': 'https://rss.etnews.com/02021.xml', 'value': '블록체인 전문기업 코인플러그(대표 어준선)는 모바일 사원증 시스템 메타패스를 공무원연금공단에 구축 완료했다고 16일 밝혔다. 블록체인 분산신원증명(DID) 기반 모바일 사원증 메타패스는 한국인터넷진흥원을...'}, 'authors': [{'name': '이형두'}], 'author': '이형두', 'author_detail': {'name': '이형두'}, 'id': 'https://rss.etnews.com/20230316000242', 'guidislink': False, 'comments': 'https://www.etnews.com/20230316000242#comments', 'published': 'Thu, 16 Mar 2023 15:39:00 +0900', 'published_parsed': time.struct_time(tm_year=2023, tm_mon=3, tm_mday=16, tm_hour=6, tm_min=39, tm_sec=0, tm_wday=3, tm_yday=75, tm_isdst=0)}, {'title': \"두바이 자유무역지대, K-블록체인 기업 '러브콜'\", 'title_detail': {'type': 'text/plain', 'language': None, 'base': 'https://rss.etnews.com/02021.xml', 'value': \"두바이 자유무역지대, K-블록체인 기업 '러브콜'\"}, 'links': [{'rel': 'alternate', 'type': 'text/html', 'href': 'https://www.etnews.com/20230316000204'}], 'link': 'https://www.etnews.com/20230316000204', 'summary': '2만2000여개 기업이 입주한 아랍에미리트(UAE) 최대 규모 프리존 두바이복합상품거래소(DMCC)가 한국 기업 유치에 나섰다. 아흐메드 빈 술레얌 DMCC 의장이 직접 한국을 방문해 양국 상호 기업 진출을 적극 지원하...', 'summary_detail': {'type': 'text/html', 'language': None, 'base': 'https://rss.etnews.com/02021.xml', 'value': '2만2000여개 기업이 입주한 아랍에미리트(UAE) 최대 규모 프리존 두바이복합상품거래소(DMCC)가 한국 기업 유치에 나섰다. 아흐메드 빈 술레얌 DMCC 의장이 직접 한국을 방문해 양국 상호 기업 진출을 적극 지원하...'}, 'authors': [{'name': '이형두'}], 'author': '이형두', 'author_detail': {'name': '이형두'}, 'id': 'https://rss.etnews.com/20230316000204', 'guidislink': False, 'comments': 'https://www.etnews.com/20230316000204#comments', 'published': 'Thu, 16 Mar 2023 14:35:00 +0900', 'published_parsed': time.struct_time(tm_year=2023, tm_mon=3, tm_mday=16, tm_hour=5, tm_min=35, tm_sec=0, tm_wday=3, tm_yday=75, tm_isdst=0)}, {'title': \"금보원, 23일 '금융분야 설명가능 인공지능 세미나' 개최\", 'title_detail': {'type': 'text/plain', 'language': None, 'base': 'https://rss.etnews.com/02021.xml', 'value': \"금보원, 23일 '금융분야 설명가능 인공지능 세미나' 개최\"}, 'links': [{'rel': 'alternate', 'type': 'text/html', 'href': 'https://www.etnews.com/20230316000125'}], 'link': 'https://www.etnews.com/20230316000125', 'summary': '금융보안원은 오는 23일 서울 여의도 금투센터에서 안전하고 공정한 인공지능(AI) 활용을 위해 금융분야 설명가능한 인공지능(XAI) 세미나를 개최한다고 16일 밝혔다. 이번 세미나에서는 각 분야 전문가들이 설명...', 'summary_detail': {'type': 'text/html', 'language': None, 'base': 'https://rss.etnews.com/02021.xml', 'value': '금융보안원은 오는 23일 서울 여의도 금투센터에서 안전하고 공정한 인공지능(AI) 활용을 위해 금융분야 설명가능한 인공지능(XAI) 세미나를 개최한다고 16일 밝혔다. 이번 세미나에서는 각 분야 전문가들이 설명...'}, 'authors': [{'name': '배옥진'}], 'author': '배옥진', 'author_detail': {'name': '배옥진'}, 'id': 'https://rss.etnews.com/20230316000125', 'guidislink': False, 'comments': 'https://www.etnews.com/20230316000125#comments', 'published': 'Thu, 16 Mar 2023 12:49:00 +0900', 'published_parsed': time.struct_time(tm_year=2023, tm_mon=3, tm_mday=16, tm_hour=3, tm_min=49, tm_sec=0, tm_wday=3, tm_yday=75, tm_isdst=0)}], 'feed': {'title': '경제&금융 - 증권 - 전자신문', 'title_detail': {'type': 'text/plain', 'language': None, 'base': 'https://rss.etnews.com/02021.xml', 'value': '경제&금융 - 증권 - 전자신문'}, 'links': [{'rel': 'alternate', 'type': 'text/html', 'href': 'https://www.etnews.com'}], 'link': 'https://www.etnews.com', 'subtitle': '대한민국 IT포털의 중심! 전자신문', 'subtitle_detail': {'type': 'text/html', 'language': None, 'base': 'https://rss.etnews.com/02021.xml', 'value': '대한민국 IT포털의 중심! 전자신문'}, 'language': 'ko', 'published': 'Mon, 27 Mar 2023 10:33:02 +0900', 'published_parsed': time.struct_time(tm_year=2023, tm_mon=3, tm_mday=27, tm_hour=1, tm_min=33, tm_sec=2, tm_wday=0, tm_yday=86, tm_isdst=0), 'updated': 'Mon, 27 Mar 2023 10:33:02 +0900', 'updated_parsed': time.struct_time(tm_year=2023, tm_mon=3, tm_mday=27, tm_hour=1, tm_min=33, tm_sec=2, tm_wday=0, tm_yday=86, tm_isdst=0), 'image': {'title': '경제&금융 - 증권 - 전자신문', 'title_detail': {'type': 'text/plain', 'language': None, 'base': 'https://rss.etnews.com/02021.xml', 'value': '경제&금융 - 증권 - 전자신문'}, 'href': 'https://img.etnews.com/2020/etnews/images/logo_et.png', 'links': [{'rel': 'alternate', 'type': 'text/html', 'href': 'https://www.etnews.com'}], 'link': 'https://www.etnews.com', 'subtitle': '', 'subtitle_detail': {'type': 'text/html', 'language': None, 'base': 'https://rss.etnews.com/02021.xml', 'value': ''}}}, 'headers': {'date': 'Mon, 27 Mar 2023 01:58:12 GMT', 'server': 'Apache', 'last-modified': 'Mon, 27 Mar 2023 01:33:04 GMT', 'etag': '\"9cd6-5f7d7b96c9e4c\"', 'accept-ranges': 'bytes', 'content-length': '40150', 'cache-control': 'max-age=0', 'expires': 'Mon, 27 Mar 2023 01:58:12 GMT', 'vary': 'User-Agent', 'connection': 'close', 'content-type': 'application/xml'}, 'etag': '\"9cd6-5f7d7b96c9e4c\"', 'updated': 'Mon, 27 Mar 2023 01:33:04 GMT', 'updated_parsed': time.struct_time(tm_year=2023, tm_mon=3, tm_mday=27, tm_hour=1, tm_min=33, tm_sec=4, tm_wday=0, tm_yday=86, tm_isdst=0), 'href': 'https://rss.etnews.com/02021.xml', 'status': 301, 'encoding': 'utf-8', 'version': 'rss20', 'namespaces': {}}\n",
            "-------------\n",
            "[{'title': \"[ET라씨로] '전기차 100만대분' 엘앤에프, 양극재 신공장 건설에 주가 '쑤욱'\", 'title_detail': {'type': 'text/plain', 'language': None, 'base': 'https://rss.etnews.com/02021.xml', 'value': \"[ET라씨로] '전기차 100만대분' 엘앤에프, 양극재 신공장 건설에 주가 '쑤욱'\"}, 'links': [{'rel': 'alternate', 'type': 'text/html', 'href': 'https://www.etnews.com/20230327000026'}], 'link': 'https://www.etnews.com/20230327000026', 'summary': \"ET라씨로는 인공지능(AI) 기반으로 선별&middot;분석한 주식 정보와 종목 매매 신호를 제공하는 전자신문 증권 정보 애플리케이션입니다. 플레이스토어에서 'ET라씨로'(-&gt;바로가기)를 다운로드하면 IT기업 뉴스와\", 'summary_detail': {'type': 'text/html', 'language': None, 'base': 'https://rss.etnews.com/02021.xml', 'value': \"ET라씨로는 인공지능(AI) 기반으로 선별&middot;분석한 주식 정보와 종목 매매 신호를 제공하는 전자신문 증권 정보 애플리케이션입니다. 플레이스토어에서 'ET라씨로'(-&gt;바로가기)를 다운로드하면 IT기업 뉴스와\"}, 'authors': [{'name': '전자신문인터넷 서희원 기자'}], 'author': '전자신문인터넷 서희원 기자', 'author_detail': {'name': '전자신문인터넷 서희원 기자'}, 'id': 'https://rss.etnews.com/20230327000026', 'guidislink': False, 'comments': 'https://www.etnews.com/20230327000026#comments', 'published': 'Mon, 27 Mar 2023 09:35:00 +0900', 'published_parsed': time.struct_time(tm_year=2023, tm_mon=3, tm_mday=27, tm_hour=0, tm_min=35, tm_sec=0, tm_wday=0, tm_yday=86, tm_isdst=0)}, {'title': '위기설 휩싸인 도이체방크', 'title_detail': {'type': 'text/plain', 'language': None, 'base': 'https://rss.etnews.com/02021.xml', 'value': '위기설 휩싸인 도이체방크'}, 'links': [{'rel': 'alternate', 'type': 'text/html', 'href': 'https://www.etnews.com/20230326000071'}], 'link': 'https://www.etnews.com/20230326000071', 'summary': '독일 최대 은행 도이체방크의 유동성 위기 우려가 제기됐다. 시장에서는 크레디트스위스(CS)와 달리 도이체방크가 지급불능 위험이 없다고 보고 있어 추후 상황에 이목이 집중된다. 지난 24일(현지시간) 도이체방크...', 'summary_detail': {'type': 'text/html', 'language': None, 'base': 'https://rss.etnews.com/02021.xml', 'value': '독일 최대 은행 도이체방크의 유동성 위기 우려가 제기됐다. 시장에서는 크레디트스위스(CS)와 달리 도이체방크가 지급불능 위험이 없다고 보고 있어 추후 상황에 이목이 집중된다. 지난 24일(현지시간) 도이체방크...'}, 'authors': [{'name': '배옥진'}], 'author': '배옥진', 'author_detail': {'name': '배옥진'}, 'id': 'https://rss.etnews.com/20230326000071', 'guidislink': False, 'comments': 'https://www.etnews.com/20230326000071#comments', 'published': 'Sun, 26 Mar 2023 18:44:00 +0900', 'published_parsed': time.struct_time(tm_year=2023, tm_mon=3, tm_mday=26, tm_hour=9, tm_min=44, tm_sec=0, tm_wday=6, tm_yday=85, tm_isdst=0)}, {'title': '[ET단상]블록체인, 보는 것이 신뢰의 시작', 'title_detail': {'type': 'text/plain', 'language': None, 'base': 'https://rss.etnews.com/02021.xml', 'value': '[ET단상]블록체인, 보는 것이 신뢰의 시작'}, 'links': [{'rel': 'alternate', 'type': 'text/html', 'href': 'https://www.etnews.com/20230324000139'}], 'link': 'https://www.etnews.com/20230324000139', 'summary': '2018년 세계적으로 불붙은 비트코인에 관심이 증대하면서 국내에서는 비트코인을 어떤 것으로 볼 것인지, 가상자산이라는 것이 화폐인지 증권인지 상품인지, 블록체인과 가상자산은 불가분의 관계에 있는 것인지, 분...', 'summary_detail': {'type': 'text/html', 'language': None, 'base': 'https://rss.etnews.com/02021.xml', 'value': '2018년 세계적으로 불붙은 비트코인에 관심이 증대하면서 국내에서는 비트코인을 어떤 것으로 볼 것인지, 가상자산이라는 것이 화폐인지 증권인지 상품인지, 블록체인과 가상자산은 불가분의 관계에 있는 것인지, 분...'}, 'authors': [{'name': '배옥진'}], 'author': '배옥진', 'author_detail': {'name': '배옥진'}, 'id': 'https://rss.etnews.com/20230324000139', 'guidislink': False, 'comments': 'https://www.etnews.com/20230324000139#comments', 'published': 'Sun, 26 Mar 2023 16:00:00 +0900', 'published_parsed': time.struct_time(tm_year=2023, tm_mon=3, tm_mday=26, tm_hour=7, tm_min=0, tm_sec=0, tm_wday=6, tm_yday=85, tm_isdst=0)}, {'title': '[데스크가만났습니다]안현준 포블 대표 “코인거래 다음 먹거리는 \\'포블ST\\'\"', 'title_detail': {'type': 'text/plain', 'language': None, 'base': 'https://rss.etnews.com/02021.xml', 'value': '[데스크가만났습니다]안현준 포블 대표 “코인거래 다음 먹거리는 \\'포블ST\\'\"'}, 'links': [{'rel': 'alternate', 'type': 'text/html', 'href': 'https://www.etnews.com/20230324000154'}], 'link': 'https://www.etnews.com/20230324000154', 'summary': '가상자산거래소 포블게이트가 빠르게 변화하고 있다. 창립 초기부터 사업본부장을 역임해 온 안현준 신임 대표가 구원투수로 등판했다. 개발자 출신인 안 대표는 취임 직후 2019년 7월 창립 이후 유지해왔던 포블...', 'summary_detail': {'type': 'text/html', 'language': None, 'base': 'https://rss.etnews.com/02021.xml', 'value': '가상자산거래소 포블게이트가 빠르게 변화하고 있다. 창립 초기부터 사업본부장을 역임해 온 안현준 신임 대표가 구원투수로 등판했다. 개발자 출신인 안 대표는 취임 직후 2019년 7월 창립 이후 유지해왔던 포블...'}, 'authors': [{'name': '이형두'}], 'author': '이형두', 'author_detail': {'name': '이형두'}, 'id': 'https://rss.etnews.com/20230324000154', 'guidislink': False, 'comments': 'https://www.etnews.com/20230324000154#comments', 'published': 'Sun, 26 Mar 2023 12:00:00 +0900', 'published_parsed': time.struct_time(tm_year=2023, tm_mon=3, tm_mday=26, tm_hour=3, tm_min=0, tm_sec=0, tm_wday=6, tm_yday=85, tm_isdst=0)}, {'title': '임종룡 우리금융 회장 취임 \"신뢰 재정비, 새 기업문화 정립\"', 'title_detail': {'type': 'text/plain', 'language': None, 'base': 'https://rss.etnews.com/02021.xml', 'value': '임종룡 우리금융 회장 취임 \"신뢰 재정비, 새 기업문화 정립\"'}, 'links': [{'rel': 'alternate', 'type': 'text/html', 'href': 'https://www.etnews.com/20230324000176'}], 'link': 'https://www.etnews.com/20230324000176', 'summary': '임종룡 우리금융그룹 신임 회장이 관치 논란을 딛고 24일 회장으로 공식 취임했다. 취임 당일부터 새로운 기업문화 정립을 강조하며 대대적인 변화를 예고했다. 우리금융그룹은 24일 정기주주총회 후 본사 강당에...', 'summary_detail': {'type': 'text/html', 'language': None, 'base': 'https://rss.etnews.com/02021.xml', 'value': '임종룡 우리금융그룹 신임 회장이 관치 논란을 딛고 24일 회장으로 공식 취임했다. 취임 당일부터 새로운 기업문화 정립을 강조하며 대대적인 변화를 예고했다. 우리금융그룹은 24일 정기주주총회 후 본사 강당에...'}, 'authors': [{'name': '배옥진'}], 'author': '배옥진', 'author_detail': {'name': '배옥진'}, 'id': 'https://rss.etnews.com/20230324000176', 'guidislink': False, 'comments': 'https://www.etnews.com/20230324000176#comments', 'published': 'Fri, 24 Mar 2023 15:24:00 +0900', 'published_parsed': time.struct_time(tm_year=2023, tm_mon=3, tm_mday=24, tm_hour=6, tm_min=24, tm_sec=0, tm_wday=4, tm_yday=83, tm_isdst=0)}, {'title': '농협금융, 신임 사외이사에 이종화·이윤석 후보 추천', 'title_detail': {'type': 'text/plain', 'language': None, 'base': 'https://rss.etnews.com/02021.xml', 'value': '농협금융, 신임 사외이사에 이종화·이윤석 후보 추천'}, 'links': [{'rel': 'alternate', 'type': 'text/html', 'href': 'https://www.etnews.com/20230324000125'}], 'link': 'https://www.etnews.com/20230324000125', 'summary': '농협금융지주는 24일 임원후보추천위원회(임추위)를 개최하고 이종화 현 고려대 경제학과 교수와 이윤석 현 한국금융연구원 해외금융협력지원센터장을 신임 사외이사 최종 후보자로 추천했다고 밝혔다. 신임 사외이...', 'summary_detail': {'type': 'text/html', 'language': None, 'base': 'https://rss.etnews.com/02021.xml', 'value': '농협금융지주는 24일 임원후보추천위원회(임추위)를 개최하고 이종화 현 고려대 경제학과 교수와 이윤석 현 한국금융연구원 해외금융협력지원센터장을 신임 사외이사 최종 후보자로 추천했다고 밝혔다. 신임 사외이...'}, 'authors': [{'name': '배옥진'}], 'author': '배옥진', 'author_detail': {'name': '배옥진'}, 'id': 'https://rss.etnews.com/20230324000125', 'guidislink': False, 'comments': 'https://www.etnews.com/20230324000125#comments', 'published': 'Fri, 24 Mar 2023 13:54:00 +0900', 'published_parsed': time.struct_time(tm_year=2023, tm_mon=3, tm_mday=24, tm_hour=4, tm_min=54, tm_sec=0, tm_wday=4, tm_yday=83, tm_isdst=0)}, {'title': '[ET라씨로] 삼성전자·SK하이닉스 등 반도체주...업황 바닥 기대에 장 초반↑', 'title_detail': {'type': 'text/plain', 'language': None, 'base': 'https://rss.etnews.com/02021.xml', 'value': '[ET라씨로] 삼성전자·SK하이닉스 등 반도체주...업황 바닥 기대에 장 초반↑'}, 'links': [{'rel': 'alternate', 'type': 'text/html', 'href': 'https://www.etnews.com/20230324000013'}], 'link': 'https://www.etnews.com/20230324000013', 'summary': \"ET라씨로는 인공지능(AI) 기반으로 선별&middot;분석한 주식 정보와 종목 매매 신호를 제공하는 전자신문 증권 정보 애플리케이션입니다. 플레이스토어에서 'ET라씨로'(-&gt;바로가기)를 다운로드하면 IT기업 뉴스와\", 'summary_detail': {'type': 'text/html', 'language': None, 'base': 'https://rss.etnews.com/02021.xml', 'value': \"ET라씨로는 인공지능(AI) 기반으로 선별&middot;분석한 주식 정보와 종목 매매 신호를 제공하는 전자신문 증권 정보 애플리케이션입니다. 플레이스토어에서 'ET라씨로'(-&gt;바로가기)를 다운로드하면 IT기업 뉴스와\"}, 'authors': [{'name': '전자신문인터넷 양민하 기자'}], 'author': '전자신문인터넷 양민하 기자', 'author_detail': {'name': '전자신문인터넷 양민하 기자'}, 'id': 'https://rss.etnews.com/20230324000013', 'guidislink': False, 'comments': 'https://www.etnews.com/20230324000013#comments', 'published': 'Fri, 24 Mar 2023 09:35:00 +0900', 'published_parsed': time.struct_time(tm_year=2023, tm_mon=3, tm_mday=24, tm_hour=0, tm_min=35, tm_sec=0, tm_wday=4, tm_yday=83, tm_isdst=0)}, {'title': \"[ET라씨로] 휴마시스, 무상증자 권리락 착시효과에 장초반 '上'\", 'title_detail': {'type': 'text/plain', 'language': None, 'base': 'https://rss.etnews.com/02021.xml', 'value': \"[ET라씨로] 휴마시스, 무상증자 권리락 착시효과에 장초반 '上'\"}, 'links': [{'rel': 'alternate', 'type': 'text/html', 'href': 'https://www.etnews.com/20230324000012'}], 'link': 'https://www.etnews.com/20230324000012', 'summary': \"ET라씨로는 인공지능(AI) 기반으로 선별&middot;분석한 주식 정보와 종목 매매 신호를 제공하는 전자신문 증권 정보 애플리케이션입니다. 플레이스토어에서 'ET라씨로'(-&gt;바로가기)를 다운로드하면 IT기업 뉴스와\", 'summary_detail': {'type': 'text/html', 'language': None, 'base': 'https://rss.etnews.com/02021.xml', 'value': \"ET라씨로는 인공지능(AI) 기반으로 선별&middot;분석한 주식 정보와 종목 매매 신호를 제공하는 전자신문 증권 정보 애플리케이션입니다. 플레이스토어에서 'ET라씨로'(-&gt;바로가기)를 다운로드하면 IT기업 뉴스와\"}, 'authors': [{'name': '전자신문인터넷 서희원 기자'}], 'author': '전자신문인터넷 서희원 기자', 'author_detail': {'name': '전자신문인터넷 서희원 기자'}, 'id': 'https://rss.etnews.com/20230324000012', 'guidislink': False, 'comments': 'https://www.etnews.com/20230324000012#comments', 'published': 'Fri, 24 Mar 2023 09:25:00 +0900', 'published_parsed': time.struct_time(tm_year=2023, tm_mon=3, tm_mday=24, tm_hour=0, tm_min=25, tm_sec=0, tm_wday=4, tm_yday=83, tm_isdst=0)}, {'title': '신보, 지역 스타트업 생태계 활성화 간담회', 'title_detail': {'type': 'text/plain', 'language': None, 'base': 'https://rss.etnews.com/02021.xml', 'value': '신보, 지역 스타트업 생태계 활성화 간담회'}, 'links': [{'rel': 'alternate', 'type': 'text/html', 'href': 'https://www.etnews.com/20230324000005'}], 'link': 'https://www.etnews.com/20230324000005', 'summary': '신용보증기금은 지난 23일 광주 아이플렉스에서 광주·전남지역 스타트업 생태계 활성화를 위한 현장 소통 간담회를 개최했고 24일 밝혔다. 이날 간담회는 지역 혁신 스타트업의 애로사항을 직접 듣고 효과적인 지원...', 'summary_detail': {'type': 'text/html', 'language': None, 'base': 'https://rss.etnews.com/02021.xml', 'value': '신용보증기금은 지난 23일 광주 아이플렉스에서 광주·전남지역 스타트업 생태계 활성화를 위한 현장 소통 간담회를 개최했고 24일 밝혔다. 이날 간담회는 지역 혁신 스타트업의 애로사항을 직접 듣고 효과적인 지원...'}, 'authors': [{'name': '배옥진'}], 'author': '배옥진', 'author_detail': {'name': '배옥진'}, 'id': 'https://rss.etnews.com/20230324000005', 'guidislink': False, 'comments': 'https://www.etnews.com/20230324000005#comments', 'published': 'Fri, 24 Mar 2023 09:00:00 +0900', 'published_parsed': time.struct_time(tm_year=2023, tm_mon=3, tm_mday=24, tm_hour=0, tm_min=0, tm_sec=0, tm_wday=4, tm_yday=83, tm_isdst=0)}, {'title': \"테라·루나사태 주범 '권도형' 추정 인물, 몬테네그로서 검거\", 'title_detail': {'type': 'text/plain', 'language': None, 'base': 'https://rss.etnews.com/02021.xml', 'value': \"테라·루나사태 주범 '권도형' 추정 인물, 몬테네그로서 검거\"}, 'links': [{'rel': 'alternate', 'type': 'text/html', 'href': 'https://www.etnews.com/20230323000269'}], 'link': 'https://www.etnews.com/20230323000269', 'summary': '가상자산 테라·루나 사태의 주범 권도형 테라폼랩스 대표로 추정되는 인물이 몬테네그로 수도 포드고리차에서 검거됐다. 23일 경찰청은 인터폴에 신청해 발부한 적색수배에 따라 몬테네그로에서 권도형, 한창준으...', 'summary_detail': {'type': 'text/html', 'language': None, 'base': 'https://rss.etnews.com/02021.xml', 'value': '가상자산 테라·루나 사태의 주범 권도형 테라폼랩스 대표로 추정되는 인물이 몬테네그로 수도 포드고리차에서 검거됐다. 23일 경찰청은 인터폴에 신청해 발부한 적색수배에 따라 몬테네그로에서 권도형, 한창준으...'}, 'authors': [{'name': '이형두'}], 'author': '이형두', 'author_detail': {'name': '이형두'}, 'id': 'https://rss.etnews.com/20230323000269', 'guidislink': False, 'comments': 'https://www.etnews.com/20230323000269#comments', 'published': 'Thu, 23 Mar 2023 23:45:00 +0900', 'published_parsed': time.struct_time(tm_year=2023, tm_mon=3, tm_mday=23, tm_hour=14, tm_min=45, tm_sec=0, tm_wday=3, tm_yday=82, tm_isdst=0)}, {'title': \"인도네시아 아체왕국에 '토종코인' 진출한다\", 'title_detail': {'type': 'text/plain', 'language': None, 'base': 'https://rss.etnews.com/02021.xml', 'value': \"인도네시아 아체왕국에 '토종코인' 진출한다\"}, 'links': [{'rel': 'alternate', 'type': 'text/html', 'href': 'https://www.etnews.com/20230323000165'}], 'link': 'https://www.etnews.com/20230323000165', 'summary': '인도네시아 수마트라섬에 위치한 특별자치주 아체왕국이 국내 블록체인 기업이 발행한 가상자산을 도입한다. 23일 업계에 따르면 가상자산 월드코인 발행사 월드에셋홀딩스와 아체왕국, 한국블록체인기업진흥협...', 'summary_detail': {'type': 'text/html', 'language': None, 'base': 'https://rss.etnews.com/02021.xml', 'value': '인도네시아 수마트라섬에 위치한 특별자치주 아체왕국이 국내 블록체인 기업이 발행한 가상자산을 도입한다. 23일 업계에 따르면 가상자산 월드코인 발행사 월드에셋홀딩스와 아체왕국, 한국블록체인기업진흥협...'}, 'authors': [{'name': '이형두'}], 'author': '이형두', 'author_detail': {'name': '이형두'}, 'id': 'https://rss.etnews.com/20230323000165', 'guidislink': False, 'comments': 'https://www.etnews.com/20230323000165#comments', 'published': 'Thu, 23 Mar 2023 14:16:00 +0900', 'published_parsed': time.struct_time(tm_year=2023, tm_mon=3, tm_mday=23, tm_hour=5, tm_min=16, tm_sec=0, tm_wday=3, tm_yday=82, tm_isdst=0)}, {'title': '진옥동 \"고객 자긍심 높이고 강력한 내부통제 실현\"', 'title_detail': {'type': 'text/plain', 'language': None, 'base': 'https://rss.etnews.com/02021.xml', 'value': '진옥동 \"고객 자긍심 높이고 강력한 내부통제 실현\"'}, 'links': [{'rel': 'alternate', 'type': 'text/html', 'href': 'https://www.etnews.com/20230323000142'}], 'link': 'https://www.etnews.com/20230323000142', 'summary': '진옥동 신한금융지주 회장이 23일 주주총회를 거쳐 공식 취임했다. 진 회장은 고객 자긍심 고취와 강력한 내부통제를 핵심 경영가치로 내걸었다. 금융 리스크 대응력 강화를 우선 과제로 삼고 플랫폼 경쟁력 강...', 'summary_detail': {'type': 'text/html', 'language': None, 'base': 'https://rss.etnews.com/02021.xml', 'value': '진옥동 신한금융지주 회장이 23일 주주총회를 거쳐 공식 취임했다. 진 회장은 고객 자긍심 고취와 강력한 내부통제를 핵심 경영가치로 내걸었다. 금융 리스크 대응력 강화를 우선 과제로 삼고 플랫폼 경쟁력 강...'}, 'authors': [{'name': '배옥진'}], 'author': '배옥진', 'author_detail': {'name': '배옥진'}, 'id': 'https://rss.etnews.com/20230323000142', 'guidislink': False, 'comments': 'https://www.etnews.com/20230323000142#comments', 'published': 'Thu, 23 Mar 2023 13:57:00 +0900', 'published_parsed': time.struct_time(tm_year=2023, tm_mon=3, tm_mday=23, tm_hour=4, tm_min=57, tm_sec=0, tm_wday=3, tm_yday=82, tm_isdst=0)}, {'title': '카카오뱅크 앱 매일 접속하면 상금…총 3억원 규모', 'title_detail': {'type': 'text/plain', 'language': None, 'base': 'https://rss.etnews.com/02021.xml', 'value': '카카오뱅크 앱 매일 접속하면 상금…총 3억원 규모'}, 'links': [{'rel': 'alternate', 'type': 'text/html', 'href': 'https://www.etnews.com/20230323000056'}], 'link': 'https://www.etnews.com/20230323000056', 'summary': '카카오뱅크(대표 윤호영)는 미션에 성공한 고객들에게 총 3억원 상금을 제공하는 26일 굿모닝 챌린지 시즌2를 진행한다고 23일 밝혔다. 26일 굿모닝 챌린지는 정해진 기간 동안 매일 오전 6시부터 10시 사이에...', 'summary_detail': {'type': 'text/html', 'language': None, 'base': 'https://rss.etnews.com/02021.xml', 'value': '카카오뱅크(대표 윤호영)는 미션에 성공한 고객들에게 총 3억원 상금을 제공하는 26일 굿모닝 챌린지 시즌2를 진행한다고 23일 밝혔다. 26일 굿모닝 챌린지는 정해진 기간 동안 매일 오전 6시부터 10시 사이에...'}, 'authors': [{'name': '이형두'}], 'author': '이형두', 'author_detail': {'name': '이형두'}, 'id': 'https://rss.etnews.com/20230323000056', 'guidislink': False, 'comments': 'https://www.etnews.com/20230323000056#comments', 'published': 'Thu, 23 Mar 2023 10:34:00 +0900', 'published_parsed': time.struct_time(tm_year=2023, tm_mon=3, tm_mday=23, tm_hour=1, tm_min=34, tm_sec=0, tm_wday=3, tm_yday=82, tm_isdst=0)}, {'title': '포블, 사내업무에 챗GPT 도입…전 직원 교육 제공', 'title_detail': {'type': 'text/plain', 'language': None, 'base': 'https://rss.etnews.com/02021.xml', 'value': '포블, 사내업무에 챗GPT 도입…전 직원 교육 제공'}, 'links': [{'rel': 'alternate', 'type': 'text/html', 'href': 'https://www.etnews.com/20230323000051'}], 'link': 'https://www.etnews.com/20230323000051', 'summary': '가상자산거래소 포블(대표 안현준)은 Open AI의 챗GPT를 전 직원이 업무에 활용할 수 있도록 도입했다고 23일 밝혔다. 챗GPT는 대화형 인공지능(AI) 서비스로 사용자가 대화창에 텍스트를 입력하면 그에 맞춰 대화를...', 'summary_detail': {'type': 'text/html', 'language': None, 'base': 'https://rss.etnews.com/02021.xml', 'value': '가상자산거래소 포블(대표 안현준)은 Open AI의 챗GPT를 전 직원이 업무에 활용할 수 있도록 도입했다고 23일 밝혔다. 챗GPT는 대화형 인공지능(AI) 서비스로 사용자가 대화창에 텍스트를 입력하면 그에 맞춰 대화를...'}, 'authors': [{'name': '이형두'}], 'author': '이형두', 'author_detail': {'name': '이형두'}, 'id': 'https://rss.etnews.com/20230323000051', 'guidislink': False, 'comments': 'https://www.etnews.com/20230323000051#comments', 'published': 'Thu, 23 Mar 2023 10:30:00 +0900', 'published_parsed': time.struct_time(tm_year=2023, tm_mon=3, tm_mday=23, tm_hour=1, tm_min=30, tm_sec=0, tm_wday=3, tm_yday=82, tm_isdst=0)}, {'title': '[ET라씨로] 2차전지 강세 계속…금양 주가 17% ↑', 'title_detail': {'type': 'text/plain', 'language': None, 'base': 'https://rss.etnews.com/02021.xml', 'value': '[ET라씨로] 2차전지 강세 계속…금양 주가 17% ↑'}, 'links': [{'rel': 'alternate', 'type': 'text/html', 'href': 'https://www.etnews.com/20230323000015'}], 'link': 'https://www.etnews.com/20230323000015', 'summary': \"ET라씨로는 인공지능(AI) 기반으로 선별&middot;분석한 주식 정보와 종목 매매 신호를 제공하는 전자신문 증권 정보 애플리케이션입니다. 플레이스토어에서 'ET라씨로'(-&gt;바로가기)를 다운로드하면 IT기업 뉴스와\", 'summary_detail': {'type': 'text/html', 'language': None, 'base': 'https://rss.etnews.com/02021.xml', 'value': \"ET라씨로는 인공지능(AI) 기반으로 선별&middot;분석한 주식 정보와 종목 매매 신호를 제공하는 전자신문 증권 정보 애플리케이션입니다. 플레이스토어에서 'ET라씨로'(-&gt;바로가기)를 다운로드하면 IT기업 뉴스와\"}, 'authors': [{'name': '전자신문인터넷 서희원 기자'}], 'author': '전자신문인터넷 서희원 기자', 'author_detail': {'name': '전자신문인터넷 서희원 기자'}, 'id': 'https://rss.etnews.com/20230323000015', 'guidislink': False, 'comments': 'https://www.etnews.com/20230323000015#comments', 'published': 'Thu, 23 Mar 2023 09:15:00 +0900', 'published_parsed': time.struct_time(tm_year=2023, tm_mon=3, tm_mday=23, tm_hour=0, tm_min=15, tm_sec=0, tm_wday=3, tm_yday=82, tm_isdst=0)}, {'title': \"[ET라씨로] 이수화학 주가, 개장부터 달린다…15% '쑤욱'\", 'title_detail': {'type': 'text/plain', 'language': None, 'base': 'https://rss.etnews.com/02021.xml', 'value': \"[ET라씨로] 이수화학 주가, 개장부터 달린다…15% '쑤욱'\"}, 'links': [{'rel': 'alternate', 'type': 'text/html', 'href': 'https://www.etnews.com/20230323000013'}], 'link': 'https://www.etnews.com/20230323000013', 'summary': \"ET라씨로는 인공지능(AI) 기반으로 선별&middot;분석한 주식 정보와 종목 매매 신호를 제공하는 전자신문 증권 정보 애플리케이션입니다. 플레이스토어에서 'ET라씨로'(-&gt;바로가기)를 다운로드하면 IT기업 뉴스와\", 'summary_detail': {'type': 'text/html', 'language': None, 'base': 'https://rss.etnews.com/02021.xml', 'value': \"ET라씨로는 인공지능(AI) 기반으로 선별&middot;분석한 주식 정보와 종목 매매 신호를 제공하는 전자신문 증권 정보 애플리케이션입니다. 플레이스토어에서 'ET라씨로'(-&gt;바로가기)를 다운로드하면 IT기업 뉴스와\"}, 'authors': [{'name': '전자신문인터넷 서희원 기자'}], 'author': '전자신문인터넷 서희원 기자', 'author_detail': {'name': '전자신문인터넷 서희원 기자'}, 'id': 'https://rss.etnews.com/20230323000013', 'guidislink': False, 'comments': 'https://www.etnews.com/20230323000013#comments', 'published': 'Thu, 23 Mar 2023 09:05:00 +0900', 'published_parsed': time.struct_time(tm_year=2023, tm_mon=3, tm_mday=23, tm_hour=0, tm_min=5, tm_sec=0, tm_wday=3, tm_yday=82, tm_isdst=0)}, {'title': 'DGB금융, 디지털가속화위원회 개최', 'title_detail': {'type': 'text/plain', 'language': None, 'base': 'https://rss.etnews.com/02021.xml', 'value': 'DGB금융, 디지털가속화위원회 개최'}, 'links': [{'rel': 'alternate', 'type': 'text/html', 'href': 'https://www.etnews.com/20230323000004'}], 'link': 'https://www.etnews.com/20230323000004', 'summary': 'DGB금융그룹은 그룹 차원의 디지털 트랜스포메이션(디지털 전환) 실행력 강화를 위해 2023년 제1차 디지털가속화위원회를 개최했다고 23일 밝혔다. DGB금융은 올해 초 그룹 디지털 전략 통합 연계성을 제고하고 지...', 'summary_detail': {'type': 'text/html', 'language': None, 'base': 'https://rss.etnews.com/02021.xml', 'value': 'DGB금융그룹은 그룹 차원의 디지털 트랜스포메이션(디지털 전환) 실행력 강화를 위해 2023년 제1차 디지털가속화위원회를 개최했다고 23일 밝혔다. DGB금융은 올해 초 그룹 디지털 전략 통합 연계성을 제고하고 지...'}, 'authors': [{'name': '배옥진'}], 'author': '배옥진', 'author_detail': {'name': '배옥진'}, 'id': 'https://rss.etnews.com/20230323000004', 'guidislink': False, 'comments': 'https://www.etnews.com/20230323000004#comments', 'published': 'Thu, 23 Mar 2023 08:35:00 +0900', 'published_parsed': time.struct_time(tm_year=2023, tm_mon=3, tm_mday=22, tm_hour=23, tm_min=35, tm_sec=0, tm_wday=2, tm_yday=81, tm_isdst=0)}, {'title': '美 연준, 기준금리 0.25%P 인상…파월 \"연내 금리인하 없을 것\"', 'title_detail': {'type': 'text/plain', 'language': None, 'base': 'https://rss.etnews.com/02021.xml', 'value': '美 연준, 기준금리 0.25%P 인상…파월 \"연내 금리인하 없을 것\"'}, 'links': [{'rel': 'alternate', 'type': 'text/html', 'href': 'https://www.etnews.com/20230323000003'}], 'link': 'https://www.etnews.com/20230323000003', 'summary': '미국 연방준비제도(Fed·연준)가 기준금리를 0.25% 포인트 인상했다. 실리콘밸리은행(SVB) 파산으로 기준금리를 동결해야 한다는 시각이 일부 제기되기도 했으나 시장 예상대로 베이비스텝을 결정했다. 연준은 22일(...', 'summary_detail': {'type': 'text/html', 'language': None, 'base': 'https://rss.etnews.com/02021.xml', 'value': '미국 연방준비제도(Fed·연준)가 기준금리를 0.25% 포인트 인상했다. 실리콘밸리은행(SVB) 파산으로 기준금리를 동결해야 한다는 시각이 일부 제기되기도 했으나 시장 예상대로 베이비스텝을 결정했다. 연준은 22일(...'}, 'authors': [{'name': '배옥진'}], 'author': '배옥진', 'author_detail': {'name': '배옥진'}, 'id': 'https://rss.etnews.com/20230323000003', 'guidislink': False, 'comments': 'https://www.etnews.com/20230323000003#comments', 'published': 'Thu, 23 Mar 2023 04:41:00 +0900', 'published_parsed': time.struct_time(tm_year=2023, tm_mon=3, tm_mday=22, tm_hour=19, tm_min=41, tm_sec=0, tm_wday=2, tm_yday=81, tm_isdst=0)}, {'title': \"행동주의 펀드 '배당확대' 놓고 JB금융·얼라인, 주총 표대결\", 'title_detail': {'type': 'text/plain', 'language': None, 'base': 'https://rss.etnews.com/02021.xml', 'value': \"행동주의 펀드 '배당확대' 놓고 JB금융·얼라인, 주총 표대결\"}, 'links': [{'rel': 'alternate', 'type': 'text/html', 'href': 'https://www.etnews.com/20230322000164'}], 'link': 'https://www.etnews.com/20230322000164', 'summary': '행동주의 펀드로 잘 알려진 얼라인파트너스자산운용과 JB금융지주가 오는 30일 주주총회에서 배당성향 확대 등 안건을 두고 표 대결을 펼친다. JB금융지주 2대 주주인 얼라인은 JB금융 보통주 1주당 715원(중간배...', 'summary_detail': {'type': 'text/html', 'language': None, 'base': 'https://rss.etnews.com/02021.xml', 'value': '행동주의 펀드로 잘 알려진 얼라인파트너스자산운용과 JB금융지주가 오는 30일 주주총회에서 배당성향 확대 등 안건을 두고 표 대결을 펼친다. JB금융지주 2대 주주인 얼라인은 JB금융 보통주 1주당 715원(중간배...'}, 'authors': [{'name': '이형두'}], 'author': '이형두', 'author_detail': {'name': '이형두'}, 'id': 'https://rss.etnews.com/20230322000164', 'guidislink': False, 'comments': 'https://www.etnews.com/20230322000164#comments', 'published': 'Wed, 22 Mar 2023 15:00:00 +0900', 'published_parsed': time.struct_time(tm_year=2023, tm_mon=3, tm_mday=22, tm_hour=6, tm_min=0, tm_sec=0, tm_wday=2, tm_yday=81, tm_isdst=0)}, {'title': '토스페이먼츠, 애플페이 공식 PG 파트너사로 선정', 'title_detail': {'type': 'text/plain', 'language': None, 'base': 'https://rss.etnews.com/02021.xml', 'value': '토스페이먼츠, 애플페이 공식 PG 파트너사로 선정'}, 'links': [{'rel': 'alternate', 'type': 'text/html', 'href': 'https://www.etnews.com/20230322000207'}], 'link': 'https://www.etnews.com/20230322000207', 'summary': '토스의 페이테크 계열사 토스페이먼츠(대표 김민표)는 애플의 글로벌 간편결제 서비스 애플페이의 국내 공식 PG 파트너사로 선정됐다고 22일 밝혔다. 이번 파트너십을 통해 양사는 애플페이의 성공적인 한국 시장...', 'summary_detail': {'type': 'text/html', 'language': None, 'base': 'https://rss.etnews.com/02021.xml', 'value': '토스의 페이테크 계열사 토스페이먼츠(대표 김민표)는 애플의 글로벌 간편결제 서비스 애플페이의 국내 공식 PG 파트너사로 선정됐다고 22일 밝혔다. 이번 파트너십을 통해 양사는 애플페이의 성공적인 한국 시장...'}, 'authors': [{'name': '이형두'}], 'author': '이형두', 'author_detail': {'name': '이형두'}, 'id': 'https://rss.etnews.com/20230322000207', 'guidislink': False, 'comments': 'https://www.etnews.com/20230322000207#comments', 'published': 'Wed, 22 Mar 2023 14:42:00 +0900', 'published_parsed': time.struct_time(tm_year=2023, tm_mon=3, tm_mday=22, tm_hour=5, tm_min=42, tm_sec=0, tm_wday=2, tm_yday=81, tm_isdst=0)}, {'title': '신한은행, E1과 신재생에너지 개발펀드 투자계약', 'title_detail': {'type': 'text/plain', 'language': None, 'base': 'https://rss.etnews.com/02021.xml', 'value': '신한은행, E1과 신재생에너지 개발펀드 투자계약'}, 'links': [{'rel': 'alternate', 'type': 'text/html', 'href': 'https://www.etnews.com/20230322000149'}], 'link': 'https://www.etnews.com/20230322000149', 'summary': '신한은행은 E1, 신한자산운용과 신한-E1 개발펀드 투자계약을 체결했다고 22일 밝혔다. 신한자산운용이 새로 설립하는 신한-E1 개발펀드는 개발 초기단계인 신재생에너지 발전사업 투자를 목표로 설립됐다. 신한...', 'summary_detail': {'type': 'text/html', 'language': None, 'base': 'https://rss.etnews.com/02021.xml', 'value': '신한은행은 E1, 신한자산운용과 신한-E1 개발펀드 투자계약을 체결했다고 22일 밝혔다. 신한자산운용이 새로 설립하는 신한-E1 개발펀드는 개발 초기단계인 신재생에너지 발전사업 투자를 목표로 설립됐다. 신한...'}, 'authors': [{'name': '배옥진'}], 'author': '배옥진', 'author_detail': {'name': '배옥진'}, 'id': 'https://rss.etnews.com/20230322000149', 'guidislink': False, 'comments': 'https://www.etnews.com/20230322000149#comments', 'published': 'Wed, 22 Mar 2023 13:29:00 +0900', 'published_parsed': time.struct_time(tm_year=2023, tm_mon=3, tm_mday=22, tm_hour=4, tm_min=29, tm_sec=0, tm_wday=2, tm_yday=81, tm_isdst=0)}, {'title': \"한투증권, 카뱅·토뱅과 '한국투자 ST 프렌즈' 결성\", 'title_detail': {'type': 'text/plain', 'language': None, 'base': 'https://rss.etnews.com/02021.xml', 'value': \"한투증권, 카뱅·토뱅과 '한국투자 ST 프렌즈' 결성\"}, 'links': [{'rel': 'alternate', 'type': 'text/html', 'href': 'https://www.etnews.com/20230322000129'}], 'link': 'https://www.etnews.com/20230322000129', 'summary': '한국금융지주 자회사 한국투자증권(사장 정일문)은 인터넷 전문은행 카카오뱅크·토스뱅크와 함께 토큰증권 협의체 한국투자 ST 프렌즈를 결성하고 본격적으로 토큰증권 생태계 구축에 나선다고 22일 밝혔다. 한...', 'summary_detail': {'type': 'text/html', 'language': None, 'base': 'https://rss.etnews.com/02021.xml', 'value': '한국금융지주 자회사 한국투자증권(사장 정일문)은 인터넷 전문은행 카카오뱅크·토스뱅크와 함께 토큰증권 협의체 한국투자 ST 프렌즈를 결성하고 본격적으로 토큰증권 생태계 구축에 나선다고 22일 밝혔다. 한...'}, 'authors': [{'name': '이형두'}], 'author': '이형두', 'author_detail': {'name': '이형두'}, 'id': 'https://rss.etnews.com/20230322000129', 'guidislink': False, 'comments': 'https://www.etnews.com/20230322000129#comments', 'published': 'Wed, 22 Mar 2023 12:43:00 +0900', 'published_parsed': time.struct_time(tm_year=2023, tm_mon=3, tm_mday=22, tm_hour=3, tm_min=43, tm_sec=0, tm_wday=2, tm_yday=81, tm_isdst=0)}, {'title': \"크레파스, 4월 12일 '대안신용평가 활용방안' 세미나\", 'title_detail': {'type': 'text/plain', 'language': None, 'base': 'https://rss.etnews.com/02021.xml', 'value': \"크레파스, 4월 12일 '대안신용평가 활용방안' 세미나\"}, 'links': [{'rel': 'alternate', 'type': 'text/html', 'href': 'https://www.etnews.com/20230322000124'}], 'link': 'https://www.etnews.com/20230322000124', 'summary': '국내 1호 대안신용평가사 크레파스솔루션은 미래금융을 위한 대안신용평가 활용방안 세미나를 4월 12일 대한상공회의소에서 개최한다고 22일 밝혔다. 이번 세미나에서는 세계 최초로 대안신용평가 상용화에 성공한...', 'summary_detail': {'type': 'text/html', 'language': None, 'base': 'https://rss.etnews.com/02021.xml', 'value': '국내 1호 대안신용평가사 크레파스솔루션은 미래금융을 위한 대안신용평가 활용방안 세미나를 4월 12일 대한상공회의소에서 개최한다고 22일 밝혔다. 이번 세미나에서는 세계 최초로 대안신용평가 상용화에 성공한...'}, 'authors': [{'name': '배옥진'}], 'author': '배옥진', 'author_detail': {'name': '배옥진'}, 'id': 'https://rss.etnews.com/20230322000124', 'guidislink': False, 'comments': 'https://www.etnews.com/20230322000124#comments', 'published': 'Wed, 22 Mar 2023 12:34:00 +0900', 'published_parsed': time.struct_time(tm_year=2023, tm_mon=3, tm_mday=22, tm_hour=3, tm_min=34, tm_sec=0, tm_wday=2, tm_yday=81, tm_isdst=0)}, {'title': \"토스, 금융 넘어 '통신 플랫폼' 노린다\", 'title_detail': {'type': 'text/plain', 'language': None, 'base': 'https://rss.etnews.com/02021.xml', 'value': \"토스, 금융 넘어 '통신 플랫폼' 노린다\"}, 'links': [{'rel': 'alternate', 'type': 'text/html', 'href': 'https://www.etnews.com/20230322000100'}], 'link': 'https://www.etnews.com/20230322000100', 'summary': '토스가 자사 플랫폼에 이동통신(MNO) 사업자인 LG유플러스 상품도 함께 품었다. 토스는 자회사 토스모바일을 통해 지난달 알뜰폰(MVNO) 사업을 개시했다. 기존 금융 플랫폼 입지로 확보한 고객에게 다양한 통신 상품...', 'summary_detail': {'type': 'text/html', 'language': None, 'base': 'https://rss.etnews.com/02021.xml', 'value': '토스가 자사 플랫폼에 이동통신(MNO) 사업자인 LG유플러스 상품도 함께 품었다. 토스는 자회사 토스모바일을 통해 지난달 알뜰폰(MVNO) 사업을 개시했다. 기존 금융 플랫폼 입지로 확보한 고객에게 다양한 통신 상품...'}, 'authors': [{'name': '이형두'}], 'author': '이형두', 'author_detail': {'name': '이형두'}, 'id': 'https://rss.etnews.com/20230322000100', 'guidislink': False, 'comments': 'https://www.etnews.com/20230322000100#comments', 'published': 'Wed, 22 Mar 2023 11:13:00 +0900', 'published_parsed': time.struct_time(tm_year=2023, tm_mon=3, tm_mday=22, tm_hour=2, tm_min=13, tm_sec=0, tm_wday=2, tm_yday=81, tm_isdst=0)}, {'title': '신한은행, 부동산PF에 5500억 유동성 지원', 'title_detail': {'type': 'text/plain', 'language': None, 'base': 'https://rss.etnews.com/02021.xml', 'value': '신한은행, 부동산PF에 5500억 유동성 지원'}, 'links': [{'rel': 'alternate', 'type': 'text/html', 'href': 'https://www.etnews.com/20230322000067'}], 'link': 'https://www.etnews.com/20230322000067', 'summary': '신한은행은 최근 원자재와 인건비 상승에 따른 공사비 증액으로 자금 조달에 어려움을 겪고 있는 재건축 사업장 등에 대한 지원을 결정했다고 22일 밝혔다. 이번 유동성 지원은 신규 자금지원 2천500억원, 브릿지론...', 'summary_detail': {'type': 'text/html', 'language': None, 'base': 'https://rss.etnews.com/02021.xml', 'value': '신한은행은 최근 원자재와 인건비 상승에 따른 공사비 증액으로 자금 조달에 어려움을 겪고 있는 재건축 사업장 등에 대한 지원을 결정했다고 22일 밝혔다. 이번 유동성 지원은 신규 자금지원 2천500억원, 브릿지론...'}, 'authors': [{'name': '배옥진'}], 'author': '배옥진', 'author_detail': {'name': '배옥진'}, 'id': 'https://rss.etnews.com/20230322000067', 'guidislink': False, 'comments': 'https://www.etnews.com/20230322000067#comments', 'published': 'Wed, 22 Mar 2023 10:33:00 +0900', 'published_parsed': time.struct_time(tm_year=2023, tm_mon=3, tm_mday=22, tm_hour=1, tm_min=33, tm_sec=0, tm_wday=2, tm_yday=81, tm_isdst=0)}, {'title': '카카오뱅크, NICE평가정보와 제휴…고객 신용점수 데이터 제공', 'title_detail': {'type': 'text/plain', 'language': None, 'base': 'https://rss.etnews.com/02021.xml', 'value': '카카오뱅크, NICE평가정보와 제휴…고객 신용점수 데이터 제공'}, 'links': [{'rel': 'alternate', 'type': 'text/html', 'href': 'https://www.etnews.com/20230322000038'}], 'link': 'https://www.etnews.com/20230322000038', 'summary': '카카오뱅크(대표 윤호영)는 내 신용정보 서비스에서 코리아크레딧뷰로(KCB)와 NICE평가정보(NICE)의 신용점수를 모두 확인할 수 있도록 서비스를 확대한다고 22일 밝혔다. 내 신용정보 서비스는 고객이 직접 신용...', 'summary_detail': {'type': 'text/html', 'language': None, 'base': 'https://rss.etnews.com/02021.xml', 'value': '카카오뱅크(대표 윤호영)는 내 신용정보 서비스에서 코리아크레딧뷰로(KCB)와 NICE평가정보(NICE)의 신용점수를 모두 확인할 수 있도록 서비스를 확대한다고 22일 밝혔다. 내 신용정보 서비스는 고객이 직접 신용...'}, 'authors': [{'name': '이형두'}], 'author': '이형두', 'author_detail': {'name': '이형두'}, 'id': 'https://rss.etnews.com/20230322000038', 'guidislink': False, 'comments': 'https://www.etnews.com/20230322000038#comments', 'published': 'Wed, 22 Mar 2023 09:43:00 +0900', 'published_parsed': time.struct_time(tm_year=2023, tm_mon=3, tm_mday=22, tm_hour=0, tm_min=43, tm_sec=0, tm_wday=2, tm_yday=81, tm_isdst=0)}, {'title': '토스, 대환대출플랫폼 전략 세미나 개최', 'title_detail': {'type': 'text/plain', 'language': None, 'base': 'https://rss.etnews.com/02021.xml', 'value': '토스, 대환대출플랫폼 전략 세미나 개최'}, 'links': [{'rel': 'alternate', 'type': 'text/html', 'href': 'https://www.etnews.com/20230322000035'}], 'link': 'https://www.etnews.com/20230322000035', 'summary': '토스는 제휴 금융사를 대상으로 대환대출 플랫폼 전략 세미나를 개최했다고 22일 밝혔다. 지난 21일 서울 양재 엘타워에서 열린 행사에는 60여개 금융사 여신업무 실무 책임자 125명이 참여했다. 이날 세미나는 오...', 'summary_detail': {'type': 'text/html', 'language': None, 'base': 'https://rss.etnews.com/02021.xml', 'value': '토스는 제휴 금융사를 대상으로 대환대출 플랫폼 전략 세미나를 개최했다고 22일 밝혔다. 지난 21일 서울 양재 엘타워에서 열린 행사에는 60여개 금융사 여신업무 실무 책임자 125명이 참여했다. 이날 세미나는 오...'}, 'authors': [{'name': '이형두'}], 'author': '이형두', 'author_detail': {'name': '이형두'}, 'id': 'https://rss.etnews.com/20230322000035', 'guidislink': False, 'comments': 'https://www.etnews.com/20230322000035#comments', 'published': 'Wed, 22 Mar 2023 09:38:00 +0900', 'published_parsed': time.struct_time(tm_year=2023, tm_mon=3, tm_mday=22, tm_hour=0, tm_min=38, tm_sec=0, tm_wday=2, tm_yday=81, tm_isdst=0)}, {'title': '포블, 엔스트림웍스와 ST 비즈니스 발굴 MOU 체결', 'title_detail': {'type': 'text/plain', 'language': None, 'base': 'https://rss.etnews.com/02021.xml', 'value': '포블, 엔스트림웍스와 ST 비즈니스 발굴 MOU 체결'}, 'links': [{'rel': 'alternate', 'type': 'text/html', 'href': 'https://www.etnews.com/20230321000212'}], 'link': 'https://www.etnews.com/20230321000212', 'summary': '가상자산거래소 포블(대표 안현준)은 엔스트림웍스(대표 유완재)와 토큰증권(ST) 기술 개발 및 엑셀러레이팅 등 다양한 블록체인 비즈니스 발굴 업무협약(MOU)을 체결했다고 21일 밝혔다. ST는 부동산이나 미술품,...', 'summary_detail': {'type': 'text/html', 'language': None, 'base': 'https://rss.etnews.com/02021.xml', 'value': '가상자산거래소 포블(대표 안현준)은 엔스트림웍스(대표 유완재)와 토큰증권(ST) 기술 개발 및 엑셀러레이팅 등 다양한 블록체인 비즈니스 발굴 업무협약(MOU)을 체결했다고 21일 밝혔다. ST는 부동산이나 미술품,...'}, 'authors': [{'name': '이형두'}], 'author': '이형두', 'author_detail': {'name': '이형두'}, 'id': 'https://rss.etnews.com/20230321000212', 'guidislink': False, 'comments': 'https://www.etnews.com/20230321000212#comments', 'published': 'Tue, 21 Mar 2023 14:45:00 +0900', 'published_parsed': time.struct_time(tm_year=2023, tm_mon=3, tm_mday=21, tm_hour=5, tm_min=45, tm_sec=0, tm_wday=1, tm_yday=80, tm_isdst=0)}, {'title': \"금융지주 슈퍼주총 위크…신한 진옥동·우리 임종룡 '광폭 행보'\", 'title_detail': {'type': 'text/plain', 'language': None, 'base': 'https://rss.etnews.com/02021.xml', 'value': \"금융지주 슈퍼주총 위크…신한 진옥동·우리 임종룡 '광폭 행보'\"}, 'links': [{'rel': 'alternate', 'type': 'text/html', 'href': 'https://www.etnews.com/20230321000175'}], 'link': 'https://www.etnews.com/20230321000175', 'summary': '국내 금융지주들이 오는 23일을 시작으로 잇달아 주주총회를 개최하며 신임 회장 취임을 공식화한다. 내정 후 조용한 행보를 이어오던 신임 회장들은 그 어느 때보다 강화된 리스크 관리 강화와 금융지원 확대 기조...', 'summary_detail': {'type': 'text/html', 'language': None, 'base': 'https://rss.etnews.com/02021.xml', 'value': '국내 금융지주들이 오는 23일을 시작으로 잇달아 주주총회를 개최하며 신임 회장 취임을 공식화한다. 내정 후 조용한 행보를 이어오던 신임 회장들은 그 어느 때보다 강화된 리스크 관리 강화와 금융지원 확대 기조...'}, 'authors': [{'name': '배옥진'}], 'author': '배옥진', 'author_detail': {'name': '배옥진'}, 'id': 'https://rss.etnews.com/20230321000175', 'guidislink': False, 'comments': 'https://www.etnews.com/20230321000175#comments', 'published': 'Tue, 21 Mar 2023 14:09:00 +0900', 'published_parsed': time.struct_time(tm_year=2023, tm_mon=3, tm_mday=21, tm_hour=5, tm_min=9, tm_sec=0, tm_wday=1, tm_yday=80, tm_isdst=0)}, {'title': '8퍼센트, P2P 투자 앱 출시…편의성 증진', 'title_detail': {'type': 'text/plain', 'language': None, 'base': 'https://rss.etnews.com/02021.xml', 'value': '8퍼센트, P2P 투자 앱 출시…편의성 증진'}, 'links': [{'rel': 'alternate', 'type': 'text/html', 'href': 'https://www.etnews.com/20230321000140'}], 'link': 'https://www.etnews.com/20230321000140', 'summary': '온라인투자연계금융(P2P금융) 서비스 8퍼센트는 금융 소비자의 투자 편의를 돕기 위한 투자 애플리케이션(앱)을 출시했다고 21일 밝혔다. 8퍼센트 투자앱은 신규 투자 상품에 대한 접근성을 개선했고, 기존 투자 내...', 'summary_detail': {'type': 'text/html', 'language': None, 'base': 'https://rss.etnews.com/02021.xml', 'value': '온라인투자연계금융(P2P금융) 서비스 8퍼센트는 금융 소비자의 투자 편의를 돕기 위한 투자 애플리케이션(앱)을 출시했다고 21일 밝혔다. 8퍼센트 투자앱은 신규 투자 상품에 대한 접근성을 개선했고, 기존 투자 내...'}, 'authors': [{'name': '이형두'}], 'author': '이형두', 'author_detail': {'name': '이형두'}, 'id': 'https://rss.etnews.com/20230321000140', 'guidislink': False, 'comments': 'https://www.etnews.com/20230321000140#comments', 'published': 'Tue, 21 Mar 2023 13:24:00 +0900', 'published_parsed': time.struct_time(tm_year=2023, tm_mon=3, tm_mday=21, tm_hour=4, tm_min=24, tm_sec=0, tm_wday=1, tm_yday=80, tm_isdst=0)}, {'title': '[ET라씨로] 2차전지주 다시 강세로…금양 주가 21% ↑', 'title_detail': {'type': 'text/plain', 'language': None, 'base': 'https://rss.etnews.com/02021.xml', 'value': '[ET라씨로] 2차전지주 다시 강세로…금양 주가 21% ↑'}, 'links': [{'rel': 'alternate', 'type': 'text/html', 'href': 'https://www.etnews.com/20230321000116'}], 'link': 'https://www.etnews.com/20230321000116', 'summary': \"ET라씨로는 인공지능(AI) 기반으로 선별&middot;분석한 주식 정보와 종목 매매 신호를 제공하는 전자신문 증권 정보 애플리케이션입니다. 플레이스토어에서 'ET라씨로'(-&gt;바로가기)를 다운로드하면 IT기업 뉴스와\", 'summary_detail': {'type': 'text/html', 'language': None, 'base': 'https://rss.etnews.com/02021.xml', 'value': \"ET라씨로는 인공지능(AI) 기반으로 선별&middot;분석한 주식 정보와 종목 매매 신호를 제공하는 전자신문 증권 정보 애플리케이션입니다. 플레이스토어에서 'ET라씨로'(-&gt;바로가기)를 다운로드하면 IT기업 뉴스와\"}, 'authors': [{'name': '전자신문인터넷 서희원 기자'}], 'author': '전자신문인터넷 서희원 기자', 'author_detail': {'name': '전자신문인터넷 서희원 기자'}, 'id': 'https://rss.etnews.com/20230321000116', 'guidislink': False, 'comments': 'https://www.etnews.com/20230321000116#comments', 'published': 'Tue, 21 Mar 2023 11:25:00 +0900', 'published_parsed': time.struct_time(tm_year=2023, tm_mon=3, tm_mday=21, tm_hour=2, tm_min=25, tm_sec=0, tm_wday=1, tm_yday=80, tm_isdst=0)}, {'title': \"하나은행, 금융권 첫 미술품 유통모델 '미술품 신탁' 출시\", 'title_detail': {'type': 'text/plain', 'language': None, 'base': 'https://rss.etnews.com/02021.xml', 'value': \"하나은행, 금융권 첫 미술품 유통모델 '미술품 신탁' 출시\"}, 'links': [{'rel': 'alternate', 'type': 'text/html', 'href': 'https://www.etnews.com/20230321000030'}], 'link': 'https://www.etnews.com/20230321000030', 'summary': '하나은행은 작년 11월 개설한 금융권 첫 개방형 수장고 H.art1(하트원)과 연계한 신탁 신상품인 미술품 동산관리처분신탁(미술품 신탁)을 출시했다고 21일 밝혔다. 전시기간 동안 파악된 작품 구매 수요를 신탁...', 'summary_detail': {'type': 'text/html', 'language': None, 'base': 'https://rss.etnews.com/02021.xml', 'value': '하나은행은 작년 11월 개설한 금융권 첫 개방형 수장고 H.art1(하트원)과 연계한 신탁 신상품인 미술품 동산관리처분신탁(미술품 신탁)을 출시했다고 21일 밝혔다. 전시기간 동안 파악된 작품 구매 수요를 신탁...'}, 'authors': [{'name': '배옥진'}], 'author': '배옥진', 'author_detail': {'name': '배옥진'}, 'id': 'https://rss.etnews.com/20230321000030', 'guidislink': False, 'comments': 'https://www.etnews.com/20230321000030#comments', 'published': 'Tue, 21 Mar 2023 09:41:00 +0900', 'published_parsed': time.struct_time(tm_year=2023, tm_mon=3, tm_mday=21, tm_hour=0, tm_min=41, tm_sec=0, tm_wday=1, tm_yday=80, tm_isdst=0)}, {'title': '[ET라씨로] 中 판호발급에 넷마블·넥슨 등 국내 게임주 강세', 'title_detail': {'type': 'text/plain', 'language': None, 'base': 'https://rss.etnews.com/02021.xml', 'value': '[ET라씨로] 中 판호발급에 넷마블·넥슨 등 국내 게임주 강세'}, 'links': [{'rel': 'alternate', 'type': 'text/html', 'href': 'https://www.etnews.com/20230321000016'}], 'link': 'https://www.etnews.com/20230321000016', 'summary': \"ET라씨로는 인공지능(AI) 기반으로 선별&middot;분석한 주식 정보와 종목 매매 신호를 제공하는 전자신문 증권 정보 애플리케이션입니다. 플레이스토어에서 'ET라씨로'(-&gt;바로가기)를 다운로드하면 IT기업 뉴스와\", 'summary_detail': {'type': 'text/html', 'language': None, 'base': 'https://rss.etnews.com/02021.xml', 'value': \"ET라씨로는 인공지능(AI) 기반으로 선별&middot;분석한 주식 정보와 종목 매매 신호를 제공하는 전자신문 증권 정보 애플리케이션입니다. 플레이스토어에서 'ET라씨로'(-&gt;바로가기)를 다운로드하면 IT기업 뉴스와\"}, 'authors': [{'name': '전자신문인터넷 양민하 기자'}], 'author': '전자신문인터넷 양민하 기자', 'author_detail': {'name': '전자신문인터넷 양민하 기자'}, 'id': 'https://rss.etnews.com/20230321000016', 'guidislink': False, 'comments': 'https://www.etnews.com/20230321000016#comments', 'published': 'Tue, 21 Mar 2023 09:25:00 +0900', 'published_parsed': time.struct_time(tm_year=2023, tm_mon=3, tm_mday=21, tm_hour=0, tm_min=25, tm_sec=0, tm_wday=1, tm_yday=80, tm_isdst=0)}, {'title': \"[ET라씨로] '전날 상한가' 코센, 장 초반 15% ↑\", 'title_detail': {'type': 'text/plain', 'language': None, 'base': 'https://rss.etnews.com/02021.xml', 'value': \"[ET라씨로] '전날 상한가' 코센, 장 초반 15% ↑\"}, 'links': [{'rel': 'alternate', 'type': 'text/html', 'href': 'https://www.etnews.com/20230321000017'}], 'link': 'https://www.etnews.com/20230321000017', 'summary': \"ET라씨로는 인공지능(AI) 기반으로 선별&middot;분석한 주식 정보와 종목 매매 신호를 제공하는 전자신문 증권 정보 애플리케이션입니다. 플레이스토어에서 'ET라씨로'(-&gt;바로가기)를 다운로드하면 IT기업 뉴스와\", 'summary_detail': {'type': 'text/html', 'language': None, 'base': 'https://rss.etnews.com/02021.xml', 'value': \"ET라씨로는 인공지능(AI) 기반으로 선별&middot;분석한 주식 정보와 종목 매매 신호를 제공하는 전자신문 증권 정보 애플리케이션입니다. 플레이스토어에서 'ET라씨로'(-&gt;바로가기)를 다운로드하면 IT기업 뉴스와\"}, 'authors': [{'name': '전자신문인터넷 서희원 기자'}], 'author': '전자신문인터넷 서희원 기자', 'author_detail': {'name': '전자신문인터넷 서희원 기자'}, 'id': 'https://rss.etnews.com/20230321000017', 'guidislink': False, 'comments': 'https://www.etnews.com/20230321000017#comments', 'published': 'Tue, 21 Mar 2023 09:20:00 +0900', 'published_parsed': time.struct_time(tm_year=2023, tm_mon=3, tm_mday=21, tm_hour=0, tm_min=20, tm_sec=0, tm_wday=1, tm_yday=80, tm_isdst=0)}, {'title': '[ET라씨로] STX, 해운 부문 인적 분할...장초반 22%대 급등', 'title_detail': {'type': 'text/plain', 'language': None, 'base': 'https://rss.etnews.com/02021.xml', 'value': '[ET라씨로] STX, 해운 부문 인적 분할...장초반 22%대 급등'}, 'links': [{'rel': 'alternate', 'type': 'text/html', 'href': 'https://www.etnews.com/20230321000013'}], 'link': 'https://www.etnews.com/20230321000013', 'summary': \"ET라씨로는 인공지능(AI) 기반으로 선별&middot;분석한 주식 정보와 종목 매매 신호를 제공하는 전자신문 증권 정보 애플리케이션입니다. 플레이스토어에서 'ET라씨로'(-&gt;바로가기)를 다운로드하면 IT기업 뉴스와\", 'summary_detail': {'type': 'text/html', 'language': None, 'base': 'https://rss.etnews.com/02021.xml', 'value': \"ET라씨로는 인공지능(AI) 기반으로 선별&middot;분석한 주식 정보와 종목 매매 신호를 제공하는 전자신문 증권 정보 애플리케이션입니다. 플레이스토어에서 'ET라씨로'(-&gt;바로가기)를 다운로드하면 IT기업 뉴스와\"}, 'authors': [{'name': '전자신문인터넷 양민하 기자'}], 'author': '전자신문인터넷 양민하 기자', 'author_detail': {'name': '전자신문인터넷 양민하 기자'}, 'id': 'https://rss.etnews.com/20230321000013', 'guidislink': False, 'comments': 'https://www.etnews.com/20230321000013#comments', 'published': 'Tue, 21 Mar 2023 09:20:00 +0900', 'published_parsed': time.struct_time(tm_year=2023, tm_mon=3, tm_mday=21, tm_hour=0, tm_min=20, tm_sec=0, tm_wday=1, tm_yday=80, tm_isdst=0)}, {'title': '한국예탁결제원, 이순호 신임 사장 취임식 개최', 'title_detail': {'type': 'text/plain', 'language': None, 'base': 'https://rss.etnews.com/02021.xml', 'value': '한국예탁결제원, 이순호 신임 사장 취임식 개최'}, 'links': [{'rel': 'alternate', 'type': 'text/html', 'href': 'https://www.etnews.com/20230320000223'}], 'link': 'https://www.etnews.com/20230320000223', 'summary': '한국예탁결제원은 이순호 신임 사장의 취임식을 20일 부산 본사에서 개최했다고 20일 밝혔다. 이순호 신임 사장은 한국금융연구원 은행연구실장과 공적자금관리위원회 위원, 금융위원회 규제입증위원회 위원 등을 거...', 'summary_detail': {'type': 'text/html', 'language': None, 'base': 'https://rss.etnews.com/02021.xml', 'value': '한국예탁결제원은 이순호 신임 사장의 취임식을 20일 부산 본사에서 개최했다고 20일 밝혔다. 이순호 신임 사장은 한국금융연구원 은행연구실장과 공적자금관리위원회 위원, 금융위원회 규제입증위원회 위원 등을 거...'}, 'authors': [{'name': '이형두'}], 'author': '이형두', 'author_detail': {'name': '이형두'}, 'id': 'https://rss.etnews.com/20230320000223', 'guidislink': False, 'comments': 'https://www.etnews.com/20230320000223#comments', 'published': 'Mon, 20 Mar 2023 15:24:00 +0900', 'published_parsed': time.struct_time(tm_year=2023, tm_mon=3, tm_mday=20, tm_hour=6, tm_min=24, tm_sec=0, tm_wday=0, tm_yday=79, tm_isdst=0)}, {'title': '위기의 제로페이…대형사 줄줄이 이탈', 'title_detail': {'type': 'text/plain', 'language': None, 'base': 'https://rss.etnews.com/02021.xml', 'value': '위기의 제로페이…대형사 줄줄이 이탈'}, 'links': [{'rel': 'alternate', 'type': 'text/html', 'href': 'https://www.etnews.com/20230320000180'}], 'link': 'https://www.etnews.com/20230320000180', 'summary': '간편결제 플랫폼 제로페이 진영에서 대형 제휴사 이탈이 잇따르고 있다. 서울사랑상품권 사업을 신한 컨소시엄에 넘긴 이후 운영이 어려워진 한국간편결제진흥원이 핀테크 제휴사에도 제로페이 플랫폼 이용료를 부...', 'summary_detail': {'type': 'text/html', 'language': None, 'base': 'https://rss.etnews.com/02021.xml', 'value': '간편결제 플랫폼 제로페이 진영에서 대형 제휴사 이탈이 잇따르고 있다. 서울사랑상품권 사업을 신한 컨소시엄에 넘긴 이후 운영이 어려워진 한국간편결제진흥원이 핀테크 제휴사에도 제로페이 플랫폼 이용료를 부...'}, 'authors': [{'name': '이형두'}], 'author': '이형두', 'author_detail': {'name': '이형두'}, 'id': 'https://rss.etnews.com/20230320000180', 'guidislink': False, 'comments': 'https://www.etnews.com/20230320000180#comments', 'published': 'Mon, 20 Mar 2023 14:41:00 +0900', 'published_parsed': time.struct_time(tm_year=2023, tm_mon=3, tm_mday=20, tm_hour=5, tm_min=41, tm_sec=0, tm_wday=0, tm_yday=79, tm_isdst=0)}, {'title': '[ET라씨로] 인천공항 면세점 후보 결정...호텔신라 등 강세', 'title_detail': {'type': 'text/plain', 'language': None, 'base': 'https://rss.etnews.com/02021.xml', 'value': '[ET라씨로] 인천공항 면세점 후보 결정...호텔신라 등 강세'}, 'links': [{'rel': 'alternate', 'type': 'text/html', 'href': 'https://www.etnews.com/20230320000092'}], 'link': 'https://www.etnews.com/20230320000092', 'summary': \"ET라씨로는 인공지능(AI) 기반으로 선별&middot;분석한 주식 정보와 종목 매매 신호를 제공하는 전자신문 증권 정보 애플리케이션입니다. 플레이스토어에서 'ET라씨로'(-&gt;바로가기)를 다운로드하면 IT기업 뉴스와\", 'summary_detail': {'type': 'text/html', 'language': None, 'base': 'https://rss.etnews.com/02021.xml', 'value': \"ET라씨로는 인공지능(AI) 기반으로 선별&middot;분석한 주식 정보와 종목 매매 신호를 제공하는 전자신문 증권 정보 애플리케이션입니다. 플레이스토어에서 'ET라씨로'(-&gt;바로가기)를 다운로드하면 IT기업 뉴스와\"}, 'authors': [{'name': '전자신문인터넷 양민하 기자'}], 'author': '전자신문인터넷 양민하 기자', 'author_detail': {'name': '전자신문인터넷 양민하 기자'}, 'id': 'https://rss.etnews.com/20230320000092', 'guidislink': False, 'comments': 'https://www.etnews.com/20230320000092#comments', 'published': 'Mon, 20 Mar 2023 11:15:00 +0900', 'published_parsed': time.struct_time(tm_year=2023, tm_mon=3, tm_mday=20, tm_hour=2, tm_min=15, tm_sec=0, tm_wday=0, tm_yday=79, tm_isdst=0)}, {'title': \"[ET라씨로] 큐렉소, 美 마이크로소프트와 'AI 수술 로봇' 개발 협력에 주가 오름세\", 'title_detail': {'type': 'text/plain', 'language': None, 'base': 'https://rss.etnews.com/02021.xml', 'value': \"[ET라씨로] 큐렉소, 美 마이크로소프트와 'AI 수술 로봇' 개발 협력에 주가 오름세\"}, 'links': [{'rel': 'alternate', 'type': 'text/html', 'href': 'https://www.etnews.com/20230320000042'}], 'link': 'https://www.etnews.com/20230320000042', 'summary': \"ET라씨로는 인공지능(AI) 기반으로 선별&middot;분석한 주식 정보와 종목 매매 신호를 제공하는 전자신문 증권 정보 애플리케이션입니다. 플레이스토어에서 'ET라씨로'(-&gt;바로가기)를 다운로드하면 IT기업 뉴스와\", 'summary_detail': {'type': 'text/html', 'language': None, 'base': 'https://rss.etnews.com/02021.xml', 'value': \"ET라씨로는 인공지능(AI) 기반으로 선별&middot;분석한 주식 정보와 종목 매매 신호를 제공하는 전자신문 증권 정보 애플리케이션입니다. 플레이스토어에서 'ET라씨로'(-&gt;바로가기)를 다운로드하면 IT기업 뉴스와\"}, 'authors': [{'name': '전자신문인터넷 서희원 기자'}], 'author': '전자신문인터넷 서희원 기자', 'author_detail': {'name': '전자신문인터넷 서희원 기자'}, 'id': 'https://rss.etnews.com/20230320000042', 'guidislink': False, 'comments': 'https://www.etnews.com/20230320000042#comments', 'published': 'Mon, 20 Mar 2023 09:35:00 +0900', 'published_parsed': time.struct_time(tm_year=2023, tm_mon=3, tm_mday=20, tm_hour=0, tm_min=35, tm_sec=0, tm_wday=0, tm_yday=79, tm_isdst=0)}, {'title': '[ET라씨로] 사우디 투자 기대감에…아스타 · 에스코넥 上', 'title_detail': {'type': 'text/plain', 'language': None, 'base': 'https://rss.etnews.com/02021.xml', 'value': '[ET라씨로] 사우디 투자 기대감에…아스타 · 에스코넥 上'}, 'links': [{'rel': 'alternate', 'type': 'text/html', 'href': 'https://www.etnews.com/20230320000036'}], 'link': 'https://www.etnews.com/20230320000036', 'summary': \"ET라씨로는 인공지능(AI) 기반으로 선별&middot;분석한 주식 정보와 종목 매매 신호를 제공하는 전자신문 증권 정보 애플리케이션입니다. 플레이스토어에서 'ET라씨로'(-&gt;바로가기)를 다운로드하면 IT기업 뉴스와\", 'summary_detail': {'type': 'text/html', 'language': None, 'base': 'https://rss.etnews.com/02021.xml', 'value': \"ET라씨로는 인공지능(AI) 기반으로 선별&middot;분석한 주식 정보와 종목 매매 신호를 제공하는 전자신문 증권 정보 애플리케이션입니다. 플레이스토어에서 'ET라씨로'(-&gt;바로가기)를 다운로드하면 IT기업 뉴스와\"}, 'authors': [{'name': '전자신문인터넷 서희원 기자'}], 'author': '전자신문인터넷 서희원 기자', 'author_detail': {'name': '전자신문인터넷 서희원 기자'}, 'id': 'https://rss.etnews.com/20230320000036', 'guidislink': False, 'comments': 'https://www.etnews.com/20230320000036#comments', 'published': 'Mon, 20 Mar 2023 09:30:00 +0900', 'published_parsed': time.struct_time(tm_year=2023, tm_mon=3, tm_mday=20, tm_hour=0, tm_min=30, tm_sec=0, tm_wday=0, tm_yday=79, tm_isdst=0)}, {'title': '[ET라씨로] 에코프로, 검찰·금융당국 압수수색...내부정보 주식거래 의혹', 'title_detail': {'type': 'text/plain', 'language': None, 'base': 'https://rss.etnews.com/02021.xml', 'value': '[ET라씨로] 에코프로, 검찰·금융당국 압수수색...내부정보 주식거래 의혹'}, 'links': [{'rel': 'alternate', 'type': 'text/html', 'href': 'https://www.etnews.com/20230320000034'}], 'link': 'https://www.etnews.com/20230320000034', 'summary': \"ET라씨로는 인공지능(AI) 기반으로 선별&middot;분석한 주식 정보와 종목 매매 신호를 제공하는 전자신문 증권 정보 애플리케이션입니다. 플레이스토어에서 'ET라씨로'(-&gt;바로가기)를 다운로드하면 IT기업 뉴스와\", 'summary_detail': {'type': 'text/html', 'language': None, 'base': 'https://rss.etnews.com/02021.xml', 'value': \"ET라씨로는 인공지능(AI) 기반으로 선별&middot;분석한 주식 정보와 종목 매매 신호를 제공하는 전자신문 증권 정보 애플리케이션입니다. 플레이스토어에서 'ET라씨로'(-&gt;바로가기)를 다운로드하면 IT기업 뉴스와\"}, 'authors': [{'name': '전자신문인터넷 양민하 기자'}], 'author': '전자신문인터넷 양민하 기자', 'author_detail': {'name': '전자신문인터넷 양민하 기자'}, 'id': 'https://rss.etnews.com/20230320000034', 'guidislink': False, 'comments': 'https://www.etnews.com/20230320000034#comments', 'published': 'Mon, 20 Mar 2023 09:20:00 +0900', 'published_parsed': time.struct_time(tm_year=2023, tm_mon=3, tm_mday=20, tm_hour=0, tm_min=20, tm_sec=0, tm_wday=0, tm_yday=79, tm_isdst=0)}, {'title': '산은, K-콘텐츠 지원 넥스트라운드 개최', 'title_detail': {'type': 'text/plain', 'language': None, 'base': 'https://rss.etnews.com/02021.xml', 'value': '산은, K-콘텐츠 지원 넥스트라운드 개최'}, 'links': [{'rel': 'alternate', 'type': 'text/html', 'href': 'https://www.etnews.com/20230320000024'}], 'link': 'https://www.etnews.com/20230320000024', 'summary': 'KDB산업은행은 시장형 벤처투자플랫폼 KDB 넥스트라운드의 K-콘텐츠산업 스페셜라운드를 지난 17일 산업은행 본점 IR센터에서 개최했다고 20일 밝혔다. 이번 스페셜라운드는 산업은행의 올해 주요 업무계획중 하나...', 'summary_detail': {'type': 'text/html', 'language': None, 'base': 'https://rss.etnews.com/02021.xml', 'value': 'KDB산업은행은 시장형 벤처투자플랫폼 KDB 넥스트라운드의 K-콘텐츠산업 스페셜라운드를 지난 17일 산업은행 본점 IR센터에서 개최했다고 20일 밝혔다. 이번 스페셜라운드는 산업은행의 올해 주요 업무계획중 하나...'}, 'authors': [{'name': '배옥진'}], 'author': '배옥진', 'author_detail': {'name': '배옥진'}, 'id': 'https://rss.etnews.com/20230320000024', 'guidislink': False, 'comments': 'https://www.etnews.com/20230320000024#comments', 'published': 'Mon, 20 Mar 2023 09:17:00 +0900', 'published_parsed': time.struct_time(tm_year=2023, tm_mon=3, tm_mday=20, tm_hour=0, tm_min=17, tm_sec=0, tm_wday=0, tm_yday=79, tm_isdst=0)}, {'title': \"'업비트 독주' 흔들… 빗썸·코인원 맹추격\", 'title_detail': {'type': 'text/plain', 'language': None, 'base': 'https://rss.etnews.com/02021.xml', 'value': \"'업비트 독주' 흔들… 빗썸·코인원 맹추격\"}, 'links': [{'rel': 'alternate', 'type': 'text/html', 'href': 'https://www.etnews.com/20230317000169'}], 'link': 'https://www.etnews.com/20230317000169', 'summary': '국내 원화마켓 거래소 시장에서 1위 사업자 업비트의 독주 구도가 흔들리고 있다. 업비트가 주춤한 사이 2위 빗썸과 3위 코인원이 치고 나오며 점유율 비중을 늘려가는 모습을 보인다. 가상자산분석사이트 코인마켓...', 'summary_detail': {'type': 'text/html', 'language': None, 'base': 'https://rss.etnews.com/02021.xml', 'value': '국내 원화마켓 거래소 시장에서 1위 사업자 업비트의 독주 구도가 흔들리고 있다. 업비트가 주춤한 사이 2위 빗썸과 3위 코인원이 치고 나오며 점유율 비중을 늘려가는 모습을 보인다. 가상자산분석사이트 코인마켓...'}, 'authors': [{'name': '이형두'}], 'author': '이형두', 'author_detail': {'name': '이형두'}, 'id': 'https://rss.etnews.com/20230317000169', 'guidislink': False, 'comments': 'https://www.etnews.com/20230317000169#comments', 'published': 'Sun, 19 Mar 2023 15:00:00 +0900', 'published_parsed': time.struct_time(tm_year=2023, tm_mon=3, tm_mday=19, tm_hour=6, tm_min=0, tm_sec=0, tm_wday=6, tm_yday=78, tm_isdst=0)}, {'title': \"국내 가상자산거래소, 지난해 하반기 영업이익 '80%' 감소\", 'title_detail': {'type': 'text/plain', 'language': None, 'base': 'https://rss.etnews.com/02021.xml', 'value': \"국내 가상자산거래소, 지난해 하반기 영업이익 '80%' 감소\"}, 'links': [{'rel': 'alternate', 'type': 'text/html', 'href': 'https://www.etnews.com/20230319000051'}], 'link': 'https://www.etnews.com/20230319000051', 'summary': '금융위원회 금융정보분석원(FIU)는 국내 가상자산시장 현황 파악을 위해 신고된 36개 사업자에 대한 2022년 하반기 실태조사를 실시했다고 19일 밝혔다. 이번 조사에 따르면 지난해 하반기 국내 가상자산 시장은...', 'summary_detail': {'type': 'text/html', 'language': None, 'base': 'https://rss.etnews.com/02021.xml', 'value': '금융위원회 금융정보분석원(FIU)는 국내 가상자산시장 현황 파악을 위해 신고된 36개 사업자에 대한 2022년 하반기 실태조사를 실시했다고 19일 밝혔다. 이번 조사에 따르면 지난해 하반기 국내 가상자산 시장은...'}, 'authors': [{'name': '이형두'}], 'author': '이형두', 'author_detail': {'name': '이형두'}, 'id': 'https://rss.etnews.com/20230319000051', 'guidislink': False, 'comments': 'https://www.etnews.com/20230319000051#comments', 'published': 'Sun, 19 Mar 2023 12:00:00 +0900', 'published_parsed': time.struct_time(tm_year=2023, tm_mon=3, tm_mday=19, tm_hour=3, tm_min=0, tm_sec=0, tm_wday=6, tm_yday=78, tm_isdst=0)}, {'title': \"[ET라씨로] 삼성전자가 또 산 '레인보우로보틱스', 전날 상한가 이어 18% 오름세\", 'title_detail': {'type': 'text/plain', 'language': None, 'base': 'https://rss.etnews.com/02021.xml', 'value': \"[ET라씨로] 삼성전자가 또 산 '레인보우로보틱스', 전날 상한가 이어 18% 오름세\"}, 'links': [{'rel': 'alternate', 'type': 'text/html', 'href': 'https://www.etnews.com/20230317000021'}], 'link': 'https://www.etnews.com/20230317000021', 'summary': \"ET라씨로는 인공지능(AI) 기반으로 선별&middot;분석한 주식 정보와 종목 매매 신호를 제공하는 전자신문 증권 정보 애플리케이션입니다. 플레이스토어에서 'ET라씨로'(-&gt;바로가기)를 다운로드하면 IT기업 뉴스와\", 'summary_detail': {'type': 'text/html', 'language': None, 'base': 'https://rss.etnews.com/02021.xml', 'value': \"ET라씨로는 인공지능(AI) 기반으로 선별&middot;분석한 주식 정보와 종목 매매 신호를 제공하는 전자신문 증권 정보 애플리케이션입니다. 플레이스토어에서 'ET라씨로'(-&gt;바로가기)를 다운로드하면 IT기업 뉴스와\"}, 'authors': [{'name': '전자신문인터넷 서희원 기자'}], 'author': '전자신문인터넷 서희원 기자', 'author_detail': {'name': '전자신문인터넷 서희원 기자'}, 'id': 'https://rss.etnews.com/20230317000021', 'guidislink': False, 'comments': 'https://www.etnews.com/20230317000021#comments', 'published': 'Fri, 17 Mar 2023 09:30:00 +0900', 'published_parsed': time.struct_time(tm_year=2023, tm_mon=3, tm_mday=17, tm_hour=0, tm_min=30, tm_sec=0, tm_wday=4, tm_yday=76, tm_isdst=0)}, {'title': \"[ET라씨로] 대기업 미래먹거리 '로봇'…뉴로메카, 장초반 급등\", 'title_detail': {'type': 'text/plain', 'language': None, 'base': 'https://rss.etnews.com/02021.xml', 'value': \"[ET라씨로] 대기업 미래먹거리 '로봇'…뉴로메카, 장초반 급등\"}, 'links': [{'rel': 'alternate', 'type': 'text/html', 'href': 'https://www.etnews.com/20230317000018'}], 'link': 'https://www.etnews.com/20230317000018', 'summary': \"ET라씨로는 인공지능(AI) 기반으로 선별&middot;분석한 주식 정보와 종목 매매 신호를 제공하는 전자신문 증권 정보 애플리케이션입니다. 플레이스토어에서 'ET라씨로'(-&gt;바로가기)를 다운로드하면 IT기업 뉴스와\", 'summary_detail': {'type': 'text/html', 'language': None, 'base': 'https://rss.etnews.com/02021.xml', 'value': \"ET라씨로는 인공지능(AI) 기반으로 선별&middot;분석한 주식 정보와 종목 매매 신호를 제공하는 전자신문 증권 정보 애플리케이션입니다. 플레이스토어에서 'ET라씨로'(-&gt;바로가기)를 다운로드하면 IT기업 뉴스와\"}, 'authors': [{'name': '전자신문인터넷 서희원 기자'}], 'author': '전자신문인터넷 서희원 기자', 'author_detail': {'name': '전자신문인터넷 서희원 기자'}, 'id': 'https://rss.etnews.com/20230317000018', 'guidislink': False, 'comments': 'https://www.etnews.com/20230317000018#comments', 'published': 'Fri, 17 Mar 2023 09:25:00 +0900', 'published_parsed': time.struct_time(tm_year=2023, tm_mon=3, tm_mday=17, tm_hour=0, tm_min=25, tm_sec=0, tm_wday=4, tm_yday=76, tm_isdst=0)}, {'title': 'DCON 2023 학술 콘퍼런스 성료…두나무·서울대 등 참여', 'title_detail': {'type': 'text/plain', 'language': None, 'base': 'https://rss.etnews.com/02021.xml', 'value': 'DCON 2023 학술 콘퍼런스 성료…두나무·서울대 등 참여'}, 'links': [{'rel': 'alternate', 'type': 'text/html', 'href': 'https://www.etnews.com/20230316000245'}], 'link': 'https://www.etnews.com/20230316000245', 'summary': '두나무는 한국경제법학회, 서울대학교 한국경제혁신센터와 함께 서울 여의도 콘래드서울에서 디콘(DCON) 2023: 건전한 시장 조성을 위한 디지털자산 콘퍼런스를 개최했다고 16일 밝혔다. 디콘은 디지털자산 콘퍼런...', 'summary_detail': {'type': 'text/html', 'language': None, 'base': 'https://rss.etnews.com/02021.xml', 'value': '두나무는 한국경제법학회, 서울대학교 한국경제혁신센터와 함께 서울 여의도 콘래드서울에서 디콘(DCON) 2023: 건전한 시장 조성을 위한 디지털자산 콘퍼런스를 개최했다고 16일 밝혔다. 디콘은 디지털자산 콘퍼런...'}, 'authors': [{'name': '이형두'}], 'author': '이형두', 'author_detail': {'name': '이형두'}, 'id': 'https://rss.etnews.com/20230316000245', 'guidislink': False, 'comments': 'https://www.etnews.com/20230316000245#comments', 'published': 'Thu, 16 Mar 2023 15:49:00 +0900', 'published_parsed': time.struct_time(tm_year=2023, tm_mon=3, tm_mday=16, tm_hour=6, tm_min=49, tm_sec=0, tm_wday=3, tm_yday=75, tm_isdst=0)}, {'title': '코인플러그, 공무원연금공단에 모바일 사원증 시스템 구축', 'title_detail': {'type': 'text/plain', 'language': None, 'base': 'https://rss.etnews.com/02021.xml', 'value': '코인플러그, 공무원연금공단에 모바일 사원증 시스템 구축'}, 'links': [{'rel': 'alternate', 'type': 'text/html', 'href': 'https://www.etnews.com/20230316000242'}], 'link': 'https://www.etnews.com/20230316000242', 'summary': '블록체인 전문기업 코인플러그(대표 어준선)는 모바일 사원증 시스템 메타패스를 공무원연금공단에 구축 완료했다고 16일 밝혔다. 블록체인 분산신원증명(DID) 기반 모바일 사원증 메타패스는 한국인터넷진흥원을...', 'summary_detail': {'type': 'text/html', 'language': None, 'base': 'https://rss.etnews.com/02021.xml', 'value': '블록체인 전문기업 코인플러그(대표 어준선)는 모바일 사원증 시스템 메타패스를 공무원연금공단에 구축 완료했다고 16일 밝혔다. 블록체인 분산신원증명(DID) 기반 모바일 사원증 메타패스는 한국인터넷진흥원을...'}, 'authors': [{'name': '이형두'}], 'author': '이형두', 'author_detail': {'name': '이형두'}, 'id': 'https://rss.etnews.com/20230316000242', 'guidislink': False, 'comments': 'https://www.etnews.com/20230316000242#comments', 'published': 'Thu, 16 Mar 2023 15:39:00 +0900', 'published_parsed': time.struct_time(tm_year=2023, tm_mon=3, tm_mday=16, tm_hour=6, tm_min=39, tm_sec=0, tm_wday=3, tm_yday=75, tm_isdst=0)}, {'title': \"두바이 자유무역지대, K-블록체인 기업 '러브콜'\", 'title_detail': {'type': 'text/plain', 'language': None, 'base': 'https://rss.etnews.com/02021.xml', 'value': \"두바이 자유무역지대, K-블록체인 기업 '러브콜'\"}, 'links': [{'rel': 'alternate', 'type': 'text/html', 'href': 'https://www.etnews.com/20230316000204'}], 'link': 'https://www.etnews.com/20230316000204', 'summary': '2만2000여개 기업이 입주한 아랍에미리트(UAE) 최대 규모 프리존 두바이복합상품거래소(DMCC)가 한국 기업 유치에 나섰다. 아흐메드 빈 술레얌 DMCC 의장이 직접 한국을 방문해 양국 상호 기업 진출을 적극 지원하...', 'summary_detail': {'type': 'text/html', 'language': None, 'base': 'https://rss.etnews.com/02021.xml', 'value': '2만2000여개 기업이 입주한 아랍에미리트(UAE) 최대 규모 프리존 두바이복합상품거래소(DMCC)가 한국 기업 유치에 나섰다. 아흐메드 빈 술레얌 DMCC 의장이 직접 한국을 방문해 양국 상호 기업 진출을 적극 지원하...'}, 'authors': [{'name': '이형두'}], 'author': '이형두', 'author_detail': {'name': '이형두'}, 'id': 'https://rss.etnews.com/20230316000204', 'guidislink': False, 'comments': 'https://www.etnews.com/20230316000204#comments', 'published': 'Thu, 16 Mar 2023 14:35:00 +0900', 'published_parsed': time.struct_time(tm_year=2023, tm_mon=3, tm_mday=16, tm_hour=5, tm_min=35, tm_sec=0, tm_wday=3, tm_yday=75, tm_isdst=0)}, {'title': \"금보원, 23일 '금융분야 설명가능 인공지능 세미나' 개최\", 'title_detail': {'type': 'text/plain', 'language': None, 'base': 'https://rss.etnews.com/02021.xml', 'value': \"금보원, 23일 '금융분야 설명가능 인공지능 세미나' 개최\"}, 'links': [{'rel': 'alternate', 'type': 'text/html', 'href': 'https://www.etnews.com/20230316000125'}], 'link': 'https://www.etnews.com/20230316000125', 'summary': '금융보안원은 오는 23일 서울 여의도 금투센터에서 안전하고 공정한 인공지능(AI) 활용을 위해 금융분야 설명가능한 인공지능(XAI) 세미나를 개최한다고 16일 밝혔다. 이번 세미나에서는 각 분야 전문가들이 설명...', 'summary_detail': {'type': 'text/html', 'language': None, 'base': 'https://rss.etnews.com/02021.xml', 'value': '금융보안원은 오는 23일 서울 여의도 금투센터에서 안전하고 공정한 인공지능(AI) 활용을 위해 금융분야 설명가능한 인공지능(XAI) 세미나를 개최한다고 16일 밝혔다. 이번 세미나에서는 각 분야 전문가들이 설명...'}, 'authors': [{'name': '배옥진'}], 'author': '배옥진', 'author_detail': {'name': '배옥진'}, 'id': 'https://rss.etnews.com/20230316000125', 'guidislink': False, 'comments': 'https://www.etnews.com/20230316000125#comments', 'published': 'Thu, 16 Mar 2023 12:49:00 +0900', 'published_parsed': time.struct_time(tm_year=2023, tm_mon=3, tm_mday=16, tm_hour=3, tm_min=49, tm_sec=0, tm_wday=3, tm_yday=75, tm_isdst=0)}]\n",
            "-------------\n",
            "{'title': \"[ET라씨로] '전기차 100만대분' 엘앤에프, 양극재 신공장 건설에 주가 '쑤욱'\", 'title_detail': {'type': 'text/plain', 'language': None, 'base': 'https://rss.etnews.com/02021.xml', 'value': \"[ET라씨로] '전기차 100만대분' 엘앤에프, 양극재 신공장 건설에 주가 '쑤욱'\"}, 'links': [{'rel': 'alternate', 'type': 'text/html', 'href': 'https://www.etnews.com/20230327000026'}], 'link': 'https://www.etnews.com/20230327000026', 'summary': \"ET라씨로는 인공지능(AI) 기반으로 선별&middot;분석한 주식 정보와 종목 매매 신호를 제공하는 전자신문 증권 정보 애플리케이션입니다. 플레이스토어에서 'ET라씨로'(-&gt;바로가기)를 다운로드하면 IT기업 뉴스와\", 'summary_detail': {'type': 'text/html', 'language': None, 'base': 'https://rss.etnews.com/02021.xml', 'value': \"ET라씨로는 인공지능(AI) 기반으로 선별&middot;분석한 주식 정보와 종목 매매 신호를 제공하는 전자신문 증권 정보 애플리케이션입니다. 플레이스토어에서 'ET라씨로'(-&gt;바로가기)를 다운로드하면 IT기업 뉴스와\"}, 'authors': [{'name': '전자신문인터넷 서희원 기자'}], 'author': '전자신문인터넷 서희원 기자', 'author_detail': {'name': '전자신문인터넷 서희원 기자'}, 'id': 'https://rss.etnews.com/20230327000026', 'guidislink': False, 'comments': 'https://www.etnews.com/20230327000026#comments', 'published': 'Mon, 27 Mar 2023 09:35:00 +0900', 'published_parsed': time.struct_time(tm_year=2023, tm_mon=3, tm_mday=27, tm_hour=0, tm_min=35, tm_sec=0, tm_wday=0, tm_yday=86, tm_isdst=0)}\n",
            "-------------\n",
            "[ET라씨로] '전기차 100만대분' 엘앤에프, 양극재 신공장 건설에 주가 '쑤욱'\n"
          ]
        }
      ]
    },
    {
      "cell_type": "markdown",
      "source": [
        "위의 예시에서, feedparser.parse() 함수를 사용하여 RSS 피드를 파싱하고, feed.feed 속성을 사용하여 피드의 메타데이터 정보를 가져옵니다. 또한, entries 속성을 사용하여 각 항목의 정보를 가져올 수 있습니다. 각 항목은 title, link, description, published 등의 속성을 가지고 있습니다.\n",
        "\n",
        "feedparser는 다양한 파라미터를 사용하여 RSS 피드를 커스터마이징할 수 있습니다. 예를 들어, etag와 modified 파라미터를 사용하여 캐시된 피드를 업데이트할 수 있습니다. 또한, sanitize_html 파라미터를 사용하여 HTML을 자동으로 정리할 수 있습니다."
      ],
      "metadata": {
        "id": "Chk-6Nktnisd"
      }
    },
    {
      "cell_type": "markdown",
      "source": [
        "dict는 파이썬에서 제공하는 내장 자료형 중 하나로, 키-값 쌍으로 이루어진 매핑 자료형입니다. dict는 가변(mutable) 자료형이며, {} 기호를 사용하여 생성할 수 있습니다. 다음은 dict를 사용한 예시입니다."
      ],
      "metadata": {
        "id": "n7inhXh1nxYe"
      }
    },
    {
      "cell_type": "code",
      "source": [
        "# 빈 딕셔너리 생성\n",
        "empty_dict = {}\n",
        "\n",
        "# 키-값 쌍으로 딕셔너리 생성\n",
        "person = {'name': 'Alice', 'age': 25, 'gender': 'female'}\n",
        "\n",
        "# 딕셔너리 요소 접근\n",
        "print(person['name'])  # 'Alice'\n",
        "\n",
        "# 새로운 키-값 쌍 추가\n",
        "person['city'] = 'New York'\n",
        "\n",
        "# 딕셔너리 요소 삭제\n",
        "del person['gender']\n",
        "\n",
        "# 딕셔너리 순회\n",
        "for key, value in person.items():\n",
        "    print(key, value)"
      ],
      "metadata": {
        "id": "C0uLrKC4nzK5"
      },
      "execution_count": null,
      "outputs": []
    },
    {
      "cell_type": "markdown",
      "source": [
        "위의 예시에서, {} 기호를 사용하여 빈 딕셔너리를 생성하고, 키-값 쌍으로 딕셔너리를 생성합니다. 딕셔너리는 [] 기호를 사용하여 특정 키에 해당하는 값을 접근할 수 있으며, del 키워드를 사용하여 특정 키-값 쌍을 삭제할 수 있습니다. 또한, items() 메서드를 사용하여 딕셔너리를 순회할 수 있습니다.\n",
        "\n",
        "dict는 해시 테이블(hash table)을 사용하여 키-값 쌍을 저장하므로, 매우 빠른 검색 속도를 가지고 있습니다. 따라서, 특정 키-값 쌍을 검색하거나 수정할 때 매우 유용하게 사용됩니다."
      ],
      "metadata": {
        "id": "OZ2ZvCUPn2XN"
      }
    },
    {
      "cell_type": "code",
      "source": [
        "aaa = {'apple' : 1000, 'banana' : 200, 'orange' : 3000, 777 : 'unknown'}\n",
        "print(type(aaa))\n",
        "print(aaa.items())\n",
        "bbb = aaa.items()\n",
        "print(bbb)\n",
        "print(type(bbb))\n",
        "print(aaa.keys())\n",
        "print(aaa.values())\n",
        "\n",
        "print(aaa['apple'])\n",
        "print(aaa[777])\n",
        "aaa['book'] = 5000\n",
        "print(aaa)\n",
        "aaa['banana']=500\n",
        "print(aaa)\n",
        "\n",
        "print(aaa.get('vv'))\n",
        "# print(aaa['vv'])\n",
        "print(aaa['banana'])\n",
        "print(aaa.get('banana'))"
      ],
      "metadata": {
        "colab": {
          "base_uri": "https://localhost:8080/"
        },
        "id": "nIG9oVfioEdI",
        "outputId": "3eaf1043-9c00-4894-a9d6-9e607214688c"
      },
      "execution_count": null,
      "outputs": [
        {
          "output_type": "stream",
          "name": "stdout",
          "text": [
            "<class 'dict'>\n",
            "dict_items([('apple', 1000), ('banana', 200), ('orange', 3000), (777, 'unknown')])\n",
            "dict_items([('apple', 1000), ('banana', 200), ('orange', 3000), (777, 'unknown')])\n",
            "<class 'dict_items'>\n",
            "dict_keys(['apple', 'banana', 'orange', 777])\n",
            "dict_values([1000, 200, 3000, 'unknown'])\n",
            "1000\n",
            "unknown\n",
            "{'apple': 1000, 'banana': 200, 'orange': 3000, 777: 'unknown', 'book': 5000}\n",
            "{'apple': 1000, 'banana': 500, 'orange': 3000, 777: 'unknown', 'book': 5000}\n",
            "None\n",
            "500\n",
            "500\n"
          ]
        }
      ]
    },
    {
      "cell_type": "markdown",
      "source": [
        "파이썬에서 \"set\"은 중복되지 않는 값들의 컬렉션입니다. \"set\"은 중괄호({}) 안에 쉼표로 구분된 값들의 리스트로 정의됩니다. 예를 들어, 다음과 같이 정의된 \"set\"은 1, 2, 3을 포함합니다:"
      ],
      "metadata": {
        "id": "P_H8SdWsyzPl"
      }
    },
    {
      "cell_type": "code",
      "source": [
        "my_set = {1, 2, 3}"
      ],
      "metadata": {
        "id": "NRHaVzcbz9Tf"
      },
      "execution_count": null,
      "outputs": []
    },
    {
      "cell_type": "markdown",
      "source": [
        "\"set\"은 중복되지 않는 값만 포함할 수 있기 때문에, 같은 값이 여러 번 나타나면 자동으로 중복을 제거합니다. 예를 들어, 다음과 같이 중복된 값을 포함하는 \"set\"을 정의해도 중복은 제거됩니다:"
      ],
      "metadata": {
        "id": "fkKVI2xf0BuU"
      }
    },
    {
      "cell_type": "code",
      "source": [
        "my_set = {1, 2, 2, 3, 3, 3}\n",
        "print(my_set) # 출력: {1, 2, 3}"
      ],
      "metadata": {
        "id": "25jiybu10DEN"
      },
      "execution_count": null,
      "outputs": []
    },
    {
      "cell_type": "markdown",
      "source": [
        "\"set\"은 리스트나 튜플과 같은 다른 시퀀스 타입을 \"set\"으로 변환할 수 있습니다. 이를 위해서는 \"set()\" 함수를 사용합니다. 예를 들어, 다음과 같이 리스트를 \"set\"으로 변환할 수 있습니다:"
      ],
      "metadata": {
        "id": "BD_W26ef0Elc"
      }
    },
    {
      "cell_type": "code",
      "source": [
        "set1 = {1, 2, 3}\n",
        "set2 = {3, 4, 5}\n",
        "union_set = set1.union(set2)\n",
        "print(union_set) # 출력: {1, 2, 3, 4, 5}"
      ],
      "metadata": {
        "id": "UYXLaZwq0FwF"
      },
      "execution_count": null,
      "outputs": []
    },
    {
      "cell_type": "markdown",
      "source": [
        "\"set\"은 항목을 추가하거나 제거할 수도 있습니다."
      ],
      "metadata": {
        "id": "C6RsfmlX0IVC"
      }
    },
    {
      "cell_type": "code",
      "source": [
        "# set 생성\n",
        "my_set = {1, 2, 3, 4, 5, 3}\n",
        "\n",
        "# set 출력\n",
        "print(my_set) \n",
        "\n",
        "# create a set from a list\n",
        "# my_list = [1, 2, 3, 4, 5]\n",
        "# my_set = set(my_list)\n",
        "\n",
        "# set에 항목 추가\n",
        "my_set.add(6)\n",
        "\n",
        "# set에서 항목 제거\n",
        "my_set.remove(2)\n",
        "\n",
        "# set 출력\n",
        "print(my_set) "
      ],
      "metadata": {
        "colab": {
          "base_uri": "https://localhost:8080/"
        },
        "id": "_IQoqETjy1d3",
        "outputId": "3c05006e-1b1c-4986-8fea-1e45b912202b"
      },
      "execution_count": 27,
      "outputs": [
        {
          "output_type": "stream",
          "name": "stdout",
          "text": [
            "{1, 2, 3, 4, 5}\n",
            "{1, 3, 4, 5, 6}\n"
          ]
        }
      ]
    },
    {
      "cell_type": "markdown",
      "source": [
        "파이썬에서 \"str\"은 문자열을 나타내는 타입입니다. 문자열은 따옴표로 묶인 문자들의 시퀀스입니다. 예를 들어, 다음과 같이 문자열을 정의할 수 있습니다:"
      ],
      "metadata": {
        "id": "ovOXWKFN0ULj"
      }
    },
    {
      "cell_type": "code",
      "source": [
        "my_str = \"Hello, World!\""
      ],
      "metadata": {
        "id": "xp8-sT_90gHe"
      },
      "execution_count": null,
      "outputs": []
    },
    {
      "cell_type": "markdown",
      "source": [
        "파이썬에서는 큰따옴표나 작은따옴표를 모두 사용하여 문자열을 정의할 수 있습니다. 다음은 큰따옴표를 사용한 문자열 정의 예시입니다:"
      ],
      "metadata": {
        "id": "CSr50KfR0hA0"
      }
    },
    {
      "cell_type": "code",
      "source": [
        "my_str1 = \"This is a string\""
      ],
      "metadata": {
        "id": "IlUBV8AX0iAd"
      },
      "execution_count": null,
      "outputs": []
    },
    {
      "cell_type": "markdown",
      "source": [
        "작은따옴표를 사용한 문자열 정의 예시입니다:"
      ],
      "metadata": {
        "id": "hQBUJ4KQ0jQG"
      }
    },
    {
      "cell_type": "code",
      "source": [
        "my_str2 = 'This is also a string'"
      ],
      "metadata": {
        "id": "F5agg6Mt0j_Q"
      },
      "execution_count": null,
      "outputs": []
    },
    {
      "cell_type": "markdown",
      "source": [
        "문자열은 인덱싱과 슬라이싱을 지원합니다. 인덱싱은 문자열에서 특정 위치에 있는 문자를 선택하는 것이고, 슬라이싱은 문자열에서 일부분을 선택하는 것입니다. 예를 들어, 다음과 같이 문자열의 첫 번째 문자를 선택할 수 있습니다:"
      ],
      "metadata": {
        "id": "UQrOIMr_0pGr"
      }
    },
    {
      "cell_type": "code",
      "source": [
        "my_str = \"Hello, World!\"\n",
        "first_char = my_str[0]\n",
        "print(first_char) # 출력: 'H'"
      ],
      "metadata": {
        "id": "f-qL3Wh90qML"
      },
      "execution_count": null,
      "outputs": []
    },
    {
      "cell_type": "markdown",
      "source": [
        "또한, 다음과 같이 문자열의 일부분을 슬라이싱할 수 있습니다:"
      ],
      "metadata": {
        "id": "81MQtX7e0rUG"
      }
    },
    {
      "cell_type": "code",
      "source": [
        "my_str = \"Hello, World!\"\n",
        "substring = my_str[0:5]\n",
        "print(substring) # 출력: 'Hello'"
      ],
      "metadata": {
        "id": "iNa2UCFP0rya"
      },
      "execution_count": null,
      "outputs": []
    },
    {
      "cell_type": "markdown",
      "source": [
        "문자열은 불변(immutable) 타입입니다. 이는 한 번 생성된 문자열은 변경될 수 없음을 의미합니다. 따라서 문자열을 변경하려면 새로운 문자열을 생성해야 합니다. 이러한 이유로 문자열을 수정하는 작업이 자주 일어나는 경우에는 리스트나 다른 가변(mutable) 타입을 사용하는 것이 더 적합합니다."
      ],
      "metadata": {
        "id": "ZC9puPnb0sqN"
      }
    },
    {
      "cell_type": "markdown",
      "source": [
        "파이썬에서 문자열 타입(str)은 여러 가지 메소드(method)를 가지고 있습니다. 문자열 메소드는 문자열에 대해 수행되는 작업을 쉽게 수행할 수 있도록 도와줍니다. 다음은 일부 문자열 메소드의 예시입니다:\n",
        "\n",
        "upper(): 문자열의 모든 알파벳을 대문자로 변환합니다."
      ],
      "metadata": {
        "id": "BRzQPG771LAp"
      }
    },
    {
      "cell_type": "code",
      "source": [
        "my_str = \"Hello, World!\"\n",
        "new_str = my_str.upper()\n",
        "print(new_str) # 출력: \"HELLO, WORLD!\""
      ],
      "metadata": {
        "id": "BoBt5x1D1LsN"
      },
      "execution_count": null,
      "outputs": []
    },
    {
      "cell_type": "markdown",
      "source": [
        "lower(): 문자열의 모든 알파벳을 소문자로 변환합니다."
      ],
      "metadata": {
        "id": "n-fuxR2Z1NBa"
      }
    },
    {
      "cell_type": "code",
      "source": [
        "my_str = \"Hello, World!\"\n",
        "new_str = my_str.lower()\n",
        "print(new_str) # 출력: \"hello, world!\""
      ],
      "metadata": {
        "id": "pHt1poBd1NlZ"
      },
      "execution_count": null,
      "outputs": []
    },
    {
      "cell_type": "markdown",
      "source": [
        "strip(): 문자열의 앞과 뒤에 있는 모든 공백을 제거합니다."
      ],
      "metadata": {
        "id": "PKF5Nqgq1OCX"
      }
    },
    {
      "cell_type": "code",
      "source": [
        "my_str = \"  Hello, World!  \"\n",
        "new_str = my_str.strip()\n",
        "print(new_str) # 출력: \"Hello, World!\""
      ],
      "metadata": {
        "id": "V2EfJUAl1QPJ"
      },
      "execution_count": null,
      "outputs": []
    },
    {
      "cell_type": "markdown",
      "source": [
        "split(): 문자열을 지정된 구분자(separator)로 나눕니다. 기본적으로 구분자는 공백입니다."
      ],
      "metadata": {
        "id": "EZGrHcqK1TTP"
      }
    },
    {
      "cell_type": "code",
      "source": [
        "my_str = \"Hello, World!\"\n",
        "split_str = my_str.split(\",\")\n",
        "print(split_str) # 출력: [\"Hello\", \" World!\"]"
      ],
      "metadata": {
        "id": "b1l0gKGu1T-L"
      },
      "execution_count": null,
      "outputs": []
    },
    {
      "cell_type": "markdown",
      "source": [
        "replace(): 문자열에서 특정 문자열을 다른 문자열로 교체합니다."
      ],
      "metadata": {
        "id": "bwoJDhup1VDj"
      }
    },
    {
      "cell_type": "code",
      "source": [
        "my_str = \"Hello, World!\"\n",
        "new_str = my_str.replace(\"World\", \"Python\")\n",
        "print(new_str) # 출력: \"Hello, Python!\""
      ],
      "metadata": {
        "id": "FbABNTjJ1WQx"
      },
      "execution_count": null,
      "outputs": []
    },
    {
      "cell_type": "markdown",
      "source": [
        "join(): 문자열 리스트를 지정된 문자열로 결합합니다."
      ],
      "metadata": {
        "id": "eUKTo5XS1YAq"
      }
    },
    {
      "cell_type": "code",
      "source": [
        "my_list = [\"apple\", \"banana\", \"cherry\"]\n",
        "my_str = \", \".join(my_list)\n",
        "print(my_str) # 출력: \"apple, banana, cherry\""
      ],
      "metadata": {
        "colab": {
          "base_uri": "https://localhost:8080/"
        },
        "id": "VHEp21DQ1Y-B",
        "outputId": "7e7afefc-11e7-4319-bb61-18eef7a49368"
      },
      "execution_count": 32,
      "outputs": [
        {
          "output_type": "stream",
          "name": "stdout",
          "text": [
            "apple, banana, cherry\n"
          ]
        }
      ]
    },
    {
      "cell_type": "markdown",
      "source": [
        "find(): 문자열에서 문자의 index값을 출력합니다."
      ],
      "metadata": {
        "id": "2p19GFog7IRz"
      }
    },
    {
      "cell_type": "code",
      "source": [
        "my_str = \"Hello, World!\"\n",
        "new_str = my_str.find(\"W\")\n",
        "print(new_str) # 출력: 7"
      ],
      "metadata": {
        "colab": {
          "base_uri": "https://localhost:8080/"
        },
        "id": "-U2g5JkI7OUi",
        "outputId": "cbc6d0e0-e172-41bf-dc5a-3a8ce656ddea"
      },
      "execution_count": 53,
      "outputs": [
        {
          "output_type": "stream",
          "name": "stdout",
          "text": [
            "7\n"
          ]
        }
      ]
    },
    {
      "cell_type": "code",
      "source": [
        "my_str = \"Hello, world!\"\n",
        "\n",
        "#int float str list tuple dict set\n",
        "print(type(my_str)) #<class 'str>\n",
        "print(list(my_str))\n",
        "\n",
        "my_str=\"   Hello,\\\n",
        "world!\\\n",
        "\"\n",
        "print(type(my_str)) #<class 'str>\n",
        "print(list(my_str))\n",
        "\n",
        "my_str=\"\"\"   Hello,\n",
        "world!\n",
        "\n",
        "\n",
        "\"\"\"\n",
        "print(type(my_str)) #<class 'str>\n",
        "print(list(my_str))\n",
        "\n",
        "length=len(my_str)\n",
        "print(length) # 출력 결과 : 13"
      ],
      "metadata": {
        "colab": {
          "base_uri": "https://localhost:8080/"
        },
        "id": "gtUXj-XH1a57",
        "outputId": "f7291888-5279-4a5a-f50f-6d14ba1d3764"
      },
      "execution_count": 37,
      "outputs": [
        {
          "output_type": "stream",
          "name": "stdout",
          "text": [
            "<class 'str'>\n",
            "['H', 'e', 'l', 'l', 'o', ',', ' ', 'w', 'o', 'r', 'l', 'd', '!']\n",
            "<class 'str'>\n",
            "[' ', ' ', ' ', 'H', 'e', 'l', 'l', 'o', ',', 'w', 'o', 'r', 'l', 'd', '!']\n",
            "<class 'str'>\n",
            "[' ', ' ', ' ', 'H', 'e', 'l', 'l', 'o', ',', '\\n', 'w', 'o', 'r', 'l', 'd', '!', '\\n', '\\n', '\\n']\n",
            "19\n"
          ]
        }
      ]
    },
    {
      "cell_type": "code",
      "source": [
        "my_str=\"Hello, world!\"\n",
        "aaa = my_str.split(\" \")\n",
        "print(aaa)\n",
        "\n",
        "my_str = \"  Hello, World!  \"\n",
        "aaa = my_str.strip()\n",
        "print(aaa) # 출력: \"Hello, World!\"\n",
        "\n",
        "my_str = \"Hello, World!\"\n",
        "aaa = my_str.replace(\"World\", \"Python\")\n",
        "print(aaa) # 출력: \"Hello, Python!\"\n",
        "\n",
        "my_str = \"Hello, World!\"\n",
        "aaa = my_str.find(\"W\")\n",
        "print(aaa) # 출력: 7"
      ],
      "metadata": {
        "colab": {
          "base_uri": "https://localhost:8080/"
        },
        "id": "Z0NU4YqE4xex",
        "outputId": "7df29916-e0c4-40a8-8f68-a4ccc5ae8ea1"
      },
      "execution_count": 52,
      "outputs": [
        {
          "output_type": "stream",
          "name": "stdout",
          "text": [
            "['Hello,', 'world!']\n",
            "Hello, World!\n",
            "Hello, Python!\n",
            "0\n"
          ]
        }
      ]
    }
  ]
}